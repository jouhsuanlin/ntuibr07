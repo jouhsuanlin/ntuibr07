{
 "cells": [
  {
   "cell_type": "code",
   "execution_count": 9,
   "metadata": {},
   "outputs": [],
   "source": [
    "# 匯入縣市區域字典\n",
    "import pickle\n",
    "with open('city_area_road.pkl', 'rb') as f:\n",
    "    data = pickle.load(f)\n"
   ]
  },
  {
   "cell_type": "code",
   "execution_count": 56,
   "metadata": {},
   "outputs": [
    {
     "ename": "AttributeError",
     "evalue": "'function' object has no attribute 'bind'",
     "output_type": "error",
     "traceback": [
      "\u001b[1;31m---------------------------------------------------------------------------\u001b[0m",
      "\u001b[1;31mAttributeError\u001b[0m                            Traceback (most recent call last)",
      "\u001b[1;32m<ipython-input-56-c5f6fc4a7b6a>\u001b[0m in \u001b[0;36m<module>\u001b[1;34m\u001b[0m\n\u001b[0;32m     36\u001b[0m \u001b[1;31m#Design().Drop_down_list(\"所選地區 : \", 0)\u001b[0m\u001b[1;33m\u001b[0m\u001b[1;33m\u001b[0m\u001b[1;33m\u001b[0m\u001b[0m\n\u001b[0;32m     37\u001b[0m \u001b[0ma\u001b[0m \u001b[1;33m=\u001b[0m \u001b[0mDesign\u001b[0m\u001b[1;33m(\u001b[0m\u001b[1;33m)\u001b[0m\u001b[1;33m.\u001b[0m\u001b[0mDrop_down_list\u001b[0m\u001b[1;33m(\u001b[0m\u001b[1;34m\"所選地區 : \"\u001b[0m\u001b[1;33m,\u001b[0m \u001b[1;36m0\u001b[0m\u001b[1;33m)\u001b[0m\u001b[1;33m\u001b[0m\u001b[1;33m\u001b[0m\u001b[0m\n\u001b[1;32m---> 38\u001b[1;33m \u001b[0mDesign\u001b[0m\u001b[1;33m(\u001b[0m\u001b[1;33m)\u001b[0m\u001b[1;33m.\u001b[0m\u001b[0mself_city\u001b[0m\u001b[1;33m.\u001b[0m\u001b[0mbind\u001b[0m\u001b[1;33m(\u001b[0m\u001b[1;34m\"<<ComboboxSelected>>\"\u001b[0m\u001b[1;33m,\u001b[0m \u001b[0mDesign\u001b[0m\u001b[1;33m(\u001b[0m\u001b[1;33m)\u001b[0m\u001b[1;33m.\u001b[0m\u001b[0mChosen\u001b[0m\u001b[1;33m(\u001b[0m\u001b[1;36m0\u001b[0m\u001b[1;33m)\u001b[0m\u001b[1;33m)\u001b[0m\u001b[1;33m\u001b[0m\u001b[1;33m\u001b[0m\u001b[0m\n\u001b[0m\u001b[0;32m     39\u001b[0m \u001b[0mDesign\u001b[0m\u001b[1;33m(\u001b[0m\u001b[1;33m)\u001b[0m\u001b[1;33m.\u001b[0m\u001b[0mDrop_down_list\u001b[0m\u001b[1;33m(\u001b[0m\u001b[1;34m\"比較地區1 : \"\u001b[0m\u001b[1;33m,\u001b[0m \u001b[1;36m1\u001b[0m\u001b[1;33m)\u001b[0m\u001b[1;33m\u001b[0m\u001b[1;33m\u001b[0m\u001b[0m\n\u001b[0;32m     40\u001b[0m \u001b[0mDesign\u001b[0m\u001b[1;33m(\u001b[0m\u001b[1;33m)\u001b[0m\u001b[1;33m.\u001b[0m\u001b[0mDrop_down_list\u001b[0m\u001b[1;33m(\u001b[0m\u001b[1;34m\"比較地區2 : \"\u001b[0m\u001b[1;33m,\u001b[0m \u001b[1;36m2\u001b[0m\u001b[1;33m)\u001b[0m\u001b[1;33m\u001b[0m\u001b[1;33m\u001b[0m\u001b[0m\n",
      "\u001b[1;31mAttributeError\u001b[0m: 'function' object has no attribute 'bind'"
     ]
    }
   ],
   "source": [
    "import tkinter as tk\n",
    "from tkinter import ttk\n",
    "\n",
    "class Design(tk.Frame):\n",
    "    def __int__(self):\n",
    "        tk.Frame.__int__(self)\n",
    "        self.grid()\n",
    "\n",
    "    def Drop_down_list(self, title, title_row):\n",
    "        labelTop = tk.Label(cal, text = title)\n",
    "        labelTop.grid(column = 0, row = title_row)\n",
    "        self.City = ttk.Combobox(cal, values = list(data.keys()))\n",
    "        self.City.grid(column=1, row=title_row)\n",
    "        self.City.current(0)\n",
    "        self.Region = ttk.Combobox(cal, values = [\"鄉鎮區\"])\n",
    "        self.Region.grid(column=2, row=title_row)\n",
    "        self.Region.current(0)\n",
    "        self.City.bind(\"<<ComboboxSelected>>\", self.Chosen(title_row))\n",
    "        \n",
    "    def self_city(self):\n",
    "        return self.City\n",
    "\n",
    "    def Chosen(self, title_row):\n",
    "        self.var_Selected = self.City.get()\n",
    "        self.Region = ttk.Combobox(cal, values = list(data[self.var_Selected].keys()))\n",
    "        self.Region.grid(column=2, row=title_row)\n",
    "        self.Region.current(0)\n",
    "        \n",
    "\n",
    "# GUI頁面建立\n",
    "cal = tk.Tk()\n",
    "cal.title(\"南波灣住區生活品質檢測\")\n",
    "cal.geometry('1000x500')\n",
    "\n",
    "## 下拉式選單建立\n",
    "#Design().Drop_down_list(\"所選地區 : \", 0)\n",
    "a = Design().Drop_down_list(\"所選地區 : \", 0)\n",
    "Design().self_city.bind(\"<<ComboboxSelected>>\", Design().Chosen(0))\n",
    "Design().Drop_down_list(\"比較地區1 : \", 1)\n",
    "Design().Drop_down_list(\"比較地區2 : \", 2)\n",
    "\n",
    "cal.mainloop()\n",
    "\n",
    "\n",
    "\n",
    "\n",
    "\n",
    "\n",
    "\n",
    "\n",
    "\"\"\"\n",
    "# 比較地區1\n",
    "\n",
    "def Chosen1(city1):\n",
    "    if City1.get() in data.keys():\n",
    "        Region1 = ttk.Combobox(cal, values = [\"鄉鎮區\", \"北投區\", \"大安區\", \"信義區\"])\n",
    "    if City1.get() == \"新北市\":\n",
    "        Region1 = ttk.Combobox(cal, values = [\"鄉鎮區\", \"板橋區\", \"土城區\", \"中和區\"])\n",
    "    Region1.grid(column=2, row=1)\n",
    "    Region1.current(0)\n",
    "\n",
    "City1.bind(\"<<ComboboxSelected>>\", Chosen1)\n",
    "\n",
    "# 比較地區2\n",
    "\n",
    "def Chosen2(city2):\n",
    "    if City2.get() == \"台北市\":\n",
    "        Region2 = ttk.Combobox(cal, values = [\"鄉鎮區\", \"北投區\", \"大安區\", \"信義區\"])\n",
    "    if City2.get() == \"新北市\":\n",
    "        Region2 = ttk.Combobox(cal, values = [\"鄉鎮區\", \"板橋區\", \"土城區\", \"中和區\"])\n",
    "    Region2.grid(column=2, row=2)\n",
    "    Region2.current(0)\n",
    "\n",
    "City2.bind(\"<<ComboboxSelected>>\", Chosen2)\n",
    "\"\"\"\n",
    "\n"
   ]
  },
  {
   "cell_type": "code",
   "execution_count": 1,
   "metadata": {},
   "outputs": [],
   "source": [
    "import tkinter as tk\n",
    "from tkinter import ttk\n",
    "\n",
    "class Design(tk.Frame):\n",
    "    def __int__(self):\n",
    "        tk.Frame.__int__(self)\n",
    "        self.grid()\n",
    "\n",
    "# GUI頁面建立\n",
    "cal = tk.Tk()\n",
    "cal.title(\"南波灣住區生活品質檢測\")\n",
    "cal.geometry('1000x500')\n",
    "\n",
    "## 下拉式選單建立\n",
    "# 所選地區\n",
    "labelTop = tk.Label(cal, text = \"所選地區 : \")\n",
    "labelTop.grid(column=0, row=0)\n",
    "\n",
    "City = ttk.Combobox(cal, values=[\"縣市\", \"台北市\", \"新北市\"])\n",
    "City.grid(column=1, row=0)\n",
    "City.current(0)\n",
    "Region = ttk.Combobox(cal, values = [\"鄉鎮區\"])\n",
    "Region.grid(column=2, row=0)\n",
    "Region.current(0)\n",
    "\n",
    "def Chosen(city):\n",
    "    if City.get() == \"台北市\":\n",
    "        Region = ttk.Combobox(cal, values = [\"鄉鎮區\", \"北投區\", \"大安區\", \"信義區\"])\n",
    "    if City.get() == \"新北市\":\n",
    "        Region = ttk.Combobox(cal, values = [\"鄉鎮區\", \"板橋區\", \"土城區\", \"中和區\"])\n",
    "    Region.grid(column=2, row=0)\n",
    "    Region.current(0)\n",
    "\n",
    "City.bind(\"<<ComboboxSelected>>\", Chosen)\n",
    "\n",
    "# 比較地區1\n",
    "labelTop = tk.Label(cal, text = \"比較地區1 : \")\n",
    "labelTop.grid(column=0, row=1)\n",
    "\n",
    "City1 = ttk.Combobox(cal, values=[\"縣市\", \"台北市\", \"新北市\"])\n",
    "City1.grid(column=1, row=1)\n",
    "City1.current(0)\n",
    "Region1 = ttk.Combobox(cal, values = [\"鄉鎮區\"])\n",
    "Region1.grid(column=2, row=1)\n",
    "Region1.current(0)\n",
    "\n",
    "def Chosen1(city1):\n",
    "    if City1.get() == \"台北市\":\n",
    "        Region1 = ttk.Combobox(cal, values = [\"鄉鎮區\", \"北投區\", \"大安區\", \"信義區\"])\n",
    "    if City1.get() == \"新北市\":\n",
    "        Region1 = ttk.Combobox(cal, values = [\"鄉鎮區\", \"板橋區\", \"土城區\", \"中和區\"])\n",
    "    Region1.grid(column=2, row=1)\n",
    "    Region1.current(0)\n",
    "\n",
    "City1.bind(\"<<ComboboxSelected>>\", Chosen1)\n",
    "\n",
    "# 比較地區2\n",
    "labelTop = tk.Label(cal, text = \"比較地區2 : \")\n",
    "labelTop.grid(column=0, row=2)\n",
    "\n",
    "City2 = ttk.Combobox(cal, values=[\"縣市\", \"台北市\", \"新北市\"])\n",
    "City2.grid(column=1, row=2)\n",
    "City2.current(0)\n",
    "Region2 = ttk.Combobox(cal, values = [\"鄉鎮區\"])\n",
    "Region2.grid(column=2, row=2)\n",
    "Region2.current(0)\n",
    "\n",
    "def Chosen2(city2):\n",
    "    if City2.get() == \"台北市\":\n",
    "        Region2 = ttk.Combobox(cal, values = [\"鄉鎮區\", \"北投區\", \"大安區\", \"信義區\"])\n",
    "    if City2.get() == \"新北市\":\n",
    "        Region2 = ttk.Combobox(cal, values = [\"鄉鎮區\", \"板橋區\", \"土城區\", \"中和區\"])\n",
    "    Region2.grid(column=2, row=2)\n",
    "    Region2.current(0)\n",
    "\n",
    "City2.bind(\"<<ComboboxSelected>>\", Chosen2)\n",
    "\n",
    "cal.mainloop()\n"
   ]
  },
  {
   "cell_type": "code",
   "execution_count": 8,
   "metadata": {},
   "outputs": [
    {
     "data": {
      "text/plain": [
       "dict_keys(['中正區', '大同區', '中山區', '松山區', '大安區', '萬華區', '信義區', '士林區', '北投區', '內湖區', '南港區', '文山區'])"
      ]
     },
     "execution_count": 8,
     "metadata": {},
     "output_type": "execute_result"
    }
   ],
   "source": [
    "data['臺北市'].keys()"
   ]
  },
  {
   "cell_type": "code",
   "execution_count": 16,
   "metadata": {},
   "outputs": [
    {
     "data": {
      "text/plain": [
       "['臺北市',\n",
       " '基隆市',\n",
       " '新北市',\n",
       " '連江縣',\n",
       " '宜蘭縣',\n",
       " '釣魚臺',\n",
       " '新竹市',\n",
       " '新竹縣',\n",
       " '桃園市',\n",
       " '苗栗縣',\n",
       " '臺中市',\n",
       " '彰化縣',\n",
       " '南投縣',\n",
       " '嘉義市',\n",
       " '嘉義縣',\n",
       " '雲林縣',\n",
       " '臺南市',\n",
       " '高雄市',\n",
       " '南海島',\n",
       " '澎湖縣',\n",
       " '金門縣',\n",
       " '屏東縣',\n",
       " '臺東縣',\n",
       " '花蓮縣']"
      ]
     },
     "execution_count": 16,
     "metadata": {},
     "output_type": "execute_result"
    }
   ],
   "source": [
    "list(data.keys())"
   ]
  },
  {
   "cell_type": "code",
   "execution_count": null,
   "metadata": {},
   "outputs": [],
   "source": []
  }
 ],
 "metadata": {
  "kernelspec": {
   "display_name": "Python 3",
   "language": "python",
   "name": "python3"
  },
  "language_info": {
   "codemirror_mode": {
    "name": "ipython",
    "version": 3
   },
   "file_extension": ".py",
   "mimetype": "text/x-python",
   "name": "python",
   "nbconvert_exporter": "python",
   "pygments_lexer": "ipython3",
   "version": "3.7.4"
  }
 },
 "nbformat": 4,
 "nbformat_minor": 2
}
