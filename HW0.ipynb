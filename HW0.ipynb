{
 "cells": [
  {
   "cell_type": "code",
   "execution_count": 1,
   "metadata": {},
   "outputs": [
    {
     "name": "stdout",
     "output_type": "stream",
     "text": [
      "98\n",
      "0\n",
      "0\n",
      "0\n",
      "2\n"
     ]
    }
   ],
   "source": [
    "expense=int(input())\n",
    "cash_total=100-expense\n",
    "\n",
    "fifty=cash_total//50\n",
    "cash_fifty=cash_total-50*fifty\n",
    "\n",
    "ten=cash_fifty//10\n",
    "cash_ten=cash_fifty-10*ten\n",
    "\n",
    "five=cash_ten//5\n",
    "cash_five=cash_ten-5*five\n",
    "\n",
    "one=cash_five//1\n",
    "\n",
    "print(fifty)\n",
    "print(ten)\n",
    "print(five)\n",
    "print(one)"
   ]
  },
  {
   "cell_type": "code",
   "execution_count": null,
   "metadata": {},
   "outputs": [],
   "source": []
  }
 ],
 "metadata": {
  "kernelspec": {
   "display_name": "Python 3",
   "language": "python",
   "name": "python3"
  },
  "language_info": {
   "codemirror_mode": {
    "name": "ipython",
    "version": 3
   },
   "file_extension": ".py",
   "mimetype": "text/x-python",
   "name": "python",
   "nbconvert_exporter": "python",
   "pygments_lexer": "ipython3",
   "version": "3.7.1"
  }
 },
 "nbformat": 4,
 "nbformat_minor": 2
}
