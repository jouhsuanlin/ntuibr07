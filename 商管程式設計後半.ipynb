{
 "cells": [
  {
   "cell_type": "markdown",
   "metadata": {},
   "source": [
    "(20 分)本題將給定一個句子，此句子由一堆英文字母、數字、僅包含「,.:;!?」的標點符號和空白所 組成，所有符號皆為半形。請試著將句子中所有單獨出現的數字 0 改為英文單字「zero」。請注意:單獨 出現的定義為不跟其他英文字母或數字連在一起，但可以跟標點符號相鄰。舉例來說:「Among the 10 students, two got 0 point.」此句中的 10 即為非獨立出現的 0，因此不需要改為「zero」;而後面的 0 因 單獨出現，所以要改為「zero」。如果沒有任何需要被取代的單獨的「0」，那就直接把原本的輸入一模一 樣地輸出即可。\n",
    "\n",
    "輸入輸出格式\n",
    "系統會提供一共 10 組測試資料，每組測試資料裝在一個檔案裡。每個檔案中會有一行，包含一個由英 文字母、數字、標點符號 ,.:;!? 和空白組成的句子。已知一個句子的字元不超過 1000 個、一個單字 的字元不超過 50 個，總共不超過 100 個單字。讀入資料後，請輸出符合上述規定的英文句子。"
   ]
  },
  {
   "cell_type": "code",
   "execution_count": 456,
   "metadata": {},
   "outputs": [
    {
     "name": "stdout",
     "output_type": "stream",
     "text": [
      "0,0\n",
      "zero,zero\n"
     ]
    }
   ],
   "source": [
    "sentence = input()\n",
    "new_string = ''\n",
    "number = [str(x) for x in range(0,10)]\n",
    "        \n",
    "def condition_one(one , two, three): # 小寫\n",
    "    lists = [',' , '?', '!', ':', '.', ' ',';', None]\n",
    "    if (one in lists) & (three in lists):\n",
    "        return True\n",
    "    return False\n",
    "\n",
    "i =0 \n",
    "while i < len(sentence):\n",
    "    if len(sentence) == 1:\n",
    "        char = 'zero' if sentence[i] == '0' else sentence[i]\n",
    "        new_string += char\n",
    "        break\n",
    "    char = sentence[i]\n",
    "    if  (sentence[i] == '0'):\n",
    "\n",
    "        if (i == 0) :\n",
    "            if condition_one(None, sentence[i],sentence[i+1]):\n",
    "                char = 'zero'\n",
    "        elif (i == (len(sentence)-1)):\n",
    "            if condition_one(sentence[i-1], sentence[i], None):\n",
    "                char = 'zero'\n",
    "        elif condition_one(sentence[i-1], sentence[i],sentence[i+1]):\n",
    "            char = 'zero'\n",
    "\n",
    "    new_string += char\n",
    "    i += 1\n",
    "            \n",
    "print(new_string)          \n",
    "\n",
    "\n"
   ]
  },
  {
   "cell_type": "code",
   "execution_count": null,
   "metadata": {},
   "outputs": [],
   "source": []
  },
  {
   "cell_type": "code",
   "execution_count": null,
   "metadata": {},
   "outputs": [],
   "source": [
    "\n"
   ]
  },
  {
   "cell_type": "code",
   "execution_count": null,
   "metadata": {},
   "outputs": [],
   "source": []
  },
  {
   "cell_type": "code",
   "execution_count": null,
   "metadata": {},
   "outputs": [],
   "source": []
  },
  {
   "cell_type": "markdown",
   "metadata": {},
   "source": [
    "30 分)有一個關於寫作的建議(特別是針對初學者)是「句子不要寫太長」。因此，計算一個句子平均 含有幾個字，可能有其用途。本題將給定一段由英文字母、數字、標點符號和空白組成的段落，這次要 計算的是此段落中有幾個句子，以及每個句子平均有幾個單字(無條件捨去至整數位)。注意:本題段 落中的標點符號除了上題的「,.:;!?」以外，還新增了「\"'-」。前面的「,.:;!?」決定了總共有幾個句 子，意指兩個分隔句子的標點符號與開頭跟結尾，只要中間不是空的或只有空白，就當成一個句子。後 面的「\"'-」則不算分隔句子的標點符號，甚至也不做為詞的分隔，但單獨出現時要算一個詞。舉例來 說:「Among the ten students, two got zero.」因開頭與逗號之間和逗號與句號之間皆不是空的或只有空 白，因此判定為兩個句子，前句有 4 個單字，後句有 3 個單字，則平均下來 (4 + 3)/2 = 3.5，無條件 捨去至整數位，可得 3;若是「“Hello! I am twenty-two years old. I am a student. I live in Taipei.” he said」因符號 — 和符號 \" 皆不可作為句子完成的判定依據，因此此段落僅有 5 個句子(即使最後沒有 句點)，單字分別有 1、5、4、4 和 2 個，因此平均每句有 (1 + 5 + 4 + 4 + 2)/5 = 3.2，無條件捨去至整 數位，可得 3 個單字。請注意「twenty-two」是一個詞而非兩個詞，因為「-」不是分隔詞的符號;若是\n",
    "「A.-.Z...」則有 3 個句子，每個句子僅包含一個單字。\n",
    "\n",
    "系統會提供一共 10 組測試資料，每組測試資料裝在一個檔案裡。在每個檔案中，第一行會有一段由英 文字母、數字、標點符號(,.:;!?\"'-)和空白所組成的句子。已知一個句子的字元不超過 1000 個、一 個單字的字元不超過 50 個，總共不超過 1000 個單字。且保證每一題都有一個句子以上。讀入這些資訊 後，請依照題目指定的規則，輸出該段落的句子數，以及平均每句有幾個單字(無條件捨去到整數位)， 兩者以一個逗號隔開。\n"
   ]
  },
  {
   "cell_type": "code",
   "execution_count": 593,
   "metadata": {},
   "outputs": [
    {
     "name": "stdout",
     "output_type": "stream",
     "text": [
      "Among the ten students, two got zero.\n",
      "2,3\n"
     ]
    }
   ],
   "source": [
    "sentence = input()\n",
    "B = sentence.split(',')\n",
    "cut = [',', '.', ':', ';', '!', '?']\n",
    "\n",
    "i = 0\n",
    "while i < len(B):           # 確保每一句裡面都沒有分割符號\n",
    "    boolin = True\n",
    "    for x in cut:\n",
    "        if x in B[i]:\n",
    "            boolin = False\n",
    "            C = B[i].split(x)\n",
    "            B.remove(B[i])\n",
    "            for y in C:\n",
    "                B.append(y)\n",
    "            break\n",
    "    if boolin is True:\n",
    "        i += 1\n",
    "\n",
    "B = [x.strip() for x in B]\n",
    "B = [x for x in B if len(x) > 0]    # 切出的所有句子\n",
    "\n",
    "num_sentence = len(B)            # 句子數目\n",
    "num_word = 0\n",
    "i = 0\n",
    "while i < len(B):\n",
    "    word = [x for x in B[i].split(' ') if (len(x) > 0)]\n",
    "    num_word += len(word)\n",
    "    i += 1\n",
    "\n",
    "print(str(num_sentence) + ',' + str(int(num_word / num_sentence)))\n"
   ]
  },
  {
   "cell_type": "markdown",
   "metadata": {},
   "source": [
    "為什麼中文特別困難?因為許多字單字不成詞(例如:彷彿、猶豫);也有單字成詞(例如:等、 我)，然而中文是以詞為單位，字並沒有任何意義。要讓電腦讀懂中文句子，第一步必須先斷詞。舉例 來說:「天空中有沒有顆星星等著我」，我們能理解成「天空中/有沒有/顆/星星/等著我」或是「天 空/中/有沒有/顆/星星/等著/我」，雖然不盡然相同，但都是合理的。不過沒人告訴電腦怎麼斷 詞，因此它有可能理解成「天/空/中/有/沒/有/顆/星/星/等/著/我」，或斷詞錯誤變成「天 空中/有/沒有/顆/星/星等/著/我」。後面的兩種情況皆失去或多了許多詞的意思，進而與原本 句義不同。本題中我們將給定一組辭典，並請你實作兩種斷詞演算法。"
   ]
  },
  {
   "cell_type": "code",
   "execution_count": 397,
   "metadata": {
    "scrolled": true
   },
   "outputs": [
    {
     "name": "stdout",
     "output_type": "stream",
     "text": [
      "天空,天空中,有,沒有,有沒有,有顆,星星,星等,等著我,等著,我\n",
      "沒有沒有天空中有天空沒有顆星我星等著我\n",
      "沒有/沒有/天空中/有/天空/沒有/顆/星/我/星等/著/我\n",
      "沒/有沒有/天空中/有/天空/沒/有顆/星/我/星/等著我\n"
     ]
    }
   ],
   "source": [
    "dictionary = input().split(',')\n",
    "inpt = input()\n",
    "out = []\n",
    "\n",
    "i = 0 \n",
    "while i < len(inpt):\n",
    "    boolin = False\n",
    "    for y in range(0,3):\n",
    "        for x in dictionary:\n",
    "            if (inpt[i : i+3] == x) & (y == 0):\n",
    "                out.append(inpt[i : i+3])\n",
    "                i += 3\n",
    "                boolin = True\n",
    "                break\n",
    "            elif (inpt[i : i+2] == x) & (y == 1):\n",
    "                out.append(inpt[i : i+2])\n",
    "                i += 2\n",
    "                boolin = True\n",
    "                break\n",
    "            elif y == 2:\n",
    "                out.append(inpt[i])\n",
    "                i += 1\n",
    "                boolin = True\n",
    "                break\n",
    "        if boolin == True:\n",
    "            break\n",
    "out_r = []    \n",
    "i = len(inpt) \n",
    "while i > 0:\n",
    "    boolin = False\n",
    "    for y in range(0,3):\n",
    "        for x in dictionary:\n",
    "            if (inpt[i-3 : i] == x) & (y == 0) & ( (i - 3) >= 0):\n",
    "                out_r.insert(0, inpt[i-3 : i])\n",
    "                i -= 3\n",
    "                boolin = True\n",
    "                break\n",
    "            elif (inpt[i-2 : i] == x) & (y == 1) & ((i - 2) >= 0):\n",
    "                out_r.insert(0, inpt[i-2 : i])\n",
    "                i -= 2\n",
    "                boolin = True\n",
    "                break\n",
    "            elif y == 2:\n",
    "                out_r.insert(0, inpt[i-1])\n",
    "                i -= 1\n",
    "                boolin = True\n",
    "                break\n",
    "        if boolin == True:\n",
    "            break        \n",
    "            \n",
    "Total_out =  []\n",
    "Total_out.append(out)\n",
    "Total_out.append(out_r)\n",
    "\n",
    "for x in range(0,2):\n",
    "    i = 0\n",
    "    while i < len(Total_out[x]):\n",
    "        if i == (len(Total_out[x])-1):\n",
    "            print(Total_out[x][i])\n",
    "        else:\n",
    "            print(Total_out[x][i], end = '/')\n",
    "        i += 1\n",
    "                 \n",
    "        \n",
    "            "
   ]
  },
  {
   "cell_type": "code",
   "execution_count": 601,
   "metadata": {
    "scrolled": false
   },
   "outputs": [
    {
     "name": "stdout",
     "output_type": "stream",
     "text": [
      "天空,天空中,有,沒有,有沒有,有顆,星星,星等,等著我,等著,我\n",
      "沒有沒有天空中有天空沒有顆星我星等著我\n",
      "沒有/沒有/天空中/有/天空/沒有/顆/星/我/星等/著/我\n",
      "沒/有沒有/天空中/有/天空/沒/有顆/星/我/星/等著我\n"
     ]
    }
   ],
   "source": [
    "dictionary = input().split(',')        # 輸入字典\n",
    "inpt = input()\n",
    "out = []\n",
    "\n",
    "i = 0\n",
    "while i < len(inpt):                      # 由前往後\n",
    "    if inpt[i:i+3] in dictionary:\n",
    "        out.append(inpt[i:i+3])\n",
    "        i += 3\n",
    "    elif inpt[i:i+2] in dictionary:\n",
    "        out.append(inpt[i:i+2])\n",
    "        i += 2\n",
    "    else:\n",
    "        out.append(inpt[i])\n",
    "        i += 1\n",
    "out_r = []\n",
    "i = len(inpt)\n",
    "while i > 0:                             # 由後往前\n",
    "    if (inpt[i-3:i] in dictionary) & ((i - 3) >= 0):\n",
    "        out_r.insert(0, inpt[i-3:i])\n",
    "        i -= 3\n",
    "    elif (inpt[i-2:i] in dictionary) & ((i - 2) >= 0):\n",
    "        out_r.insert(0, inpt[i-2:i])\n",
    "        i -= 2\n",
    "    else:\n",
    "        out_r.insert(0, inpt[i-1])\n",
    "        i -= 1\n",
    "\n",
    "print('/'.join(out))\n",
    "print('/'.join(out_r))\n",
    "                 \n",
    "        \n",
    "            "
   ]
  },
  {
   "cell_type": "markdown",
   "metadata": {},
   "source": [
    "20 分)本題將給定一個 YouBike 借還記錄的 csv 檔，裡面包含了日期(年/月/日，一律是 yyyy/mm/dd 這種格式，mm 跟 dd 如果不滿兩位數就會只寫一個數字，例如 2019/7/1)、小時(0 到 23 的整數，0 表示 0:00-1:00、15 表示 15:00-16:00，依此類推)、該日該小時的借車量(非負整數)、是否為上班日(1 為上班、0 為假日)。四個欄位的名稱依序為 date、hour、lent、workingday。附件的 gongguan.csv 是 一個範例。請注意這只是一個範例，供大家參考其格式，實際大家在 PDOGS 上讀取到的檔案內容和此 範例未必相同(例如:可能不只有 2017 年 7 月一個月份的資料)。\n",
    "\n",
    "此題要計算的為指定篩選條件下的 YouBike 總租借量。題目會先給定判斷的依據，首先是一個字 元，D 表示日期、H 表示小時、W 表示是否為上班天、K 表示星期幾，再給定確切的篩選標準，用一 個數字表示，篩選條件為 D 時合理的數字為介於 1 和 31 之間的整數、為 H 時為介於 0 到 23 之間的 整數、為 W 時為 1 或 0、為 K 時為 1 到 7 之間的整數，所有範圍均包含兩端點的數字。舉例來說，若 題目給定為 D 和 23，即是要計算給定資料檔中所有日期為 23 號的 YouBike 借車量總和;若檔案中找 不到符合此規則的，則輸出總借還量為 0;若給定的數字不在上述指定的合理範圍內(例如日期為 32、 小時為 91 等)，則輸出 −1。\n",
    "\n",
    "輸入輸出格式\n",
    "系統會提供一共 10 組測試資料，每組測試資料裝在一個檔案裡。每個檔案中會有兩行，第一行為 csv 檔的路徑，請直接把這個路徑放進你要讀取 CSV 檔的函數中。第二行為一個代表篩選依據的英文字母 和一個字元(注意:不一定是數字，有可能為不符合規則的字元)，兩者以一個逗點隔開，讀入資料後， 請輸出符合上述規定的總借車量或 −1。"
   ]
  },
  {
   "cell_type": "code",
   "execution_count": 8,
   "metadata": {},
   "outputs": [
    {
     "name": "stdout",
     "output_type": "stream",
     "text": [
      "K,I\n",
      "-1\n"
     ]
    }
   ],
   "source": [
    "import datetime as DT\n",
    "#Path = '/Users/lanjingyi/python code/python practice/gongguan.csv'\n",
    "file = input()\n",
    "filters = input().split(',')\n",
    "\n",
    "with open(file, 'r') as f:\n",
    "    A = f.readlines()\n",
    "    \n",
    "Data = [x.strip('\\n').split(',') for x in A]\n",
    "Data.remove(Data[0])\n",
    "\n",
    "for x in range(0,len(Data)):         # 排列：日期0/小時1/數量2/是否工作天3/星期4\n",
    "    new_date = Data[x][0].split('/')\n",
    "    week_day = DT.datetime(int(new_date[0]), int(new_date[1]), int(new_date[2])).weekday()\n",
    "    Data[x].remove(Data[x][0])\n",
    "    Data[x].insert(0, new_date[2])\n",
    "    Data[x][2] = int(Data[x][2])\n",
    "    Data[x].append(str(week_day+1))\n",
    "    \n",
    "dic = {'D': 0, 'H': 1, 'W': 3 ,'K':4}\n",
    "out = {'D': [str(x) for x in range(1, 32)],\\\n",
    "         'H': [str(x) for x in range(0, 24)],\\\n",
    "         'W':[str(x) for x in range(0, 2)],\\\n",
    "         'K': [str(x) for x in range(1,8)]}\n",
    "\n",
    "def rent_sum(std, rang):\n",
    "    if rang not in out[std]:\n",
    "        return -1\n",
    "    rent_num = 0\n",
    "    for x in range(0,len(Data)): \n",
    "        if Data[x][dic[std]] == rang:\n",
    "            rent_num += Data[x][2]\n",
    "    return rent_num\n",
    "\n",
    "print(rent_sum(filters[0], filters[1]))            \n",
    "        \n",
    "    "
   ]
  },
  {
   "cell_type": "code",
   "execution_count": 2,
   "metadata": {},
   "outputs": [
    {
     "name": "stdout",
     "output_type": "stream",
     "text": [
      "[['1', '0', 17, '0', '6'], ['1', '1', 6, '0', '6'], ['1', '2', 4, '0', '6'], ['1', '3', 3, '0', '6'], ['1', '4', 4, '0', '6'], ['1', '5', 2, '0', '6'], ['1', '6', 13, '0', '6'], ['1', '7', 32, '0', '6'], ['1', '8', 57, '0', '6'], ['1', '9', 50, '0', '6']]\n"
     ]
    }
   ],
   "source": [
    "print(Data[0:10])"
   ]
  },
  {
   "cell_type": "markdown",
   "metadata": {},
   "source": [
    "第二題\n",
    "(30 分)承上題，本題變成給定多重條件，在四種篩選條件的任意一種中，可以被指定複數個要被「OR」 起來的數字，例如日期同時給定 4 號、11 號、1 號和 23 號，就表示要去搜尋這四個日子的記錄。四 種篩選條件被給定數種時，在條件之間則以「AND」方式處理。舉例來說，假設日期同時給定 4 號、 11 號、1 號和 23 號，小時同時給定 10 時、11 時、12 時、13 時、14 時和 15 時，是否為工作天給定是」，則換成條件敘述即為找出 4 號和 11 號(1 號和 23 號非工作天)中 10 : 00 到 15 : 00 的 YouBike 總借車量，注意給定的判斷依據可能有 1 到 4 個，且順序沒有固定，若沒有符合條件的借車紀錄則輸出 0;若條件有任一項不符合常理範圍，一樣輸出 −1。\n",
    "\n",
    "輸入輸出格式\n",
    "系統會提供一共 10 組測試資料，每組測試資料裝在一個檔案裡。每個檔案中會有 n + 2 行，第一行為 CSV 檔的路徑，第二行為一個整數 n，代表篩選的條件數，第三行起則每行皆有一個代表篩選條件的英 文字母，以及一個或數個字元(注意:不一定是數字，有可能為不符合規則的字元)，各字元或數字間 皆以一個逗號隔開(相同字元和數字有可能會重複出現同一行)，讀入資料後，請輸出符合上述規定的 總借車量或 −1。\n",
    "\n"
   ]
  },
  {
   "cell_type": "code",
   "execution_count": 1,
   "metadata": {
    "scrolled": true
   },
   "outputs": [
    {
     "ename": "KeyboardInterrupt",
     "evalue": "",
     "output_type": "error",
     "traceback": [
      "\u001b[0;31m---------------------------------------------------------------------------\u001b[0m",
      "\u001b[0;31mKeyboardInterrupt\u001b[0m                         Traceback (most recent call last)",
      "\u001b[0;32m/anaconda3/lib/python3.6/site-packages/ipykernel/kernelbase.py\u001b[0m in \u001b[0;36m_input_request\u001b[0;34m(self, prompt, ident, parent, password)\u001b[0m\n\u001b[1;32m    884\u001b[0m             \u001b[0;32mtry\u001b[0m\u001b[0;34m:\u001b[0m\u001b[0;34m\u001b[0m\u001b[0;34m\u001b[0m\u001b[0m\n\u001b[0;32m--> 885\u001b[0;31m                 \u001b[0mident\u001b[0m\u001b[0;34m,\u001b[0m \u001b[0mreply\u001b[0m \u001b[0;34m=\u001b[0m \u001b[0mself\u001b[0m\u001b[0;34m.\u001b[0m\u001b[0msession\u001b[0m\u001b[0;34m.\u001b[0m\u001b[0mrecv\u001b[0m\u001b[0;34m(\u001b[0m\u001b[0mself\u001b[0m\u001b[0;34m.\u001b[0m\u001b[0mstdin_socket\u001b[0m\u001b[0;34m,\u001b[0m \u001b[0;36m0\u001b[0m\u001b[0;34m)\u001b[0m\u001b[0;34m\u001b[0m\u001b[0;34m\u001b[0m\u001b[0m\n\u001b[0m\u001b[1;32m    886\u001b[0m             \u001b[0;32mexcept\u001b[0m \u001b[0mException\u001b[0m\u001b[0;34m:\u001b[0m\u001b[0;34m\u001b[0m\u001b[0;34m\u001b[0m\u001b[0m\n",
      "\u001b[0;32m/anaconda3/lib/python3.6/site-packages/jupyter_client/session.py\u001b[0m in \u001b[0;36mrecv\u001b[0;34m(self, socket, mode, content, copy)\u001b[0m\n\u001b[1;32m    802\u001b[0m         \u001b[0;32mtry\u001b[0m\u001b[0;34m:\u001b[0m\u001b[0;34m\u001b[0m\u001b[0;34m\u001b[0m\u001b[0m\n\u001b[0;32m--> 803\u001b[0;31m             \u001b[0mmsg_list\u001b[0m \u001b[0;34m=\u001b[0m \u001b[0msocket\u001b[0m\u001b[0;34m.\u001b[0m\u001b[0mrecv_multipart\u001b[0m\u001b[0;34m(\u001b[0m\u001b[0mmode\u001b[0m\u001b[0;34m,\u001b[0m \u001b[0mcopy\u001b[0m\u001b[0;34m=\u001b[0m\u001b[0mcopy\u001b[0m\u001b[0;34m)\u001b[0m\u001b[0;34m\u001b[0m\u001b[0;34m\u001b[0m\u001b[0m\n\u001b[0m\u001b[1;32m    804\u001b[0m         \u001b[0;32mexcept\u001b[0m \u001b[0mzmq\u001b[0m\u001b[0;34m.\u001b[0m\u001b[0mZMQError\u001b[0m \u001b[0;32mas\u001b[0m \u001b[0me\u001b[0m\u001b[0;34m:\u001b[0m\u001b[0;34m\u001b[0m\u001b[0;34m\u001b[0m\u001b[0m\n",
      "\u001b[0;32m/anaconda3/lib/python3.6/site-packages/zmq/sugar/socket.py\u001b[0m in \u001b[0;36mrecv_multipart\u001b[0;34m(self, flags, copy, track)\u001b[0m\n\u001b[1;32m    469\u001b[0m         \"\"\"\n\u001b[0;32m--> 470\u001b[0;31m         \u001b[0mparts\u001b[0m \u001b[0;34m=\u001b[0m \u001b[0;34m[\u001b[0m\u001b[0mself\u001b[0m\u001b[0;34m.\u001b[0m\u001b[0mrecv\u001b[0m\u001b[0;34m(\u001b[0m\u001b[0mflags\u001b[0m\u001b[0;34m,\u001b[0m \u001b[0mcopy\u001b[0m\u001b[0;34m=\u001b[0m\u001b[0mcopy\u001b[0m\u001b[0;34m,\u001b[0m \u001b[0mtrack\u001b[0m\u001b[0;34m=\u001b[0m\u001b[0mtrack\u001b[0m\u001b[0;34m)\u001b[0m\u001b[0;34m]\u001b[0m\u001b[0;34m\u001b[0m\u001b[0;34m\u001b[0m\u001b[0m\n\u001b[0m\u001b[1;32m    471\u001b[0m         \u001b[0;31m# have first part already, only loop while more to receive\u001b[0m\u001b[0;34m\u001b[0m\u001b[0;34m\u001b[0m\u001b[0;34m\u001b[0m\u001b[0m\n",
      "\u001b[0;32mzmq/backend/cython/socket.pyx\u001b[0m in \u001b[0;36mzmq.backend.cython.socket.Socket.recv\u001b[0;34m()\u001b[0m\n",
      "\u001b[0;32mzmq/backend/cython/socket.pyx\u001b[0m in \u001b[0;36mzmq.backend.cython.socket.Socket.recv\u001b[0;34m()\u001b[0m\n",
      "\u001b[0;32mzmq/backend/cython/socket.pyx\u001b[0m in \u001b[0;36mzmq.backend.cython.socket._recv_copy\u001b[0;34m()\u001b[0m\n",
      "\u001b[0;32m/anaconda3/lib/python3.6/site-packages/zmq/backend/cython/checkrc.pxd\u001b[0m in \u001b[0;36mzmq.backend.cython.checkrc._check_rc\u001b[0;34m()\u001b[0m\n",
      "\u001b[0;31mKeyboardInterrupt\u001b[0m: ",
      "\nDuring handling of the above exception, another exception occurred:\n",
      "\u001b[0;31mKeyboardInterrupt\u001b[0m                         Traceback (most recent call last)",
      "\u001b[0;32m<ipython-input-1-e7c63ac20a91>\u001b[0m in \u001b[0;36m<module>\u001b[0;34m\u001b[0m\n\u001b[1;32m      1\u001b[0m \u001b[0;32mfrom\u001b[0m \u001b[0mdatetime\u001b[0m \u001b[0;32mimport\u001b[0m \u001b[0mdatetime\u001b[0m\u001b[0;34m\u001b[0m\u001b[0;34m\u001b[0m\u001b[0m\n\u001b[1;32m      2\u001b[0m \u001b[0;34m\u001b[0m\u001b[0m\n\u001b[0;32m----> 3\u001b[0;31m \u001b[0mfile\u001b[0m \u001b[0;34m=\u001b[0m \u001b[0minput\u001b[0m\u001b[0;34m(\u001b[0m\u001b[0;34m)\u001b[0m\u001b[0;34m\u001b[0m\u001b[0;34m\u001b[0m\u001b[0m\n\u001b[0m\u001b[1;32m      4\u001b[0m \u001b[0mn\u001b[0m \u001b[0;34m=\u001b[0m \u001b[0mint\u001b[0m\u001b[0;34m(\u001b[0m\u001b[0minput\u001b[0m\u001b[0;34m(\u001b[0m\u001b[0;34m)\u001b[0m\u001b[0;34m)\u001b[0m\u001b[0;34m\u001b[0m\u001b[0;34m\u001b[0m\u001b[0m\n\u001b[1;32m      5\u001b[0m \u001b[0mEn_cond\u001b[0m \u001b[0;34m=\u001b[0m \u001b[0;34m[\u001b[0m\u001b[0;34m]\u001b[0m\u001b[0;34m\u001b[0m\u001b[0;34m\u001b[0m\u001b[0m\n",
      "\u001b[0;32m/anaconda3/lib/python3.6/site-packages/ipykernel/kernelbase.py\u001b[0m in \u001b[0;36mraw_input\u001b[0;34m(self, prompt)\u001b[0m\n\u001b[1;32m    858\u001b[0m             \u001b[0mself\u001b[0m\u001b[0;34m.\u001b[0m\u001b[0m_parent_ident\u001b[0m\u001b[0;34m,\u001b[0m\u001b[0;34m\u001b[0m\u001b[0;34m\u001b[0m\u001b[0m\n\u001b[1;32m    859\u001b[0m             \u001b[0mself\u001b[0m\u001b[0;34m.\u001b[0m\u001b[0m_parent_header\u001b[0m\u001b[0;34m,\u001b[0m\u001b[0;34m\u001b[0m\u001b[0;34m\u001b[0m\u001b[0m\n\u001b[0;32m--> 860\u001b[0;31m             \u001b[0mpassword\u001b[0m\u001b[0;34m=\u001b[0m\u001b[0;32mFalse\u001b[0m\u001b[0;34m,\u001b[0m\u001b[0;34m\u001b[0m\u001b[0;34m\u001b[0m\u001b[0m\n\u001b[0m\u001b[1;32m    861\u001b[0m         )\n\u001b[1;32m    862\u001b[0m \u001b[0;34m\u001b[0m\u001b[0m\n",
      "\u001b[0;32m/anaconda3/lib/python3.6/site-packages/ipykernel/kernelbase.py\u001b[0m in \u001b[0;36m_input_request\u001b[0;34m(self, prompt, ident, parent, password)\u001b[0m\n\u001b[1;32m    888\u001b[0m             \u001b[0;32mexcept\u001b[0m \u001b[0mKeyboardInterrupt\u001b[0m\u001b[0;34m:\u001b[0m\u001b[0;34m\u001b[0m\u001b[0;34m\u001b[0m\u001b[0m\n\u001b[1;32m    889\u001b[0m                 \u001b[0;31m# re-raise KeyboardInterrupt, to truncate traceback\u001b[0m\u001b[0;34m\u001b[0m\u001b[0;34m\u001b[0m\u001b[0;34m\u001b[0m\u001b[0m\n\u001b[0;32m--> 890\u001b[0;31m                 \u001b[0;32mraise\u001b[0m \u001b[0mKeyboardInterrupt\u001b[0m\u001b[0;34m\u001b[0m\u001b[0;34m\u001b[0m\u001b[0m\n\u001b[0m\u001b[1;32m    891\u001b[0m             \u001b[0;32melse\u001b[0m\u001b[0;34m:\u001b[0m\u001b[0;34m\u001b[0m\u001b[0;34m\u001b[0m\u001b[0m\n\u001b[1;32m    892\u001b[0m                 \u001b[0;32mbreak\u001b[0m\u001b[0;34m\u001b[0m\u001b[0;34m\u001b[0m\u001b[0m\n",
      "\u001b[0;31mKeyboardInterrupt\u001b[0m: "
     ]
    }
   ],
   "source": [
    "import datetime as DT\n",
    "\n",
    "file = input()\n",
    "n = int(input())\n",
    "En_cond = []\n",
    "num_cond = []\n",
    "for x in range(0, n):\n",
    "    filters = input().split(',')\n",
    "    En_cond.append(filters[0])\n",
    "    num_cond.append(filters[1:])\n",
    "\n",
    "\n",
    "with open(file, 'r') as f:\n",
    "    A = f.readlines()\n",
    "\n",
    "Data = [x.strip('\\n').split(',') for x in A]\n",
    "Data.remove(Data[0])\n",
    "\n",
    "for x in range(0, len(Data)):         # 排列：日期0/小時1/數量2/是否工作天3/星期4\n",
    "    new_date = Data[x][0].split('/')\n",
    "    week_day = DT.datetime(int(new_date[0]), int(new_date[1]), int(new_date[2])).weekday()\n",
    "    Data[x].remove(Data[x][0])\n",
    "    Data[x].insert(0, new_date[2])\n",
    "    Data[x][2] = int(Data[x][2])\n",
    "    Data[x].append(str(week_day+1))\n",
    "\n",
    "dic = {'D': 0, 'H': 1, 'W': 3, 'K': 4}\n",
    "out = {'D': [str(x) for x in range(1, 32)],\\\n",
    "         'H': [str(x) for x in range(0, 24)],\\\n",
    "         'W': [str(x) for x in range(0, 2)],\\\n",
    "         'K': [str(x) for x in range(1, 8)]}\n",
    "\n",
    "\n",
    "def rent_sum(std, rang):             # std: DHWK 四種  rang: 所有條件的list\n",
    "    for x, y in zip(std, rang):\n",
    "        for z in y:\n",
    "            if z not in out[x]:\n",
    "                return -1\n",
    "    rent_num = 0\n",
    "    for z in range(0, len(Data)):\n",
    "        if determine(Data[z], std, rang):\n",
    "            rent_num += Data[z][2]\n",
    "    return rent_num\n",
    "\n",
    "def determine(data, std, rang):  # data 為一筆資料\n",
    "    for x,y in zip(std, rang):    \n",
    "        if data[dic[x]] not in y:\n",
    "            return False\n",
    "    return True\n",
    "\n",
    "print(rent_sum(En_cond, num_cond))\n"
   ]
  },
  {
   "cell_type": "code",
   "execution_count": null,
   "metadata": {},
   "outputs": [],
   "source": [
    "import datetime as DT\n",
    "#Path = '/Users/lanjingyi/python code/python practice/gongguan.csv'\n",
    "file = input()\n",
    "n = int(input())\n",
    "En_cond = []\n",
    "num_cond = []\n",
    "for x in range(0,n):\n",
    "    filters = input().split(',')\n",
    "    En_cond.append(filters[0])\n",
    "    num_cond.append(filters[1:])\n",
    "    \n",
    "\n",
    "with open(file, 'r') as f:\n",
    "    A = f.readlines()\n",
    "    \n",
    "Data = [x.strip('\\n').split(',') for x in A]\n",
    "Data.remove(Data[0])\n",
    "\n",
    "for x in range(0,len(Data)):         # 排列：日期0/小時1/數量2/是否工作天3/星期4\n",
    "    new_date = Data[x][0].split('/')\n",
    "    week_day = DT.datetime(int(new_date[0]), int(new_date[1]), int(new_date[2])).weekday()\n",
    "    Data[x].remove(Data[x][0])\n",
    "    Data[x].insert(0, new_date[2])\n",
    "    Data[x][2] = int(Data[x][2])\n",
    "    Data[x].append(str(week_day+1))\n",
    "    \n",
    "dic = {'D': 0, 'H': 1, 'W': 3 ,'K':4}\n",
    "out = {'D': [str(x) for x in range(1, 32)],\\\n",
    "         'H': [str(x) for x in range(0, 24)],\\\n",
    "         'W':[str(x) for x in range(0, 2)],\\\n",
    "         'K': [str(x) for x in range(1,8)]}\n",
    "\n",
    "def rent_sum(std, rang):             # std: DHWK 四種  rang: 所有條件的list\n",
    "    for x,y in zip(std,rang):\n",
    "        for z in y:\n",
    "            if z not in out[x]:\n",
    "                return -1\n",
    "    rent_num = 0\n",
    "    for z in range(0,len(Data)): \n",
    "        if determine(Data[z], std, rang):\n",
    "            rent_num += Data[z][2]\n",
    "    return rent_num\n",
    "\n",
    "\n",
    "def determine(data, std, rang):  # data 為一筆資料\n",
    "    for x,y in zip(std, rang):               \n",
    "        if data[dic[x]] not in y:\n",
    "            return False\n",
    "    return True\n",
    "\n",
    "print(rent_sum(En_cond, num_cond))\n"
   ]
  },
  {
   "cell_type": "markdown",
   "metadata": {},
   "source": [
    "# 第三題"
   ]
  },
  {
   "cell_type": "code",
   "execution_count": 11,
   "metadata": {
    "scrolled": true
   },
   "outputs": [
    {
     "name": "stdout",
     "output_type": "stream",
     "text": [
      "20\n",
      "10,5\n",
      "A,B,C,D,E\n",
      "8,5,2,1,1\n",
      "2011-05-01 00:00:00\n",
      "5,10,20,30,50\n",
      "2011-05-03 09:00:00,2011-05-06 00:00:00,2011-05-11 08:00:00,2011-07-15 00:05:00,2013-05-03 01:00:00,2011-05-11 08:10:00,2011-06-15 00:05:00,2013-05-21 01:00:00,2011-05-06 00:00:00,2011-05-11 08:00:00\n",
      "23,234,234,-11,11,22,4442,78,234,234\n",
      "A,A,A,B,C,C,D,D,A,A\n",
      "2,5,3,2,1,10,8,8,5,3\n",
      "[{'ID': 23, 'level': 'A', 'time': datetime.datetime(2011, 5, 3, 9, 0), 'ticket_num': 2}, {'ID': 234, 'level': 'A', 'time': datetime.datetime(2011, 5, 6, 0, 0), 'ticket_num': 5}, {'ID': 22, 'level': 'C', 'time': datetime.datetime(2011, 5, 11, 8, 10), 'ticket_num': 2}, {'ID': 4442, 'level': 'D', 'time': datetime.datetime(2011, 6, 15, 0, 5), 'ticket_num': 1}]\n",
      "['A']\n",
      "['A']\n",
      "['A']\n",
      "['A']\n",
      "[{'ID': 23, 'level': 'A', 'time': datetime.datetime(2011, 5, 3, 9, 0), 'ticket_num': 2}, {'ID': 234, 'level': 'A', 'time': datetime.datetime(2011, 5, 6, 0, 0), 'ticket_num': 5}]\n",
      "['A', 'B']\n",
      "['A', 'B']\n",
      "[{'ID': 23, 'level': 'A', 'time': datetime.datetime(2011, 5, 3, 9, 0), 'ticket_num': 2}, {'ID': 234, 'level': 'A', 'time': datetime.datetime(2011, 5, 6, 0, 0), 'ticket_num': 5}]\n",
      "['A', 'B', 'C']\n",
      "['A', 'B', 'C']\n",
      "[{'ID': 23, 'level': 'A', 'time': datetime.datetime(2011, 5, 3, 9, 0), 'ticket_num': 2}, {'ID': 234, 'level': 'A', 'time': datetime.datetime(2011, 5, 6, 0, 0), 'ticket_num': 5}, {'ID': 22, 'level': 'C', 'time': datetime.datetime(2011, 5, 11, 8, 10), 'ticket_num': 2}]\n",
      "['A', 'B', 'C', 'D']\n",
      "[{'ID': 23, 'level': 'A', 'time': datetime.datetime(2011, 5, 3, 9, 0), 'ticket_num': 2}, {'ID': 234, 'level': 'A', 'time': datetime.datetime(2011, 5, 6, 0, 0), 'ticket_num': 5}, {'ID': 22, 'level': 'C', 'time': datetime.datetime(2011, 5, 11, 8, 10), 'ticket_num': 2}]\n",
      "['A', 'B', 'C', 'D', 'E']\n",
      "[{'ID': 23, 'level': 'A', 'time': datetime.datetime(2011, 5, 3, 9, 0), 'ticket_num': 2}, {'ID': 234, 'level': 'A', 'time': datetime.datetime(2011, 5, 6, 0, 0), 'ticket_num': 5}, {'ID': 22, 'level': 'C', 'time': datetime.datetime(2011, 5, 11, 8, 10), 'ticket_num': 2}, {'ID': 4442, 'level': 'D', 'time': datetime.datetime(2011, 6, 15, 0, 5), 'ticket_num': 1}]\n",
      "10\n",
      "23:2\n",
      "234:5\n",
      "22:2\n",
      "4442:1\n"
     ]
    }
   ],
   "source": [
    "# 做點小更動\n",
    "from datetime import datetime as DT\n",
    "from datetime import timedelta\n",
    "import os\n",
    "\n",
    "total_ticket = int(input())     # 總票數\n",
    "SL = input().split(',')\n",
    "m = int(SL[0])                           # 登記人數\n",
    "n = int(SL[1])                            # 會員等級數\n",
    "level_name = input().split(',')  # 會員等級名稱\n",
    "level_number = [int(x) for x in input().split(',')]       # 會員等級最多可取票數\n",
    "level_dict = dict()\n",
    "for x in range(0, n):\n",
    "    level_dict[level_name[x]] = level_number[x]\n",
    "\n",
    "T = DT.strptime(input(), '%Y-%m-%d %H:%M:%S')     # 開放登記時間\n",
    "d = [int(x) for x in input().split(',')]   # 開放幾天後截止\n",
    "if m == 0:\n",
    "    print(total_ticket)\n",
    "    os.exit()\n",
    "t = [DT.strptime(x, '%Y-%m-%d %H:%M:%S') for x in input().split(',')]  # 記錄登記時間\n",
    "ID = [int(x) for x in input().split(',')]  # ID 為int 形式\n",
    "C = [x for x in input().split(',')]        # ID會員等級\n",
    "r = [int(x) for x in input().split(',')]   # 會員登記票數\n",
    "take = [min(x, level_dict[y]) for x, y in zip(r, C)]         # 實際能拿到的數目\n",
    "\n",
    "\n",
    "def valid(t, T, d, C):\n",
    "    if timedelta(days=0) <= t - T <= timedelta(days=d[len(d)-1]):\n",
    "        return True\n",
    "    return False\n",
    "\n",
    "\n",
    "def general_inf(inf, ID, C, t, take):      # level_dict 能拿取的上限\n",
    "        inf['ID'] = ID\n",
    "        inf['level'] = C\n",
    "        inf['time'] = t\n",
    "        inf['ticket_num'] = take\n",
    "        return inf\n",
    "\n",
    "\n",
    "guests = []\n",
    "for x in range(0, m):           # 時間超出範圍的刪除\n",
    "    guest_inf = dict()\n",
    "    if valid(t[x], T, d, C[x]):\n",
    "        guest_inf = general_inf(guest_inf, ID[x], C[x], t[x], take[x])\n",
    "        guests.append(guest_inf)\n",
    "\n",
    "\n",
    "ord_guest = sorted(guests, key=lambda s: s['time'])      # 照時間排順序\n",
    "\n",
    "rep = set()\n",
    "x = 0\n",
    "while x < len(ord_guest):               # 刪掉重複\n",
    "    if ord_guest[x]['ID'] not in rep:\n",
    "        rep.add(ord_guest[x]['ID'])\n",
    "        x += 1\n",
    "    else:\n",
    "        ord_guest.remove(ord_guest[x])\n",
    "\n",
    "\n",
    "give_list = []             # 考慮每階段順位\n",
    "for x in range(0, n):\n",
    "    i = 0\n",
    "    while i < len(ord_guest):\n",
    "        if (ord_guest[i]['time'] - T <= timedelta(days=d[x])) & (ord_guest[i]['level'] in level_name[:(x+1)]):\n",
    "            give_list.append(ord_guest[i])\n",
    "            ord_guest.remove(ord_guest[i])\n",
    "        else:\n",
    "            i += 1\n",
    "\n",
    "take_list = []\n",
    "i = 0\n",
    "while i < len(give_list):         # 發票\n",
    "    total_ticket -= give_list[i]['ticket_num']\n",
    "    if total_ticket < 0:\n",
    "        total_ticket += give_list[i]['ticket_num']\n",
    "        if total_ticket > 0:\n",
    "            take_list.append((give_list[i]['ID'], total_ticket))\n",
    "            total_ticket = 0\n",
    "        break\n",
    "    else:\n",
    "        take_list.append((give_list[i]['ID'], give_list[i]['ticket_num']))\n",
    "        i += 1\n",
    "print(total_ticket)\n",
    "for x in take_list:\n",
    "    print(str(x[0]) + ':' + str(x[1]))\n",
    "\n"
   ]
  },
  {
   "cell_type": "markdown",
   "metadata": {},
   "source": [
    "在一個無名小城鎮中有三家共享機車廠商，分別是Wewo、uRent和goshake。由於近來共享風氣興盛，產業蓬勃發展，必須實作一個程式來追蹤各機車車況，以下是需要被記錄的屬性：\n",
    "\n",
    "對於一個機車車廠，所要記錄的屬性包含該車廠名稱、擁有總車輛數，以及這些車輛的清單。\n",
    "\n",
    "每輛車將會有一個所屬等級，共分三種等級（1、2、3）。等級相同的車，以下兩個量會一樣：（一）用電效率：每單位的電可供騎乘距離（以公里計）；二、電池大小：最多可以存幾單位的電。對於每輛機車，所要記錄的屬性包含車牌號碼、車輛等級、總里程數、剩餘電量（幾單位），以及車子是否乾淨。\n",
    "\n",
    "\n",
    "車廠會購買新車，新車入廠時會有給定的車牌號碼和等級（包含等級數、用電效率和電池最大儲電量），並且一定是沒有電、里程數為零和乾淨的狀態；車廠也可能淘汰舊車，則該輛機車會被銷毀；另外，車廠之間也可以互相進行機車的買賣交易。\n",
    "\n",
    "三家廠商都開始提供服務後，針對單一一輛機車，可能有以下幾種事件發生：\n",
    "\n",
    "消費者租用時會有一個預計耗用的用電單位數。在這個小鎮上，消費者無法幫車輛充電，因此若他預計耗用的單位數超過該機車剩餘電量，則他會將電量使用完畢便歸還該機車；若電量足以負荷，他會耗用預計的單位數後歸還車輛。無論何種情況，該機車總里程數都會做相對應的增加（除非該車一開始完全沒電）。\n",
    "\n",
    "車子每被騎乘 100 公里就會變髒，而經過清理車子會變乾淨。若騎乘未達 100 公里便進行清洗，則清洗過後該計算歸零，換言之，車子要從最後一次被清洗後被騎乘 100 公里才會變髒。\n",
    "\n",
    "車子的電量可透過充電提升。若車子的電量上限是 K 單位、車子現在有 x 單位的電，且預計充 y 單位的電，則充電後的電量為 min{x+y,K}。\n",
    "\n",
    "\n",
    "你的程式要處理一連串事件，一個事件會被記錄在一列中數個以逗點間隔的資訊。以下是一些資訊和它們的格式：\n",
    "\n",
    "車廠購入新車：該列會包含一個字元 A、車廠名稱（字串）、車牌號碼（字串）和車子等級（整數，1 或 2 或 3）。\n",
    "\n",
    "車廠淘汰舊車：該列會包含一個字元 D、車廠名稱和車牌號碼。\n",
    "\n",
    "某車廠賣機車給另一車廠：該列會包含一個字元 S、出售機車車廠名稱、買入機車車廠名稱和該被交易機車車牌號碼。\n",
    "\n",
    "消費者租用機車：該列會包含一個字元 G、車廠名稱、車牌號碼和消費者預計耗用電量單位數（若為負數則視同該交易不成立）。須注意機車電量有可能不足。\n",
    "\n",
    "車廠進行充電：該列會包含一個字元 R、車廠名稱、車牌號碼和充電量。須注意充電後的電量不能超過電池蓄電量上限。\n",
    "\n",
    "車廠清洗車輛：該列會包含一個字元 W、車廠名稱和車牌號碼。注意：清洗過的車輛要再騎乘 100 公里才會變髒。\n",
    "\n",
    "\n",
    "請在處理完上述事件後，輸出兩項結果：\n",
    "\n",
    "因為城鎮裡有一個小男孩想要幫助車廠清洗車子，以此賺取外快，因此他需要找出所有髒掉的機車。請你幫助這個小男孩，在第一行輸出所有髒掉的機車車牌號碼（依字典順序輸出），兩者皆以一個逗號隔開；如果所有機車皆乾淨，則輸出 −1。\n",
    "\n",
    "現在交通部新增規定，強制該城鎮機車總里程數最高的要接受檢查，因此我們必須找出所有機車中總里程數最高的（該機車被租用的累積總里程）。請在第二行輸出該機車的車牌號碼；若有兩台機車總里程數同為最高，則輸出車牌號碼較前面的（依字典順序）。\n",
    "\n",
    "\n",
    "\n",
    "若要實做這一題，顯然你必須處理大量的資訊，\n",
    "而使用 class 會有助於你組織這些資訊。\n",
    "你可以定義兩個 class，一個用來生成車廠物件，另一個用來生成車輛物件。\n",
    "在車廠物件中，可以用 instance variable 來記錄車廠名稱、擁有的車輛清單等，\n",
    "也可以實做一些 instance method 來查詢某個車廠是否擁有某輛車；\n",
    "在車輛物件中，可以用 instance variable 記錄車牌號碼、剩餘電量、里程數等資訊，\n",
    "也可以實做一些 instance method 來做更新里程數、洗車等動作。\n",
    "你可能已經發現，雖然車輛可以有很多很多，但等級一共就只有三種，\n",
    "同等級的車輛就會有相同的用店效率與電池容量上限。class variable 是否幫得上忙呢？\n",
    "總之，請練習使用 class 吧！"
   ]
  },
  {
   "cell_type": "markdown",
   "metadata": {},
   "source": []
  },
  {
   "cell_type": "code",
   "execution_count": null,
   "metadata": {
    "scrolled": false
   },
   "outputs": [],
   "source": [
    "FL = [int(x) for x in input().split(',')]\n",
    "action = []\n",
    "while True:\n",
    "    SL = input()\n",
    "    if SL == 'BREAK':\n",
    "        break\n",
    "    else:\n",
    "        action.append(SL.split(','))\n",
    "\n",
    "        \n",
    "class scooter():\n",
    "    grade = {'1': {'efficiency': FL[0], 'battery_size': FL[1]},\\\n",
    "                 '2': {'efficiency': FL[2], 'battery_size': FL[3]},\\\n",
    "                 '3': {'efficiency': FL[4], 'battery_size': FL[5]}}\n",
    "    \n",
    "    def __init__(self):\n",
    "        self.scooter_list = dict()\n",
    "    def add(self, number, level):\n",
    "        self.scooter_list[number] = {'eff': scooter.grade[level]['efficiency'], \\\n",
    "                                              'bat_vol': scooter.grade[level]['battery_size'],\\\n",
    "                                              'bat_pow': 0, 'total_mile': 0, 'clean_mile': 0, 'clean': True}\n",
    "    def level_check(self, level):\n",
    "        if level in ['1', '2', '3']:\n",
    "            return True\n",
    "        else:\n",
    "            return False\n",
    "        \n",
    "    def bye(self, number):\n",
    "        del self.scooter_list[number]\n",
    "        \n",
    "    def rent_check(self, number, expect):\n",
    "        if (self.scooter_list[number]['bat_pow'] > 0) and (expect > 0):\n",
    "            return True\n",
    "        else:\n",
    "            return False\n",
    "        \n",
    "    def rent(self, number, expect):\n",
    "        use_power = min(self.scooter_list[number]['bat_pow'], expect)\n",
    "        self.scooter_list[number]['bat_pow'] -= use_power\n",
    "        distance = use_power * self.scooter_list[number]['eff']\n",
    "        self.scooter_list[number]['total_mile'] += distance\n",
    "        self.scooter_list[number]['clean_mile'] += distance\n",
    "        self.scooter_list[number]['clean'] = False if self.scooter_list[number]['clean_mile'] >= 100 else True\n",
    "    \n",
    "    def charge(self, number, power):\n",
    "        self.scooter_list[number]['bat_pow'] = min(self.scooter_list[number]['bat_pow'] + power, \\\n",
    "                                                                    self.scooter_list[number]['bat_vol'])\n",
    "    def wash(self, number):\n",
    "        self.scooter_list[number]['clean'] = True\n",
    "        self.scooter_list[number]['clean_mile'] = 0\n",
    "        \n",
    "    def find_dirty(self):\n",
    "        dirty = [x for x in self.scooter_list if self.scooter_list[x]['clean'] == False]\n",
    "        dirty.sort()\n",
    "        return dirty\n",
    "    \n",
    "    def max_mile(self):\n",
    "        max_miles = 0\n",
    "        key = list(self.scooter_list.keys())\n",
    "        key.sort()\n",
    "        scooterlist = [(y, self.scooter_list[y]['total_mile']) for y in key]\n",
    "        for x in scooterlist:\n",
    "            if x[1] > max_miles:\n",
    "                max_miles = x[1]\n",
    "                name = x[0]\n",
    "        return name\n",
    "                \n",
    "        \n",
    "class firm():\n",
    "    \n",
    "    def __init__(self):\n",
    "        self.firm_list = dict()\n",
    "        self.firm_list['Wewo'] = []\n",
    "        self.firm_list['uRent'] = []\n",
    "        self.firm_list['goshake'] = []\n",
    "        \n",
    "    def buy_new(self, firm, number):\n",
    "        self.firm_list[firm].append(number)\n",
    "        \n",
    "    def throw(self, firm, number):\n",
    "        self.firm_list[firm].remove(number)\n",
    "        \n",
    "    def sold(self, solder, buyer, number):\n",
    "        self.firm_list[solder].remove(number)\n",
    "        self.firm_list[buyer].append(number)\n",
    "        \n",
    "    def check(self, firm, number):\n",
    "        if firm in ['Wewo', 'uRent', 'goshake']:\n",
    "            if number in self.firm_list[firm]:\n",
    "                return True\n",
    "        return False\n",
    "\n",
    "sco = scooter()\n",
    "F = firm()\n",
    "\n",
    "for x in action:\n",
    "    if x[0] == 'A':     # 0 : 買 1: 車廠名稱  2: 車牌號碼 3. 車子等級 \n",
    "        if (F.check(x[1], x[2]) is False) and (sco.level_check(x[3])):\n",
    "            F.buy_new(x[1], x[2])\n",
    "            sco.add(x[2], x[3])\n",
    "    elif x[0] =='D':               # 0: 丟 1: 車廠名稱  2: 車牌號碼 \n",
    "        if F.check(x[1], x[2]):\n",
    "            F.throw(x[1], x[2])\n",
    "            sco.bye(x[2])\n",
    "    elif x[0] == 'S':             # 0:賣   1: 出售機車車廠名稱   2:買入機車車廠名稱   3: 車牌號碼\n",
    "        if F.check(x[1], x[3]):\n",
    "            F.sold(x[1], x[2], x[3])\n",
    "    elif x[0] == 'G':            # 0 消費者租用 1: 車廠名稱 2: 車牌號碼 3:消費者預計耗用電量單位數\n",
    "        if F.check(x[1], x[2]) and sco.rent_check(x[2], int(x[3])):\n",
    "            sco.rent(x[2], int(x[3]))\n",
    "    elif x[0] == 'R':             #0車廠進行充電  1: 車廠名稱  2: 車牌號碼   3:充電量\n",
    "        if F.check(x[1], x[2]) and (int(x[3]) > 0):\n",
    "            sco.charge(x[2], int(x[3]))\n",
    "    elif x[0] == 'W':             #0: 車廠清洗車 1車廠名稱  2車牌號碼\n",
    "        if F.check(x[1], x[2]):\n",
    "            sco.wash(x[2])\n",
    "\n",
    "dirty_list = sco.find_dirty()\n",
    "if len(dirty_list) > 0:\n",
    "    for x in range(0, len(dirty_list)):\n",
    "        if x == (len(dirty_list) - 1):\n",
    "            print(dirty_list[x])\n",
    "        else:\n",
    "            print(dirty_list[x], end = ',')\n",
    "else:\n",
    "    print(-1)\n",
    "    \n",
    "print(sco.max_mile())\n",
    "        \n"
   ]
  },
  {
   "cell_type": "markdown",
   "metadata": {},
   "source": [
    "5,30,10,50,15,100\n",
    "A,uRent,XXXYY,1\n",
    "R,uRent,XXXYY,10\n",
    "G,uRent,XXXYY,8\n",
    "A,Wewo,WWZZZ,3\n",
    "R,Wewo,WWZZZ,20\n",
    "G,Wewo,WWZZZ,8\n",
    "BREAK\n",
    "\n",
    "5,30,10,50,15,100\n",
    "A,uRent,XXXYY,1\n",
    "R,uRent,XXXYY,10\n",
    "G,uRent,XXXYY,8\n",
    "A,Wewo,WWZZZ,3\n",
    "G,Wewo,WWZZZ,20\n",
    "BREAK\n",
    "\n",
    "5,30,10,50,15,100 \n",
    "A,Wewo,AABBB,2 \n",
    "A,Wewo,AACCC,1 \n",
    "A,goshake,DDFFF,3 \n",
    "R,Wewo,AABBB,10 \n",
    "G,Wewo,AABBB,6 \n",
    "A,Wewo,AAAAA,2 \n",
    "R,goshake,DDFFF,50 \n",
    "G,goshake,DDFFF,60 \n",
    "W,goshake,DDFFF \n",
    "D,goshake,DDFFF \n",
    "R,Wewo,AACCC,100 \n",
    "G,WewoAACCC,60 \n",
    "A,Wewo,AABBB,20 \n",
    "G,Wewo,AABBB,10 \n",
    "W,Wewo,AABBB \n",
    "A,uRent,EEEGG,2 \n",
    "G,uRent,EEEGG,-30"
   ]
  },
  {
   "cell_type": "markdown",
   "metadata": {},
   "source": [
    "系統會提供一共 20 組測試資料，每組測試資料裝在一個檔案裡。在每個檔案中，第一行會有兩個 正整數 m、n 代表地圖的長寬，分別被逗點隔開，第二行至第 m + 1 行會有一個整數 n 個被逗點分 隔的正整數，代表該格的風險值，如第一行為 x11 至 x1,n。已知 1 ≤ m ≤ 10000、1 ≤ n ≤ 10000、 0 ≤ xij ≤ 100。讀入這些資訊後，找出路徑風險總和最小的值。"
   ]
  },
  {
   "cell_type": "code",
   "execution_count": 134,
   "metadata": {},
   "outputs": [
    {
     "name": "stdout",
     "output_type": "stream",
     "text": [
      "3,3\n",
      "8,2,2\n",
      "7,4,1\n",
      "5,3,9\n",
      "22\n"
     ]
    }
   ],
   "source": [
    "FL = [int(x) for x in input().split(',')]\n",
    "Length = FL[0]\n",
    "width = FL[1]\n",
    "maps = []\n",
    "best_path = []\n",
    "for x in range(0, Length):  # 兩個矩陣 分別存遇到的風險、和最佳路徑的風險值\n",
    "    SL = [int(x) for x in input().split(',')]    \n",
    "    zero = [0 for x in range(0, width)]\n",
    "    maps.append(SL)\n",
    "    best_path.append(zero)\n",
    "\n",
    "for x in range(0, Length):      # 處理邊界條件\n",
    "    best = 0\n",
    "    for y in range(0, x + 1):\n",
    "        best += maps[y][0]\n",
    "    best_path[x][0] = best\n",
    "\n",
    "for x in range(0, width):       # 處理邊界條件\n",
    "    best = 0\n",
    "    for y in range(0, x + 1):\n",
    "        best += maps[0][y]\n",
    "    best_path[0][x] = best\n",
    "\n",
    "for x in range(1, width):       # 解所有點\n",
    "    for y in range(1, Length):\n",
    "        best_path[y][x] = maps[y][x] + min(best_path[y-1][x], best_path[y][x-1])\n",
    "\n",
    "print(best_path[Length - 1][width - 1])\n"
   ]
  },
  {
   "cell_type": "markdown",
   "metadata": {},
   "source": [
    "寫一個程式，由使用者輸入生日資料，資料格式為Year/Month/Day (如2002/12/11)，每行一筆資料。你的程式必須不斷的由使用者讀入資料，直到使用者輸入 “BREAK”為止。計算在這些資料中，有幾個日期是在星期一、星期二、…、星期六、星期日。然後輸出。\n",
    "輸出的格式範例如下\n",
    "\n",
    "1 23  \n",
    "2 40  \n",
    "3 50  \n",
    "4 12  \n",
    "5 56  \n",
    "6 29  \n",
    "7 7  \n",
    "\n",
    "\n",
    "輸出共七行，各代表星期一(1)至星期日(7)。每行的第一個數字代表是星期幾，第二個數字代表有幾個。兩個數字間應有一個空格。如果輸入的資料不符合預期格式，應輸出 \"DATA_ERROR\"。"
   ]
  },
  {
   "cell_type": "code",
   "execution_count": 18,
   "metadata": {
    "scrolled": true
   },
   "outputs": [
    {
     "name": "stdout",
     "output_type": "stream",
     "text": [
      "BREAK\n",
      "1 0\n",
      "2 0\n",
      "3 0\n",
      "4 0\n",
      "5 0\n",
      "6 0\n",
      "7 0\n"
     ]
    }
   ],
   "source": [
    "from datetime import datetime as DT\n",
    "import sys\n",
    "\n",
    "info = []\n",
    "while True:\n",
    "    FL = input()\n",
    "    if FL == 'BREAK':\n",
    "        break\n",
    "    else:\n",
    "        info.append(FL)\n",
    "        \n",
    "num_list = [0,0,0,0,0,0,0]\n",
    "week = [1,2,3,4,5,6,7]\n",
    "for x in range(0, len(info)):\n",
    "    try:\n",
    "        info[x] = DT.strptime(info[x], '%Y/%m/%d')\n",
    "    except:\n",
    "        print('DATA_ERROR')\n",
    "        sys.exit()\n",
    "        \n",
    "for x in range(0, len(info)):\n",
    "    for y in range(0,7):\n",
    "        if (info[x].weekday() + 1) == week[y]:\n",
    "            num_list[y]  += 1\n",
    "\n",
    "for x in range(1, 8):\n",
    "    print(x, num_list[x-1])\n",
    "    \n",
    "    \n",
    "        \n",
    "    \n",
    "\n",
    "#info = strptime(input(), '%Y/%m/%d')\n",
    "\n"
   ]
  },
  {
   "cell_type": "code",
   "execution_count": 26,
   "metadata": {},
   "outputs": [
    {
     "name": "stdout",
     "output_type": "stream",
     "text": [
      "101/1/2\n",
      "BREAK\n",
      "1 0\n",
      "2 0\n",
      "3 0\n",
      "4 0\n",
      "5 0\n",
      "6 0\n",
      "7 1\n"
     ]
    }
   ],
   "source": [
    "from datetime import datetime as DT\n",
    "import sys\n",
    "\n",
    "def parse_ymd(s):\n",
    "    year_s, mon_s, day_s = s.split('/')\n",
    "    return DT(int(year_s), int(mon_s), int(day_s))\n",
    "\n",
    "info = []\n",
    "while True:\n",
    "    FL = input()\n",
    "    if FL == 'BREAK':\n",
    "        break\n",
    "    else:\n",
    "        info.append(FL)\n",
    "        \n",
    "num_list = [0,0,0,0,0,0,0]\n",
    "week = [1,2,3,4,5,6,7]\n",
    "for x in range(0, len(info)):\n",
    "    try:\n",
    "        info[x] = parse_ymd(info[x])\n",
    "    except:\n",
    "        print('DATA_ERROR')\n",
    "        sys.exit()\n",
    "        \n",
    "for x in range(0, len(info)):\n",
    "    for y in range(0,7):\n",
    "        if (info[x].weekday() + 1) == week[y]:\n",
    "            num_list[y]  += 1\n",
    "\n",
    "for x in range(1, 8):\n",
    "    print(x, num_list[x-1])"
   ]
  },
  {
   "cell_type": "markdown",
   "metadata": {},
   "source": [
    "在處理時間數列的資料時，我們時常會遇到數列有週期性。去除週期性的方法有很多，本題將考慮一個使用歷史中位數的去週期性方法。假設我們要處理週期為C的時間數列，則我們去週期性的方法為\n",
    "xt = yt - median([yt−c, yt−2c, yt−3c, yt−4c, yt−5c])，\n",
    "其中y1, y2, ... , yT為一個時間數列，我們針對第t期的資料 yt減去過去五個位在同一個週期位置的資料的中位數，得到第t期去週期的時間數列值xt。\n",
    "為了簡化問題，我們考慮的週期為7 (C=7)。\n",
    "寫一個程式，由使用者讀入一個時間數列，然後輸出去週期性的時間數列。讀入資料時每行一筆，直到遇到 “BREAK”為止。輸出時應去除前C期的資料，由第C+1期開始輸出。如果資料的歷史不足五個，則使用可取得的部分套入去週期性公式。比如說，如果要處理第8期的資料，則計算x8 = y8 - y1。另外集合個數為偶數時，取位在中間的兩個數的平均數為中位數。\n",
    "輸出時每行一個數字，四捨五入至小數第二位。如果輸入的資料含有非數值資料，則輸出 “DATA_ERROR”。如果資料內容皆為數值資料但小於八筆，則輸出 “NOT_ENOUGH_DATA”。"
   ]
  },
  {
   "cell_type": "code",
   "execution_count": 81,
   "metadata": {},
   "outputs": [
    {
     "ename": "KeyboardInterrupt",
     "evalue": "",
     "output_type": "error",
     "traceback": [
      "\u001b[0;31m---------------------------------------------------------------------------\u001b[0m",
      "\u001b[0;31mKeyboardInterrupt\u001b[0m                         Traceback (most recent call last)",
      "\u001b[0;32m/anaconda3/lib/python3.6/site-packages/ipykernel/kernelbase.py\u001b[0m in \u001b[0;36m_input_request\u001b[0;34m(self, prompt, ident, parent, password)\u001b[0m\n\u001b[1;32m    884\u001b[0m             \u001b[0;32mtry\u001b[0m\u001b[0;34m:\u001b[0m\u001b[0;34m\u001b[0m\u001b[0;34m\u001b[0m\u001b[0m\n\u001b[0;32m--> 885\u001b[0;31m                 \u001b[0mident\u001b[0m\u001b[0;34m,\u001b[0m \u001b[0mreply\u001b[0m \u001b[0;34m=\u001b[0m \u001b[0mself\u001b[0m\u001b[0;34m.\u001b[0m\u001b[0msession\u001b[0m\u001b[0;34m.\u001b[0m\u001b[0mrecv\u001b[0m\u001b[0;34m(\u001b[0m\u001b[0mself\u001b[0m\u001b[0;34m.\u001b[0m\u001b[0mstdin_socket\u001b[0m\u001b[0;34m,\u001b[0m \u001b[0;36m0\u001b[0m\u001b[0;34m)\u001b[0m\u001b[0;34m\u001b[0m\u001b[0;34m\u001b[0m\u001b[0m\n\u001b[0m\u001b[1;32m    886\u001b[0m             \u001b[0;32mexcept\u001b[0m \u001b[0mException\u001b[0m\u001b[0;34m:\u001b[0m\u001b[0;34m\u001b[0m\u001b[0;34m\u001b[0m\u001b[0m\n",
      "\u001b[0;32m/anaconda3/lib/python3.6/site-packages/jupyter_client/session.py\u001b[0m in \u001b[0;36mrecv\u001b[0;34m(self, socket, mode, content, copy)\u001b[0m\n\u001b[1;32m    802\u001b[0m         \u001b[0;32mtry\u001b[0m\u001b[0;34m:\u001b[0m\u001b[0;34m\u001b[0m\u001b[0;34m\u001b[0m\u001b[0m\n\u001b[0;32m--> 803\u001b[0;31m             \u001b[0mmsg_list\u001b[0m \u001b[0;34m=\u001b[0m \u001b[0msocket\u001b[0m\u001b[0;34m.\u001b[0m\u001b[0mrecv_multipart\u001b[0m\u001b[0;34m(\u001b[0m\u001b[0mmode\u001b[0m\u001b[0;34m,\u001b[0m \u001b[0mcopy\u001b[0m\u001b[0;34m=\u001b[0m\u001b[0mcopy\u001b[0m\u001b[0;34m)\u001b[0m\u001b[0;34m\u001b[0m\u001b[0;34m\u001b[0m\u001b[0m\n\u001b[0m\u001b[1;32m    804\u001b[0m         \u001b[0;32mexcept\u001b[0m \u001b[0mzmq\u001b[0m\u001b[0;34m.\u001b[0m\u001b[0mZMQError\u001b[0m \u001b[0;32mas\u001b[0m \u001b[0me\u001b[0m\u001b[0;34m:\u001b[0m\u001b[0;34m\u001b[0m\u001b[0;34m\u001b[0m\u001b[0m\n",
      "\u001b[0;32m/anaconda3/lib/python3.6/site-packages/zmq/sugar/socket.py\u001b[0m in \u001b[0;36mrecv_multipart\u001b[0;34m(self, flags, copy, track)\u001b[0m\n\u001b[1;32m    469\u001b[0m         \"\"\"\n\u001b[0;32m--> 470\u001b[0;31m         \u001b[0mparts\u001b[0m \u001b[0;34m=\u001b[0m \u001b[0;34m[\u001b[0m\u001b[0mself\u001b[0m\u001b[0;34m.\u001b[0m\u001b[0mrecv\u001b[0m\u001b[0;34m(\u001b[0m\u001b[0mflags\u001b[0m\u001b[0;34m,\u001b[0m \u001b[0mcopy\u001b[0m\u001b[0;34m=\u001b[0m\u001b[0mcopy\u001b[0m\u001b[0;34m,\u001b[0m \u001b[0mtrack\u001b[0m\u001b[0;34m=\u001b[0m\u001b[0mtrack\u001b[0m\u001b[0;34m)\u001b[0m\u001b[0;34m]\u001b[0m\u001b[0;34m\u001b[0m\u001b[0;34m\u001b[0m\u001b[0m\n\u001b[0m\u001b[1;32m    471\u001b[0m         \u001b[0;31m# have first part already, only loop while more to receive\u001b[0m\u001b[0;34m\u001b[0m\u001b[0;34m\u001b[0m\u001b[0;34m\u001b[0m\u001b[0m\n",
      "\u001b[0;32mzmq/backend/cython/socket.pyx\u001b[0m in \u001b[0;36mzmq.backend.cython.socket.Socket.recv\u001b[0;34m()\u001b[0m\n",
      "\u001b[0;32mzmq/backend/cython/socket.pyx\u001b[0m in \u001b[0;36mzmq.backend.cython.socket.Socket.recv\u001b[0;34m()\u001b[0m\n",
      "\u001b[0;32mzmq/backend/cython/socket.pyx\u001b[0m in \u001b[0;36mzmq.backend.cython.socket._recv_copy\u001b[0;34m()\u001b[0m\n",
      "\u001b[0;32m/anaconda3/lib/python3.6/site-packages/zmq/backend/cython/checkrc.pxd\u001b[0m in \u001b[0;36mzmq.backend.cython.checkrc._check_rc\u001b[0;34m()\u001b[0m\n",
      "\u001b[0;31mKeyboardInterrupt\u001b[0m: ",
      "\nDuring handling of the above exception, another exception occurred:\n",
      "\u001b[0;31mKeyboardInterrupt\u001b[0m                         Traceback (most recent call last)",
      "\u001b[0;32m<ipython-input-81-766e3e385ec5>\u001b[0m in \u001b[0;36m<module>\u001b[0;34m\u001b[0m\n\u001b[1;32m      4\u001b[0m \u001b[0mz\u001b[0m \u001b[0;34m=\u001b[0m \u001b[0;34m[\u001b[0m\u001b[0;34m]\u001b[0m\u001b[0;34m\u001b[0m\u001b[0;34m\u001b[0m\u001b[0m\n\u001b[1;32m      5\u001b[0m \u001b[0;32mwhile\u001b[0m \u001b[0;32mTrue\u001b[0m\u001b[0;34m:\u001b[0m\u001b[0;34m\u001b[0m\u001b[0;34m\u001b[0m\u001b[0m\n\u001b[0;32m----> 6\u001b[0;31m     \u001b[0mFL\u001b[0m \u001b[0;34m=\u001b[0m \u001b[0minput\u001b[0m\u001b[0;34m(\u001b[0m\u001b[0;34m)\u001b[0m\u001b[0;34m\u001b[0m\u001b[0;34m\u001b[0m\u001b[0m\n\u001b[0m\u001b[1;32m      7\u001b[0m     \u001b[0;32mtry\u001b[0m\u001b[0;34m:\u001b[0m\u001b[0;34m\u001b[0m\u001b[0;34m\u001b[0m\u001b[0m\n\u001b[1;32m      8\u001b[0m         \u001b[0;32mif\u001b[0m \u001b[0mFL\u001b[0m \u001b[0;34m==\u001b[0m \u001b[0;34m'BREAK'\u001b[0m\u001b[0;34m:\u001b[0m\u001b[0;34m\u001b[0m\u001b[0;34m\u001b[0m\u001b[0m\n",
      "\u001b[0;32m/anaconda3/lib/python3.6/site-packages/ipykernel/kernelbase.py\u001b[0m in \u001b[0;36mraw_input\u001b[0;34m(self, prompt)\u001b[0m\n\u001b[1;32m    858\u001b[0m             \u001b[0mself\u001b[0m\u001b[0;34m.\u001b[0m\u001b[0m_parent_ident\u001b[0m\u001b[0;34m,\u001b[0m\u001b[0;34m\u001b[0m\u001b[0;34m\u001b[0m\u001b[0m\n\u001b[1;32m    859\u001b[0m             \u001b[0mself\u001b[0m\u001b[0;34m.\u001b[0m\u001b[0m_parent_header\u001b[0m\u001b[0;34m,\u001b[0m\u001b[0;34m\u001b[0m\u001b[0;34m\u001b[0m\u001b[0m\n\u001b[0;32m--> 860\u001b[0;31m             \u001b[0mpassword\u001b[0m\u001b[0;34m=\u001b[0m\u001b[0;32mFalse\u001b[0m\u001b[0;34m,\u001b[0m\u001b[0;34m\u001b[0m\u001b[0;34m\u001b[0m\u001b[0m\n\u001b[0m\u001b[1;32m    861\u001b[0m         )\n\u001b[1;32m    862\u001b[0m \u001b[0;34m\u001b[0m\u001b[0m\n",
      "\u001b[0;32m/anaconda3/lib/python3.6/site-packages/ipykernel/kernelbase.py\u001b[0m in \u001b[0;36m_input_request\u001b[0;34m(self, prompt, ident, parent, password)\u001b[0m\n\u001b[1;32m    888\u001b[0m             \u001b[0;32mexcept\u001b[0m \u001b[0mKeyboardInterrupt\u001b[0m\u001b[0;34m:\u001b[0m\u001b[0;34m\u001b[0m\u001b[0;34m\u001b[0m\u001b[0m\n\u001b[1;32m    889\u001b[0m                 \u001b[0;31m# re-raise KeyboardInterrupt, to truncate traceback\u001b[0m\u001b[0;34m\u001b[0m\u001b[0;34m\u001b[0m\u001b[0;34m\u001b[0m\u001b[0m\n\u001b[0;32m--> 890\u001b[0;31m                 \u001b[0;32mraise\u001b[0m \u001b[0mKeyboardInterrupt\u001b[0m\u001b[0;34m\u001b[0m\u001b[0;34m\u001b[0m\u001b[0m\n\u001b[0m\u001b[1;32m    891\u001b[0m             \u001b[0;32melse\u001b[0m\u001b[0;34m:\u001b[0m\u001b[0;34m\u001b[0m\u001b[0;34m\u001b[0m\u001b[0m\n\u001b[1;32m    892\u001b[0m                 \u001b[0;32mbreak\u001b[0m\u001b[0;34m\u001b[0m\u001b[0;34m\u001b[0m\u001b[0m\n",
      "\u001b[0;31mKeyboardInterrupt\u001b[0m: "
     ]
    }
   ],
   "source": [
    "import sys\n",
    "wrong = True\n",
    "info = []\n",
    "z = []\n",
    "while True:\n",
    "    FL = input()\n",
    "    try:\n",
    "        if FL == 'BREAK':\n",
    "            if len(z) != 0:\n",
    "                info.append(z)\n",
    "            break\n",
    "        if len(z) == 7:\n",
    "            info.append(z)\n",
    "            z = []\n",
    "            z.append(int(FL))\n",
    "        else:\n",
    "            z.append(int(FL))\n",
    "    except:\n",
    "        wrong = False\n",
    "\n",
    "if wrong is False:\n",
    "    print(\"DATA_ERROR\")\n",
    "    sys.exit()\n",
    "\n",
    "def median(x):\n",
    "    if len(x) % 2 == 0:\n",
    "        return (x[int(len(x)/2) - 1] + x[int(len(x)/2)]) /2\n",
    "    else:\n",
    "        return x[int(len(x)/2) ]\n",
    "        \n",
    "Ans = []\n",
    "for x in range(1, len(info)):\n",
    "    for y in range(0, len(info[x])):\n",
    "        xx = info[x][y] - median([info[z][y] for z in range(0,x)])\n",
    "        Ans.append(xx)\n",
    "\n",
    "for x in Ans:\n",
    "    print('%.2f'%x)\n",
    "    "
   ]
  },
  {
   "cell_type": "code",
   "execution_count": 82,
   "metadata": {},
   "outputs": [
    {
     "name": "stdout",
     "output_type": "stream",
     "text": [
      "1\n",
      "2\n",
      "3\n"
     ]
    },
    {
     "ename": "KeyboardInterrupt",
     "evalue": "",
     "output_type": "error",
     "traceback": [
      "\u001b[0;31m---------------------------------------------------------------------------\u001b[0m",
      "\u001b[0;31mKeyboardInterrupt\u001b[0m                         Traceback (most recent call last)",
      "\u001b[0;32m/anaconda3/lib/python3.6/site-packages/ipykernel/kernelbase.py\u001b[0m in \u001b[0;36m_input_request\u001b[0;34m(self, prompt, ident, parent, password)\u001b[0m\n\u001b[1;32m    884\u001b[0m             \u001b[0;32mtry\u001b[0m\u001b[0;34m:\u001b[0m\u001b[0;34m\u001b[0m\u001b[0;34m\u001b[0m\u001b[0m\n\u001b[0;32m--> 885\u001b[0;31m                 \u001b[0mident\u001b[0m\u001b[0;34m,\u001b[0m \u001b[0mreply\u001b[0m \u001b[0;34m=\u001b[0m \u001b[0mself\u001b[0m\u001b[0;34m.\u001b[0m\u001b[0msession\u001b[0m\u001b[0;34m.\u001b[0m\u001b[0mrecv\u001b[0m\u001b[0;34m(\u001b[0m\u001b[0mself\u001b[0m\u001b[0;34m.\u001b[0m\u001b[0mstdin_socket\u001b[0m\u001b[0;34m,\u001b[0m \u001b[0;36m0\u001b[0m\u001b[0;34m)\u001b[0m\u001b[0;34m\u001b[0m\u001b[0;34m\u001b[0m\u001b[0m\n\u001b[0m\u001b[1;32m    886\u001b[0m             \u001b[0;32mexcept\u001b[0m \u001b[0mException\u001b[0m\u001b[0;34m:\u001b[0m\u001b[0;34m\u001b[0m\u001b[0;34m\u001b[0m\u001b[0m\n",
      "\u001b[0;32m/anaconda3/lib/python3.6/site-packages/jupyter_client/session.py\u001b[0m in \u001b[0;36mrecv\u001b[0;34m(self, socket, mode, content, copy)\u001b[0m\n\u001b[1;32m    802\u001b[0m         \u001b[0;32mtry\u001b[0m\u001b[0;34m:\u001b[0m\u001b[0;34m\u001b[0m\u001b[0;34m\u001b[0m\u001b[0m\n\u001b[0;32m--> 803\u001b[0;31m             \u001b[0mmsg_list\u001b[0m \u001b[0;34m=\u001b[0m \u001b[0msocket\u001b[0m\u001b[0;34m.\u001b[0m\u001b[0mrecv_multipart\u001b[0m\u001b[0;34m(\u001b[0m\u001b[0mmode\u001b[0m\u001b[0;34m,\u001b[0m \u001b[0mcopy\u001b[0m\u001b[0;34m=\u001b[0m\u001b[0mcopy\u001b[0m\u001b[0;34m)\u001b[0m\u001b[0;34m\u001b[0m\u001b[0;34m\u001b[0m\u001b[0m\n\u001b[0m\u001b[1;32m    804\u001b[0m         \u001b[0;32mexcept\u001b[0m \u001b[0mzmq\u001b[0m\u001b[0;34m.\u001b[0m\u001b[0mZMQError\u001b[0m \u001b[0;32mas\u001b[0m \u001b[0me\u001b[0m\u001b[0;34m:\u001b[0m\u001b[0;34m\u001b[0m\u001b[0;34m\u001b[0m\u001b[0m\n",
      "\u001b[0;32m/anaconda3/lib/python3.6/site-packages/zmq/sugar/socket.py\u001b[0m in \u001b[0;36mrecv_multipart\u001b[0;34m(self, flags, copy, track)\u001b[0m\n\u001b[1;32m    469\u001b[0m         \"\"\"\n\u001b[0;32m--> 470\u001b[0;31m         \u001b[0mparts\u001b[0m \u001b[0;34m=\u001b[0m \u001b[0;34m[\u001b[0m\u001b[0mself\u001b[0m\u001b[0;34m.\u001b[0m\u001b[0mrecv\u001b[0m\u001b[0;34m(\u001b[0m\u001b[0mflags\u001b[0m\u001b[0;34m,\u001b[0m \u001b[0mcopy\u001b[0m\u001b[0;34m=\u001b[0m\u001b[0mcopy\u001b[0m\u001b[0;34m,\u001b[0m \u001b[0mtrack\u001b[0m\u001b[0;34m=\u001b[0m\u001b[0mtrack\u001b[0m\u001b[0;34m)\u001b[0m\u001b[0;34m]\u001b[0m\u001b[0;34m\u001b[0m\u001b[0;34m\u001b[0m\u001b[0m\n\u001b[0m\u001b[1;32m    471\u001b[0m         \u001b[0;31m# have first part already, only loop while more to receive\u001b[0m\u001b[0;34m\u001b[0m\u001b[0;34m\u001b[0m\u001b[0;34m\u001b[0m\u001b[0m\n",
      "\u001b[0;32mzmq/backend/cython/socket.pyx\u001b[0m in \u001b[0;36mzmq.backend.cython.socket.Socket.recv\u001b[0;34m()\u001b[0m\n",
      "\u001b[0;32mzmq/backend/cython/socket.pyx\u001b[0m in \u001b[0;36mzmq.backend.cython.socket.Socket.recv\u001b[0;34m()\u001b[0m\n",
      "\u001b[0;32mzmq/backend/cython/socket.pyx\u001b[0m in \u001b[0;36mzmq.backend.cython.socket._recv_copy\u001b[0;34m()\u001b[0m\n",
      "\u001b[0;32m/anaconda3/lib/python3.6/site-packages/zmq/backend/cython/checkrc.pxd\u001b[0m in \u001b[0;36mzmq.backend.cython.checkrc._check_rc\u001b[0;34m()\u001b[0m\n",
      "\u001b[0;31mKeyboardInterrupt\u001b[0m: ",
      "\nDuring handling of the above exception, another exception occurred:\n",
      "\u001b[0;31mKeyboardInterrupt\u001b[0m                         Traceback (most recent call last)",
      "\u001b[0;32m<ipython-input-82-7f6ea5f4fd4b>\u001b[0m in \u001b[0;36m<module>\u001b[0;34m\u001b[0m\n\u001b[1;32m     13\u001b[0m \u001b[0merror\u001b[0m \u001b[0;34m=\u001b[0m \u001b[0;36m0\u001b[0m\u001b[0;34m\u001b[0m\u001b[0;34m\u001b[0m\u001b[0m\n\u001b[1;32m     14\u001b[0m \u001b[0;32mwhile\u001b[0m \u001b[0;32mTrue\u001b[0m\u001b[0;34m:\u001b[0m\u001b[0;34m\u001b[0m\u001b[0;34m\u001b[0m\u001b[0m\n\u001b[0;32m---> 15\u001b[0;31m     \u001b[0ma\u001b[0m \u001b[0;34m=\u001b[0m \u001b[0minput\u001b[0m\u001b[0;34m(\u001b[0m\u001b[0;34m)\u001b[0m\u001b[0;34m\u001b[0m\u001b[0;34m\u001b[0m\u001b[0m\n\u001b[0m\u001b[1;32m     16\u001b[0m     \u001b[0;32mif\u001b[0m \u001b[0ma\u001b[0m \u001b[0;34m==\u001b[0m \u001b[0;34m\"BREAK\"\u001b[0m\u001b[0;34m:\u001b[0m\u001b[0;34m\u001b[0m\u001b[0;34m\u001b[0m\u001b[0m\n\u001b[1;32m     17\u001b[0m         \u001b[0;32mbreak\u001b[0m\u001b[0;34m\u001b[0m\u001b[0;34m\u001b[0m\u001b[0m\n",
      "\u001b[0;32m/anaconda3/lib/python3.6/site-packages/ipykernel/kernelbase.py\u001b[0m in \u001b[0;36mraw_input\u001b[0;34m(self, prompt)\u001b[0m\n\u001b[1;32m    858\u001b[0m             \u001b[0mself\u001b[0m\u001b[0;34m.\u001b[0m\u001b[0m_parent_ident\u001b[0m\u001b[0;34m,\u001b[0m\u001b[0;34m\u001b[0m\u001b[0;34m\u001b[0m\u001b[0m\n\u001b[1;32m    859\u001b[0m             \u001b[0mself\u001b[0m\u001b[0;34m.\u001b[0m\u001b[0m_parent_header\u001b[0m\u001b[0;34m,\u001b[0m\u001b[0;34m\u001b[0m\u001b[0;34m\u001b[0m\u001b[0m\n\u001b[0;32m--> 860\u001b[0;31m             \u001b[0mpassword\u001b[0m\u001b[0;34m=\u001b[0m\u001b[0;32mFalse\u001b[0m\u001b[0;34m,\u001b[0m\u001b[0;34m\u001b[0m\u001b[0;34m\u001b[0m\u001b[0m\n\u001b[0m\u001b[1;32m    861\u001b[0m         )\n\u001b[1;32m    862\u001b[0m \u001b[0;34m\u001b[0m\u001b[0m\n",
      "\u001b[0;32m/anaconda3/lib/python3.6/site-packages/ipykernel/kernelbase.py\u001b[0m in \u001b[0;36m_input_request\u001b[0;34m(self, prompt, ident, parent, password)\u001b[0m\n\u001b[1;32m    888\u001b[0m             \u001b[0;32mexcept\u001b[0m \u001b[0mKeyboardInterrupt\u001b[0m\u001b[0;34m:\u001b[0m\u001b[0;34m\u001b[0m\u001b[0;34m\u001b[0m\u001b[0m\n\u001b[1;32m    889\u001b[0m                 \u001b[0;31m# re-raise KeyboardInterrupt, to truncate traceback\u001b[0m\u001b[0;34m\u001b[0m\u001b[0;34m\u001b[0m\u001b[0;34m\u001b[0m\u001b[0m\n\u001b[0;32m--> 890\u001b[0;31m                 \u001b[0;32mraise\u001b[0m \u001b[0mKeyboardInterrupt\u001b[0m\u001b[0;34m\u001b[0m\u001b[0;34m\u001b[0m\u001b[0m\n\u001b[0m\u001b[1;32m    891\u001b[0m             \u001b[0;32melse\u001b[0m\u001b[0;34m:\u001b[0m\u001b[0;34m\u001b[0m\u001b[0;34m\u001b[0m\u001b[0m\n\u001b[1;32m    892\u001b[0m                 \u001b[0;32mbreak\u001b[0m\u001b[0;34m\u001b[0m\u001b[0;34m\u001b[0m\u001b[0m\n",
      "\u001b[0;31mKeyboardInterrupt\u001b[0m: "
     ]
    }
   ],
   "source": [
    "def compare(a):\n",
    "    # 資料排序\n",
    "    \n",
    "    for i in range(len(a)):\n",
    "        for j in range(i+1, len(a)):\n",
    "            if a[j] < a[i]:\n",
    "                tmp = a[i]\n",
    "                a[i] = a[j]\n",
    "                a[j] = tmp\n",
    "\n",
    "\n",
    "data = []\n",
    "error = 0\n",
    "while True:\n",
    "    a = input()\n",
    "    if a == \"BREAK\":\n",
    "        break\n",
    "\n",
    "    if a.isdigit() == False:\n",
    "        print(\"DATA_ERROR\")\n",
    "        error = 1\n",
    "        break\n",
    "\n",
    "    data.append(int(a))\n",
    "\n",
    "if error == 0:\n",
    "    if len(data) < 8:\n",
    "        print(\"NOT_ENOUGH_DATA\")\n",
    "    else:\n",
    "        for i in range(7, len(data)):\n",
    "            if 7 <= i <= 13:\n",
    "                print(\"%0.2f\" %(data[i] - data[i-7]))\n",
    "            elif 14 <= i <= 20:\n",
    "                print(\"%0.2f\" %(data[i] - (data[i-7]+data[i-14]) / 2))\n",
    "            elif 21 <= i <= 27:\n",
    "                a = [data[i-7], data[i-14], data[i-21]]\n",
    "                compare(a)\n",
    "                print(\"%0.2f\" %(data[i] - a[1]))\n",
    "            elif 28 <= i <= 34:\n",
    "                a = [data[i-7], data[i-14], data[i-21], data[i-28]]\n",
    "                compare(a)\n",
    "                print(\"%0.2f\" %(data[i] - (a[1]+a[2]) / 2))\n",
    "            else:\n",
    "                a = [data[i-7], data[i-14], data[i-21], data[i-28], data[i-35]]\n",
    "                compare(a)\n",
    "                print(\"%0.2f\" %(data[i] - a[2]))\n"
   ]
  },
  {
   "cell_type": "code",
   "execution_count": 87,
   "metadata": {},
   "outputs": [
    {
     "name": "stdout",
     "output_type": "stream",
     "text": [
      "1\n",
      "2\n",
      "3\n",
      "4\n",
      "5\n",
      "6\n",
      "7\n",
      "2\n",
      "3\n",
      "4\n",
      "5\n",
      "6\n",
      "7\n",
      "8\n",
      "BREAK\n",
      "1.00\n",
      "1.00\n",
      "1.00\n",
      "1.00\n",
      "1.00\n",
      "1.00\n",
      "1.00\n"
     ]
    }
   ],
   "source": [
    "def compare(a):\n",
    "    a.sort()\n",
    "    if len(a) % 2 == 0:\n",
    "        return (a[int(len(a)/2) - 1] + a[int(len(a)/2)]) /2\n",
    "    else:\n",
    "        return a[int(len(a)/2) ]\n",
    "data = []\n",
    "error = 0\n",
    "while True:\n",
    "    a = input()\n",
    "    if a == \"BREAK\":\n",
    "        break\n",
    "\n",
    "    if a.isdigit() == False:\n",
    "        print(\"DATA_ERROR\")\n",
    "        error = 1\n",
    "        break\n",
    "    data.append(int(a))\n",
    "    \n",
    "if error == 0:\n",
    "    if len(data) < 8:\n",
    "        print(\"NOT_ENOUGH_DATA\")\n",
    "    else:\n",
    "        for i in range(7, len(data)):\n",
    "            for x in range(1, (len(data)//7) + 1):\n",
    "                if (i//7) == x:\n",
    "                    num = [data[i-(7 * y)] for y in range(1, min(x+1, 6))]\n",
    "                    ans = data[i] - compare(num)\n",
    "                    print('%.2f' %ans)"
   ]
  },
  {
   "cell_type": "code",
   "execution_count": 1,
   "metadata": {},
   "outputs": [
    {
     "data": {
      "text/plain": [
       "'/Users/lanjingyi/opt/anaconda3/lib/python3.7/site-packages/matplotlib/mpl-data/matplotlibrc'"
      ]
     },
     "execution_count": 1,
     "metadata": {},
     "output_type": "execute_result"
    }
   ],
   "source": [
    "import matplotlib \n",
    "matplotlib.matplotlib_fname()"
   ]
  },
  {
   "cell_type": "code",
   "execution_count": 32,
   "metadata": {},
   "outputs": [
    {
     "name": "stdout",
     "output_type": "stream",
     "text": [
      "original s:  [{'no': 28, 'score': 90}, {'no': 25, 'score': 90}, {'no': 1, 'score': 100}, {'no': 2, 'score': 20}]\n",
      "new s:  [{'no': 2, 'score': 20}, {'no': 28, 'score': 90}, {'no': 25, 'score': 90}, {'no': 1, 'score': 100}]\n",
      "new_s_2:  [{'no': 2, 'score': 20}, {'no': 25, 'score': 90}, {'no': 28, 'score': 90}, {'no': 1, 'score': 100}]\n"
     ]
    }
   ],
   "source": [
    "s=[\n",
    "{\"no\":28,\"score\":90},\n",
    "{\"no\":25,\"score\":90},\n",
    "{\"no\":1,\"score\":100},\n",
    "{\"no\":2,\"score\":20},\n",
    "\n",
    "]\n",
    "print (\"original s: \",s)\n",
    "# 单级排序，仅按照score排序\n",
    "new_s = sorted(s,key = lambda e:e['score'])\n",
    "print (\"new s: \", new_s)\n",
    "# 多级排序,先按照score，再按照no排序\n",
    "new_s_2 = sorted(new_s,key = lambda e:(e.__getitem__('score'),e.__getitem__('no')))\n",
    "print (\"new_s_2: \", new_s_2)\n"
   ]
  },
  {
   "cell_type": "code",
   "execution_count": 30,
   "metadata": {},
   "outputs": [
    {
     "ename": "TypeError",
     "evalue": "list indices must be integers or slices, not str",
     "output_type": "error",
     "traceback": [
      "\u001b[0;31m---------------------------------------------------------------------------\u001b[0m",
      "\u001b[0;31mTypeError\u001b[0m                                 Traceback (most recent call last)",
      "\u001b[0;32m<ipython-input-30-1ea69d16203e>\u001b[0m in \u001b[0;36m<module>\u001b[0;34m\u001b[0m\n\u001b[1;32m      5\u001b[0m \u001b[0;34m{\u001b[0m\u001b[0;34m\"no\"\u001b[0m\u001b[0;34m:\u001b[0m\u001b[0;36m2\u001b[0m\u001b[0;34m,\u001b[0m\u001b[0;34m\"score\"\u001b[0m\u001b[0;34m:\u001b[0m\u001b[0;36m20\u001b[0m\u001b[0;34m}\u001b[0m\u001b[0;34m,\u001b[0m\u001b[0;34m\u001b[0m\u001b[0;34m\u001b[0m\u001b[0m\n\u001b[1;32m      6\u001b[0m ]\n\u001b[0;32m----> 7\u001b[0;31m \u001b[0ms\u001b[0m\u001b[0;34m.\u001b[0m\u001b[0msort\u001b[0m\u001b[0;34m(\u001b[0m\u001b[0mkey\u001b[0m \u001b[0;34m=\u001b[0m \u001b[0ms\u001b[0m\u001b[0;34m[\u001b[0m\u001b[0;34m'score'\u001b[0m\u001b[0;34m]\u001b[0m\u001b[0;34m)\u001b[0m\u001b[0;34m\u001b[0m\u001b[0;34m\u001b[0m\u001b[0m\n\u001b[0m",
      "\u001b[0;31mTypeError\u001b[0m: list indices must be integers or slices, not str"
     ]
    }
   ],
   "source": [
    "s=[\n",
    "{\"no\":28,\"score\":90},\n",
    "{\"no\":25,\"score\":90},\n",
    "{\"no\":1,\"score\":100},\n",
    "{\"no\":2,\"score\":20},\n",
    "]\n",
    "s.sort(key = s['score'])"
   ]
  },
  {
   "cell_type": "code",
   "execution_count": 69,
   "metadata": {},
   "outputs": [
    {
     "data": {
      "text/plain": [
       "[]"
      ]
     },
     "execution_count": 69,
     "metadata": {},
     "output_type": "execute_result"
    }
   ],
   "source": [
    "list(range(1,1))\n"
   ]
  },
  {
   "cell_type": "code",
   "execution_count": 134,
   "metadata": {},
   "outputs": [
    {
     "data": {
      "text/plain": [
       "False"
      ]
     },
     "execution_count": 134,
     "metadata": {},
     "output_type": "execute_result"
    }
   ],
   "source": [
    "callable(d)"
   ]
  },
  {
   "cell_type": "code",
   "execution_count": 125,
   "metadata": {},
   "outputs": [
    {
     "data": {
      "text/plain": [
       "[0, 0, 0, 0, 0, 0, 0, 0, 0, 0]"
      ]
     },
     "execution_count": 125,
     "metadata": {},
     "output_type": "execute_result"
    }
   ],
   "source": [
    "A = [0 for x in range(0,10)]\n",
    "A"
   ]
  },
  {
   "cell_type": "code",
   "execution_count": 2,
   "metadata": {},
   "outputs": [
    {
     "data": {
      "image/png": "[encoded data removed]",
      "text/plain": [
       "<Figure size 432x288 with 1 Axes>"
      ]
     },
     "metadata": {
      "needs_background": "light"
     },
     "output_type": "display_data"
    }
   ],
   "source": [
    "from matplotlib.font_manager import FontProperties\n",
    "\n",
    "import matplotlib.pyplot as plt\n",
    "plt.rcParams['font.sans-serif'] = ['Microsoft JhengHei'] \n",
    "plt.rcParams['axes.unicode_minus'] = False\n",
    "plt.plot((1,2,3),(4,3,-1))\n",
    "plt.title(\"聲量圖\")\n",
    "plt.ylabel(\"文章數量\")\n",
    "plt.xlabel(\"品牌名稱\") \n",
    "plt.show()"
   ]
  },
  {
   "cell_type": "code",
   "execution_count": 13,
   "metadata": {},
   "outputs": [],
   "source": [
    "from matplotlib.font_manager import _rebuild\n",
    "_rebuild()"
   ]
  },
  {
   "cell_type": "code",
   "execution_count": 5,
   "metadata": {},
   "outputs": [
    {
     "data": {
      "text/plain": [
       "'/Users/lanjingyi/opt/anaconda3/lib/python3.7/site-packages/matplotlib/mpl-data/fonts/ttf/DejaVuSans.ttf'"
      ]
     },
     "execution_count": 5,
     "metadata": {},
     "output_type": "execute_result"
    }
   ],
   "source": [
    "from matplotlib.font_manager import findfont, FontProperties  \n",
    "findfont(FontProperties(family=FontProperties().get_family())) "
   ]
  },
  {
   "cell_type": "code",
   "execution_count": 6,
   "metadata": {},
   "outputs": [
    {
     "data": {
      "text/plain": [
       "'/Users/lanjingyi/opt/anaconda3/lib/python3.7/site-packages/matplotlib/mpl-data/matplotlibrc'"
      ]
     },
     "execution_count": 6,
     "metadata": {},
     "output_type": "execute_result"
    }
   ],
   "source": [
    "import matplotlib \n",
    "matplotlib.matplotlib_fname()"
   ]
  },
  {
   "cell_type": "code",
   "execution_count": null,
   "metadata": {},
   "outputs": [],
   "source": []
  },
  {
   "cell_type": "code",
   "execution_count": 3,
   "metadata": {},
   "outputs": [
    {
     "data": {
      "text/plain": [
       "<matplotlib.axes._subplots.AxesSubplot at 0x1a17f75390>"
      ]
     },
     "execution_count": 3,
     "metadata": {},
     "output_type": "execute_result"
    },
    {
     "data": {
      "image/png": "[encoded data removed]",
      "text/plain": [
       "<Figure size 432x288 with 1 Axes>"
      ]
     },
     "metadata": {},
     "output_type": "display_data"
    }
   ],
   "source": [
    "from matplotlib.font_manager import FontProperties\n",
    "import seaborn as sns\n",
    "sns.set(font=['sans-serif'])\n",
    "sns.set_style(\"whitegrid\",{\"font.sans-serif\":['Microsoft JhengHei']})\n",
    "cities_counter = [('好棒', 285), ('給我', 225), ('不要', 163), ('細柔', 136), ('吃飯', 130), ('小小', 124), ('深圳', 88), ('温州', 67), ('小知', 66), ('大之', 45)]\n",
    "sns.set_color_codes(\"pastel\")\n",
    "sns.barplot(x=[k for k, _ in cities_counter[:10]], y=[v for _, v in cities_counter[:10]])"
   ]
  },
  {
   "cell_type": "code",
   "execution_count": 4,
   "metadata": {},
   "outputs": [
    {
     "data": {
      "text/plain": [
       "5"
      ]
     },
     "execution_count": 4,
     "metadata": {},
     "output_type": "execute_result"
    }
   ],
   "source": [
    "a = 5\n",
    "a"
   ]
  },
  {
   "cell_type": "code",
   "execution_count": 1,
   "metadata": {},
   "outputs": [
    {
     "data": {
      "text/plain": [
       "['Microsoft JhengHei',\n",
       " 'DejaVu Sans',\n",
       " 'Bitstream Vera Sans',\n",
       " 'Computer Modern Sans Serif',\n",
       " 'Lucida Grande',\n",
       " 'Verdana',\n",
       " 'Geneva',\n",
       " 'Lucid',\n",
       " 'Arial',\n",
       " 'Helvetica',\n",
       " 'Avant Garde',\n",
       " 'sans-serif']"
      ]
     },
     "execution_count": 1,
     "metadata": {},
     "output_type": "execute_result"
    }
   ],
   "source": [
    "import matplotlib.pyplot as plt \n",
    "plt.rcParams['font.sans-serif']"
   ]
  },
  {
   "cell_type": "code",
   "execution_count": null,
   "metadata": {},
   "outputs": [],
   "source": []
  }
 ],
 "metadata": {
  "kernelspec": {
   "display_name": "Python 3",
   "language": "python",
   "name": "python3"
  },
  "language_info": {
   "codemirror_mode": {
    "name": "ipython",
    "version": 3
   },
   "file_extension": ".py",
   "mimetype": "text/x-python",
   "name": "python",
   "nbconvert_exporter": "python",
   "pygments_lexer": "ipython3",
   "version": "3.7.4"
  }
 },
 "nbformat": 4,
 "nbformat_minor": 2
}
