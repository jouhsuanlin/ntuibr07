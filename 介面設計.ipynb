{
 "cells": [
  {
   "cell_type": "code",
   "execution_count": null,
   "metadata": {},
   "outputs": [
    {
     "name": "stdout",
     "output_type": "stream",
     "text": [
      "{'height': 10, 'postcommand': <bytecode object: ''>, 'values': ('縣市', '台北市', '新北市'), 'exportselection': 1, 'font': <font object: 'TkTextFont'>, 'invalidcommand': '', 'justify': 'left', 'show': '', 'state': <index object: 'normal'>, 'textvariable': '', 'validate': 'none', 'validatecommand': '', 'width': 20, 'xscrollcommand': '', 'foreground': '', 'background': '', 'takefocus': 'ttk::takefocus', 'cursor': '', 'style': '', 'class': ''}\n",
      "0 縣市\n",
      "{'height': 10, 'postcommand': <bytecode object: ''>, 'values': ('鄉鎮區', '北投區', '大安區', '信義區'), 'exportselection': 1, 'font': <font object: 'TkTextFont'>, 'invalidcommand': '', 'justify': 'left', 'show': '', 'state': <index object: 'normal'>, 'textvariable': '', 'validate': 'none', 'validatecommand': '', 'width': 20, 'xscrollcommand': '', 'foreground': '', 'background': '', 'takefocus': 'ttk::takefocus', 'cursor': '', 'style': '', 'class': ''}\n",
      "0 鄉鎮區\n",
      "{'height': 10, 'postcommand': <bytecode object: ''>, 'values': ('縣市', '台北市', '新北市'), 'exportselection': 1, 'font': <font object: 'TkTextFont'>, 'invalidcommand': '', 'justify': 'left', 'show': '', 'state': <index object: 'normal'>, 'textvariable': '', 'validate': 'none', 'validatecommand': '', 'width': 20, 'xscrollcommand': '', 'foreground': '', 'background': '', 'takefocus': 'ttk::takefocus', 'cursor': '', 'style': '', 'class': ''}\n",
      "0 縣市\n",
      "{'height': 10, 'postcommand': <bytecode object: ''>, 'values': ('縣市', '台北市', '新北市'), 'exportselection': 1, 'font': <font object: 'TkTextFont'>, 'invalidcommand': '', 'justify': 'left', 'show': '', 'state': <index object: 'normal'>, 'textvariable': '', 'validate': 'none', 'validatecommand': '', 'width': 20, 'xscrollcommand': '', 'foreground': '', 'background': '', 'takefocus': 'ttk::takefocus', 'cursor': '', 'style': '', 'class': ''}\n",
      "0 縣市\n"
     ]
    }
   ],
   "source": [
    "import tkinter as tk\n",
    "# from tkinter import ttk # 第一次使用需匯入此模組\n",
    "\n",
    "class Design(tk.Frame):\n",
    "    def __int__(self):\n",
    "        tk.Frame.__int__(self)\n",
    "        self.grid()\n",
    "\n",
    "# GUI頁面建立\n",
    "cal = tk.Tk()\n",
    "cal.title(\"南波灣住區生活品質檢測\")\n",
    "cal.geometry('200x100')\n",
    "\n",
    "# 下拉式選單-所選地區\n",
    "labelTop = tk.Label(cal, text = \"所選地區 : \")\n",
    "labelTop.grid(column=0, row=0)\n",
    "\n",
    "City = ttk.Combobox(cal, values=[\"縣市\", \"台北市\", \"新北市\"])\n",
    "print(dict(City)) \n",
    "City.grid(column=1, row=0)\n",
    "City.current(0)\n",
    "print(City.current(), City.get())\n",
    "\n",
    "# Taipei = [\"鄉鎮區\", \"北投區\", \"大安區\", \"信義區\"]\n",
    "# New_Taipei = [\"鄉鎮區\", \"板橋區\", \"土城區\", \"中和區\"]\n",
    "\n",
    "Region = ttk.Combobox(cal, values=[\"鄉鎮區\", \"北投區\", \"大安區\", \"信義區\"])\n",
    "print(dict(Region)) \n",
    "Region.grid(column=2, row=0)\n",
    "Region.current(0)\n",
    "print(Region.current(), Region.get())\n",
    "\n",
    "# 下拉式選單-比較地區1\n",
    "labelTop = tk.Label(cal, text = \"比較地區1 : \")\n",
    "labelTop.grid(column=0, row=1)\n",
    "\n",
    "City1 = ttk.Combobox(cal, values=[\"縣市\", \"台北市\", \"新北市\"])\n",
    "print(dict(City1)) \n",
    "City1.grid(column=1, row=1)\n",
    "City1.current(0)\n",
    "print(City1.current(), City1.get())\n",
    "\n",
    "# 下拉式選單-比較地區2\n",
    "labelTop = tk.Label(cal, text = \"比較地區2 : \")\n",
    "labelTop.grid(column=0, row=2)\n",
    "\n",
    "City2 = ttk.Combobox(cal, values=[\"縣市\", \"台北市\", \"新北市\"])\n",
    "print(dict(City2)) \n",
    "City2.grid(column=1, row=2)\n",
    "City2.current(0)\n",
    "print(City2.current(), City2.get())\n",
    "\n",
    "cal.mainloop()\n"
   ]
  }
 ],
 "metadata": {
  "kernelspec": {
   "display_name": "Python 3",
   "language": "python",
   "name": "python3"
  },
  "language_info": {
   "codemirror_mode": {
    "name": "ipython",
    "version": 3
   },
   "file_extension": ".py",
   "mimetype": "text/x-python",
   "name": "python",
   "nbconvert_exporter": "python",
   "pygments_lexer": "ipython3",
   "version": "3.7.1"
  }
 },
 "nbformat": 4,
 "nbformat_minor": 2
}
