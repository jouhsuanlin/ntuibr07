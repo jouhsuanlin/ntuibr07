{
 "cells": [
  {
   "cell_type": "code",
   "execution_count": 1,
   "metadata": {},
   "outputs": [],
   "source": [
    "# 匯入縣市區域字典\n",
    "import pickle\n",
    "with open('city_area_road.pkl', 'rb') as f:\n",
    "    data1 = {\"縣市\": ''}\n",
    "    data2 = pickle.load(f)\n",
    "    data = {}\n",
    "    data.update(data1)\n",
    "    data.update(data2)\n"
   ]
  },
  {
   "cell_type": "code",
   "execution_count": 49,
   "metadata": {},
   "outputs": [
    {
     "name": "stderr",
     "output_type": "stream",
     "text": [
      "No handles with labels found to put in legend.\n"
     ]
    },
    {
     "name": "stdout",
     "output_type": "stream",
     "text": [
      "[[], [], []]\n"
     ]
    },
    {
     "name": "stderr",
     "output_type": "stream",
     "text": [
      "No handles with labels found to put in legend.\n"
     ]
    },
    {
     "name": "stdout",
     "output_type": "stream",
     "text": [
      "[[], [], []]\n"
     ]
    },
    {
     "name": "stderr",
     "output_type": "stream",
     "text": [
      "No handles with labels found to put in legend.\n"
     ]
    },
    {
     "name": "stdout",
     "output_type": "stream",
     "text": [
      "[[], [], []]\n"
     ]
    },
    {
     "name": "stderr",
     "output_type": "stream",
     "text": [
      "No handles with labels found to put in legend.\n"
     ]
    },
    {
     "name": "stdout",
     "output_type": "stream",
     "text": [
      "[[], [], []]\n"
     ]
    },
    {
     "name": "stderr",
     "output_type": "stream",
     "text": [
      "No handles with labels found to put in legend.\n"
     ]
    },
    {
     "name": "stdout",
     "output_type": "stream",
     "text": [
      "[[], [], []]\n"
     ]
    }
   ],
   "source": [
    "import tkinter as tk\n",
    "from tkinter import ttk\n",
    "from pandas import DataFrame\n",
    "import matplotlib.pyplot as plt\n",
    "from matplotlib.backends.backend_tkagg import FigureCanvasTkAgg\n",
    "\n",
    "# 範例資料\n",
    "Data1 = {'Country': ['US','CA','GER','UK','FR'], 'GDP_Per_Capita': [45000,42000,52000,49000,47000]}\n",
    "df1 = DataFrame(Data1, columns= ['Country', 'GDP_Per_Capita'])\n",
    "df1 = df1[['Country', 'GDP_Per_Capita']].groupby('Country').sum()\n",
    "\n",
    "Data2 = {'Year': [1920,1930,1940,1950,1960,1970,1980,1990,2000,2010], 'Unemployment_Rate': [9.8,12,8,7.2,6.9,7,6.5,6.2,5.5,6.3]}  \n",
    "df2 = DataFrame(Data2,columns=['Year','Unemployment_Rate'])\n",
    "df2 = df2[['Year', 'Unemployment_Rate']].groupby('Year').sum()\n",
    "\n",
    "Data3 = {'Interest_Rate': [5,5.5,6,5.5,5.25,6.5,7,8,7.5,8.5], 'Stock_Index_Price': [1500,1520,1525,1523,1515,1540,1545,1560,1555,1565]}\n",
    "df3 = DataFrame(Data3,columns=['Interest_Rate','Stock_Index_Price'])\n",
    "\n",
    "selected_list = [[], [], []]\n",
    "\n",
    "class Design(tk.Frame):\n",
    "    def __int__(self):\n",
    "        tk.Frame.__int__(self)\n",
    "        self.grid()\n",
    "\n",
    "    def Drop_down_list(self, title, title_row):\n",
    "        self.title_row = title_row\n",
    "        labelTop = tk.Label(cal, text = title)\n",
    "        labelTop.grid(column = 0, row = title_row)\n",
    "        self.City = ttk.Combobox(cal, values = list(data.keys()))\n",
    "        self.City.grid(column = 1, row = title_row)\n",
    "        self.City.current(0)\n",
    "        self.Region = ttk.Combobox(cal, values = [\"鄉鎮區\"])\n",
    "        self.Region.grid(column = 2, row = title_row)\n",
    "        self.Region.current(0)\n",
    "        self.City.bind(\"<<ComboboxSelected>>\", self.Chosen)\n",
    "\n",
    "    def Chosen(self, city):\n",
    "        self.var_Selected = self.City.get()\n",
    "        self.Region = ttk.Combobox(cal, values = list(data[self.var_Selected].keys()))\n",
    "        self.Region.grid(column = 2, row = self.title_row)\n",
    "        self.Region.current(0)\n",
    "        self.Region.bind(\"<<ComboboxSelected>>\", self.Saved)\n",
    "\n",
    "    def Saved(self, event):\n",
    "        selected_city = self.City.get()\n",
    "        selected_region = self.Region.get()\n",
    "        if selected_list[self.title_row] == []:\n",
    "            selected_list[self.title_row] = [selected_city, selected_region]\n",
    "        else:\n",
    "            selected_list[self.title_row][0] = selected_city\n",
    "            selected_list[self.title_row][1] = selected_region\n",
    "\n",
    "    def Search(self):\n",
    "        print(selected_list)\n",
    "        \n",
    "        # 建一個canvas\n",
    "        self.canvas = tk.Canvas(cal, width = 1500, height = 1500, bg = \"lightgray\")\n",
    "        self.canvas.grid(column = 0, row = 3, columnspan = 1500, sticky = tk.NE+tk.SW)\n",
    "        \n",
    "        # 畫圖\n",
    "        figure1 = plt.Figure(figsize=(6, 5), dpi=100)\n",
    "        ax1 = figure1.add_subplot(111)\n",
    "        bar1 = FigureCanvasTkAgg(figure1, self.canvas)\n",
    "        bar1.get_tk_widget().grid(column = 0, row = 3)\n",
    "        df1.plot(kind='bar', legend=True, ax=ax1)\n",
    "        ax1.set_title('Country Vs. GDP Per Capita')\n",
    "\n",
    "        figure2 = plt.Figure(figsize=(6, 5), dpi=100)\n",
    "        ax2 = figure2.add_subplot(111)\n",
    "        line2 = FigureCanvasTkAgg(figure2, self.canvas)\n",
    "        line2.get_tk_widget().grid(column = 1, row = 3)\n",
    "        df2.plot(kind='line', legend=True, ax=ax2, color='r',marker='o', fontsize=10)\n",
    "        ax2.set_title('Year Vs. Unemployment Rate')\n",
    "\n",
    "        figure3 = plt.Figure(figsize=(5, 5), dpi=100)\n",
    "        ax3 = figure3.add_subplot(111)\n",
    "        ax3.scatter(df3['Interest_Rate'],df3['Stock_Index_Price'], color = 'g')\n",
    "        scatter3 = FigureCanvasTkAgg(figure3, self.canvas) \n",
    "        scatter3.get_tk_widget().grid(column = 2, row = 3)\n",
    "        ax3.legend() \n",
    "        ax3.set_xlabel('Interest Rate')\n",
    "        ax3.set_title('Interest Rate Vs. Stock Index Price')\n",
    "        \n",
    "\n",
    "# GUI頁面建立\n",
    "cal = tk.Tk()\n",
    "cal.title(\"南波灣住區生活品質檢測\")\n",
    "cal.geometry('1000x500')\n",
    "\n",
    "# 下拉式選單建立\n",
    "Design().Drop_down_list(\"所選地區  : \", 0)\n",
    "Design().Drop_down_list(\"比較地區1 : \", 1)\n",
    "Design().Drop_down_list(\"比較地區2 : \", 2)\n",
    "\n",
    "# 搜尋按鈕建立\n",
    "button = tk.Button(cal, text = \"搜尋\", bg = \"lightblue\", command = Design().Search)\n",
    "button.grid(column = 3, row = 0, rowspan = 3)\n",
    "\n",
    "cal.mainloop()\n"
   ]
  },
  {
   "cell_type": "code",
   "execution_count": 50,
   "metadata": {},
   "outputs": [],
   "source": [
    "from tkinter import *\n",
    "root=Tk()\n",
    "frame=Frame(root,width=300,height=300)\n",
    "frame.grid(row=0,column=0)\n",
    "canvas=Canvas(frame,bg='#FFFFFF',width=300,height=300,scrollregion=(0,0,500,500))\n",
    "hbar=Scrollbar(frame,orient=HORIZONTAL)\n",
    "hbar.pack(side=BOTTOM,fill=X)\n",
    "hbar.config(command=canvas.xview)\n",
    "vbar=Scrollbar(frame,orient=VERTICAL)\n",
    "vbar.pack(side=RIGHT,fill=Y)\n",
    "vbar.config(command=canvas.yview)\n",
    "canvas.config(width=300,height=300)\n",
    "canvas.config(xscrollcommand=hbar.set, yscrollcommand=vbar.set)\n",
    "canvas.pack(side=LEFT,expand=True,fill=BOTH)\n",
    "\n",
    "root.mainloop()\n",
    "\n",
    "#https://cloud.tencent.com/developer/ask/35101"
   ]
  },
  {
   "cell_type": "code",
   "execution_count": null,
   "metadata": {},
   "outputs": [],
   "source": []
  }
 ],
 "metadata": {
  "kernelspec": {
   "display_name": "Python 3",
   "language": "python",
   "name": "python3"
  },
  "language_info": {
   "codemirror_mode": {
    "name": "ipython",
    "version": 3
   },
   "file_extension": ".py",
   "mimetype": "text/x-python",
   "name": "python",
   "nbconvert_exporter": "python",
   "pygments_lexer": "ipython3",
   "version": "3.7.5"
  }
 },
 "nbformat": 4,
 "nbformat_minor": 2
}
