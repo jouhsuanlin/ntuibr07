{
 "cells": [
  {
   "cell_type": "markdown",
   "metadata": {},
   "source": [
    "# GUI class"
   ]
  },
  {
   "cell_type": "code",
   "execution_count": null,
   "metadata": {},
   "outputs": [],
   "source": [
    "import tkinter as tk\n",
    "from tkinter import ttk\n",
    "from pandas import DataFrame\n",
    "import tkinter.font as tkFont\n",
    "import matplotlib.pyplot as plt\n",
    "from matplotlib.backends.backend_tkagg import FigureCanvasTkAgg\n",
    "\n",
    "selected_list = [[], [], []]\n",
    "\n",
    "class Design(tk.Frame):\n",
    "    def __int__(self):\n",
    "        tk.Frame.__int__(self)\n",
    "        self.grid()\n",
    "\n",
    "    def Drop_down_list(self, title, title_row):\n",
    "        self.title_row = title_row\n",
    "        labelTop = tk.Label(cal, text = title)\n",
    "        labelTop.grid(column = 0, row = title_row)\n",
    "        self.City = ttk.Combobox(cal, values = list(data.keys()))\n",
    "        self.City.grid(column = 1, row = title_row)\n",
    "        self.City.current(0)\n",
    "        self.Region = ttk.Combobox(cal, values = [\"鄉鎮區\"])\n",
    "        self.Region.grid(column = 2, row = title_row)\n",
    "        self.Region.current(0)\n",
    "        self.City.bind(\"<<ComboboxSelected>>\", self.Chosen)\n",
    "\n",
    "    def Chosen(self, city):\n",
    "        self.var_Selected = self.City.get()\n",
    "        self.Region = ttk.Combobox(cal, values = list(data[self.var_Selected].keys()))\n",
    "        self.Region.grid(column = 2, row = self.title_row)\n",
    "        self.Region.current(0)\n",
    "        self.Region.bind(\"<<ComboboxSelected>>\", self.Saved)\n",
    "\n",
    "    def Saved(self, event):\n",
    "        selected_city = self.City.get()\n",
    "        selected_region = self.Region.get()\n",
    "        if selected_list[self.title_row] == []:\n",
    "            selected_list[self.title_row] = [selected_city, selected_region]\n",
    "        else:\n",
    "            selected_list[self.title_row][0] = selected_city\n",
    "            selected_list[self.title_row][1] = selected_region\n",
    "         \n",
    "    def update_scrollregion(self, event):\n",
    "        self.Canvas.configure(scrollregion=self.Canvas.bbox(\"all\"))\n",
    "\n",
    "    def Search(self):\n",
    "        print(selected_list)\n",
    "        \n",
    "        # 建立Frame、Canvas及Canvasframe\n",
    "        self.Frame = tk.Frame(cal, width=1275, height=590, bg=\"#EBEBEB\")\n",
    "        self.Frame.grid(row=3, column=0, columnspan = 2000, sticky=\"nsew\")\n",
    "        self.Frame.rowconfigure(0, weight=1) \n",
    "        self.Frame.columnconfigure(0, weight=1)\n",
    "        \n",
    "        self.Canvas = tk.Canvas(self.Frame, width=1275, height=590, bg=\"#EBEBEB\")\n",
    "        self.Canvas.grid(row=3, column=0, columnspan = 2000, sticky=\"nsew\")\n",
    "        \n",
    "        self.CanvasFrame = tk.Frame(self.Canvas, width=1275, height=590, bg=\"#EBEBEB\")\n",
    "        self.Canvas.create_window(0, 0, window=self.CanvasFrame, anchor='nw')\n",
    "\n",
    "        # 最上方數字呈現\n",
    "        f1 = tkFont.Font(family='microsoft yahei', size=16, weight='bold')\n",
    "        f2 = tkFont.Font(family='microsoft yahei', size=12, weight='bold')\n",
    "        f3 = tkFont.Font(family='microsoft yahei', size=40, weight='bold')\n",
    "        \n",
    "        self.bus_label = tk.Label(self.CanvasFrame, text='公車站牌密度(個/平方公里)', font = f1, bg = \"white\")\n",
    "        self.bus_label.grid(column = 1, row = 3, columnspan = 3, sticky=\"nsew\")\n",
    "        \n",
    "        self.bus_label_Region1 = tk.Label(self.CanvasFrame, text=selected_list[0][1], font = f2, bg = \"white\")\n",
    "        self.bus_label_Region1.grid(column = 1, row = 4, sticky=\"nsew\")\n",
    "        self.bus_label_Region2 = tk.Label(self.CanvasFrame, text=selected_list[1][1], font = f2, bg = \"white\")\n",
    "        self.bus_label_Region2.grid(column = 2, row = 4, sticky=\"nsew\")\n",
    "        self.bus_label_Region3 = tk.Label(self.CanvasFrame, text=selected_list[2][1], font = f2, bg = \"white\")\n",
    "        self.bus_label_Region3.grid(column = 3, row = 4, sticky=\"nsew\")\n",
    "        \n",
    "        self.bus_number_Region1 = tk.Label(self.CanvasFrame, text='10', font = f3, bg = \"white\")\n",
    "        self.bus_number_Region1.grid(column = 1, row = 5, sticky=\"nsew\")\n",
    "        self.bus_number_Region2 = tk.Label(self.CanvasFrame, text='20', font = f3, bg = \"white\")\n",
    "        self.bus_number_Region2.grid(column = 2, row = 5, sticky=\"nsew\")\n",
    "        self.bus_number_Region3 = tk.Label(self.CanvasFrame, text='30', font = f3, bg = \"white\")\n",
    "        self.bus_number_Region3.grid(column = 3, row = 5, sticky=\"nsew\")\n",
    "        \n",
    "        self.clinic_label = tk.Label(self.CanvasFrame, text='人均診所家數(千分之一)', font = f1, bg = \"white\")\n",
    "        self.clinic_label.grid(column = 5, row = 3, columnspan = 3, sticky=\"nsew\")\n",
    "        \n",
    "        self.clinic_label_Region1 = tk.Label(self.CanvasFrame, text=selected_list[0][1], font = f2, bg = \"white\")\n",
    "        self.clinic_label_Region1.grid(column = 5, row = 4, sticky=\"nsew\")\n",
    "        self.clinic_label_Region2 = tk.Label(self.CanvasFrame, text=selected_list[1][1], font = f2, bg = \"white\")\n",
    "        self.clinic_label_Region2.grid(column = 6, row = 4, sticky=\"nsew\")\n",
    "        self.clinic_label_Region3 = tk.Label(self.CanvasFrame, text=selected_list[2][1], font = f2, bg = \"white\")\n",
    "        self.clinic_label_Region3.grid(column = 7, row = 4, sticky=\"nsew\")\n",
    "\n",
    "        self.clinic_number_Region1 = tk.Label(self.CanvasFrame, text='5', font = f3, bg = \"white\")\n",
    "        self.clinic_number_Region1.grid(column = 5, row = 5, sticky=\"nsew\")\n",
    "        self.clinic_number_Region2 = tk.Label(self.CanvasFrame, text='10', font = f3, bg = \"white\")\n",
    "        self.clinic_number_Region2.grid(column = 6, row = 5, sticky=\"nsew\")\n",
    "        self.clinic_number_Region3 = tk.Label(self.CanvasFrame, text='15', font = f3, bg = \"white\")\n",
    "        self.clinic_number_Region3.grid(column = 7, row = 5, sticky=\"nsew\")\n",
    "        \n",
    "        # 畫圖\n",
    "        one = FigureCanvasTkAgg(figure1, self.CanvasFrame)\n",
    "        one.get_tk_widget().grid(column = 1, row = 7, columnspan = 3)\n",
    "        \n",
    "        two = FigureCanvasTkAgg(figure2, self.CanvasFrame)\n",
    "        two.get_tk_widget().grid(column = 5, row = 7, columnspan = 3)\n",
    "        \n",
    "        three = FigureCanvasTkAgg(figure3, self.CanvasFrame) \n",
    "        three.get_tk_widget().grid(column = 1, row = 9, columnspan = 3)\n",
    "    \n",
    "        four = FigureCanvasTkAgg(figure1, self.CanvasFrame)\n",
    "        four.get_tk_widget().grid(column = 5, row = 9, columnspan = 3)\n",
    "\n",
    "        five = FigureCanvasTkAgg(figure2, self.CanvasFrame)\n",
    "        five.get_tk_widget().grid(column = 1, row = 11, columnspan = 3)\n",
    "        \n",
    "        six = FigureCanvasTkAgg(figure1, self.CanvasFrame)\n",
    "        six.get_tk_widget().grid(column = 5, row = 11, columnspan = 3)\n",
    "    \n",
    "        # 建立下拉捲軸\n",
    "        self.Scroll = tk.Scrollbar(self.Frame, orient=tk.VERTICAL)\n",
    "        self.Scroll.config(command=self.Canvas.yview)\n",
    "        self.Canvas.config(yscrollcommand=self.Scroll.set)\n",
    "        self.Scroll.grid(row=3, column=1, sticky=\"ns\")\n",
    "        self.CanvasFrame.bind(\"<Configure>\", self.update_scrollregion)\n",
    "\n",
    "\n"
   ]
  },
  {
   "cell_type": "markdown",
   "metadata": {},
   "source": [
    "# 繪圖 class"
   ]
  },
  {
   "cell_type": "code",
   "execution_count": null,
   "metadata": {},
   "outputs": [],
   "source": []
  },
  {
   "cell_type": "markdown",
   "metadata": {},
   "source": [
    "# 主程式區"
   ]
  },
  {
   "cell_type": "code",
   "execution_count": null,
   "metadata": {},
   "outputs": [],
   "source": [
    "# GUI頁面建立\n",
    "cal = tk.Tk()\n",
    "cal.title(\"南波灣住區生活品質檢測\")\n",
    "cal.geometry('1000x500')\n",
    "\n",
    "# 下拉式選單建立\n",
    "Design().Drop_down_list(\"所選地區  : \", 0)\n",
    "Design().Drop_down_list(\"比較地區1 : \", 1)\n",
    "Design().Drop_down_list(\"比較地區2 : \", 2)\n",
    "\n",
    "# 搜尋按鈕建立\n",
    "button = tk.Button(cal, text = \"搜尋\", bg = \"lightblue\", command = Design().Search)\n",
    "button.grid(column = 3, row = 0, rowspan = 3)\n",
    "\n",
    "cal.mainloop()"
   ]
  },
  {
   "cell_type": "code",
   "execution_count": null,
   "metadata": {},
   "outputs": [],
   "source": []
  },
  {
   "cell_type": "code",
   "execution_count": null,
   "metadata": {},
   "outputs": [],
   "source": []
  },
  {
   "cell_type": "code",
   "execution_count": null,
   "metadata": {},
   "outputs": [],
   "source": []
  },
  {
   "cell_type": "code",
   "execution_count": null,
   "metadata": {},
   "outputs": [],
   "source": []
  },
  {
   "cell_type": "code",
   "execution_count": null,
   "metadata": {},
   "outputs": [],
   "source": []
  },
  {
   "cell_type": "code",
   "execution_count": null,
   "metadata": {},
   "outputs": [],
   "source": []
  },
  {
   "cell_type": "code",
   "execution_count": null,
   "metadata": {},
   "outputs": [],
   "source": []
  },
  {
   "cell_type": "code",
   "execution_count": null,
   "metadata": {},
   "outputs": [],
   "source": []
  },
  {
   "cell_type": "code",
   "execution_count": null,
   "metadata": {},
   "outputs": [],
   "source": []
  },
  {
   "cell_type": "code",
   "execution_count": null,
   "metadata": {},
   "outputs": [],
   "source": []
  },
  {
   "cell_type": "code",
   "execution_count": null,
   "metadata": {},
   "outputs": [],
   "source": []
  }
 ],
 "metadata": {
  "kernelspec": {
   "display_name": "Python 3",
   "language": "python",
   "name": "python3"
  },
  "language_info": {
   "codemirror_mode": {
    "name": "ipython",
    "version": 3
   },
   "file_extension": ".py",
   "mimetype": "text/x-python",
   "name": "python",
   "nbconvert_exporter": "python",
   "pygments_lexer": "ipython3",
   "version": "3.7.5"
  }
 },
 "nbformat": 4,
 "nbformat_minor": 2
}
