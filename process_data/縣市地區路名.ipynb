{
 "cells": [
  {
   "cell_type": "code",
   "execution_count": 105,
   "metadata": {},
   "outputs": [],
   "source": [
    "from bs4 import BeautifulSoup as bs\n",
    "import requests\n",
    "from tqdm import tqdm_notebook, _tqdm_notebook\n",
    "import pandas as pd\n",
    "import numpy as np\n",
    "import pickle\n",
    "import sys \n",
    "sys.setrecursionlimit(1000000)"
   ]
  },
  {
   "cell_type": "markdown",
   "metadata": {},
   "source": [
    "# 撈出全台縣市與url"
   ]
  },
  {
   "cell_type": "code",
   "execution_count": 110,
   "metadata": {},
   "outputs": [
    {
     "name": "stdout",
     "output_type": "stream",
     "text": [
      "\n"
     ]
    }
   ],
   "source": [
    "r = requests.get('https://zip5.5432.tw/cityzip')\n",
    "r.encoding = 'utf8'\n",
    "data = bs(r.text)\n"
   ]
  },
  {
   "cell_type": "code",
   "execution_count": 111,
   "metadata": {},
   "outputs": [
    {
     "data": {
      "text/plain": [
       "{'臺北市': 'https://zip5.5432.tw/cityzip/臺北市',\n",
       " '基隆市': 'https://zip5.5432.tw/cityzip/基隆市',\n",
       " '新北市': 'https://zip5.5432.tw/cityzip/新北市',\n",
       " '連江縣': 'https://zip5.5432.tw/cityzip/連江縣',\n",
       " '宜蘭縣': 'https://zip5.5432.tw/cityzip/宜蘭縣',\n",
       " '釣魚臺': 'https://zip5.5432.tw/cityzip/釣魚臺',\n",
       " '新竹市': 'https://zip5.5432.tw/cityzip/新竹市',\n",
       " '新竹縣': 'https://zip5.5432.tw/cityzip/新竹縣',\n",
       " '桃園市': 'https://zip5.5432.tw/cityzip/桃園市',\n",
       " '苗栗縣': 'https://zip5.5432.tw/cityzip/苗栗縣',\n",
       " '臺中市': 'https://zip5.5432.tw/cityzip/臺中市',\n",
       " '彰化縣': 'https://zip5.5432.tw/cityzip/彰化縣',\n",
       " '南投縣': 'https://zip5.5432.tw/cityzip/南投縣',\n",
       " '嘉義市': 'https://zip5.5432.tw/cityzip/嘉義市',\n",
       " '嘉義縣': 'https://zip5.5432.tw/cityzip/嘉義縣',\n",
       " '雲林縣': 'https://zip5.5432.tw/cityzip/雲林縣',\n",
       " '臺南市': 'https://zip5.5432.tw/cityzip/臺南市',\n",
       " '高雄市': 'https://zip5.5432.tw/cityzip/高雄市',\n",
       " '南海島': 'https://zip5.5432.tw/cityzip/南海島',\n",
       " '澎湖縣': 'https://zip5.5432.tw/cityzip/澎湖縣',\n",
       " '金門縣': 'https://zip5.5432.tw/cityzip/金門縣',\n",
       " '屏東縣': 'https://zip5.5432.tw/cityzip/屏東縣',\n",
       " '臺東縣': 'https://zip5.5432.tw/cityzip/臺東縣',\n",
       " '花蓮縣': 'https://zip5.5432.tw/cityzip/花蓮縣'}"
      ]
     },
     "execution_count": 111,
     "metadata": {},
     "output_type": "execute_result"
    }
   ],
   "source": [
    "total_info = dict()\n",
    "for x in data.find_all('a')[1:25]:\n",
    "    area = dict()\n",
    "    total_info[x.string] = 'https://zip5.5432.tw' + x.get('href')\n",
    "    \n",
    "    \n",
    "total_info    "
   ]
  },
  {
   "cell_type": "markdown",
   "metadata": {},
   "source": [
    "# 撈出個地區與url"
   ]
  },
  {
   "cell_type": "code",
   "execution_count": 112,
   "metadata": {},
   "outputs": [
    {
     "data": {
      "application/vnd.jupyter.widget-view+json": {
       "model_id": "76581ab1cb6b4b84912e4ae66ad57d5f",
       "version_major": 2,
       "version_minor": 0
      },
      "text/plain": [
       "HBox(children=(IntProgress(value=0, max=24), HTML(value='')))"
      ]
     },
     "metadata": {},
     "output_type": "display_data"
    },
    {
     "name": "stdout",
     "output_type": "stream",
     "text": [
      "\n"
     ]
    },
    {
     "data": {
      "text/plain": [
       "{'中正區': 'https://zip5.5432.tw/cityzip/臺北市/中正區',\n",
       " '大同區': 'https://zip5.5432.tw/cityzip/臺北市/大同區',\n",
       " '中山區': 'https://zip5.5432.tw/cityzip/臺北市/中山區',\n",
       " '松山區': 'https://zip5.5432.tw/cityzip/臺北市/松山區',\n",
       " '大安區': 'https://zip5.5432.tw/cityzip/臺北市/大安區',\n",
       " '萬華區': 'https://zip5.5432.tw/cityzip/臺北市/萬華區',\n",
       " '信義區': 'https://zip5.5432.tw/cityzip/臺北市/信義區',\n",
       " '士林區': 'https://zip5.5432.tw/cityzip/臺北市/士林區',\n",
       " '北投區': 'https://zip5.5432.tw/cityzip/臺北市/北投區',\n",
       " '內湖區': 'https://zip5.5432.tw/cityzip/臺北市/內湖區',\n",
       " '南港區': 'https://zip5.5432.tw/cityzip/臺北市/南港區',\n",
       " '文山區': 'https://zip5.5432.tw/cityzip/臺北市/文山區'}"
      ]
     },
     "execution_count": 112,
     "metadata": {},
     "output_type": "execute_result"
    }
   ],
   "source": [
    "for city in tqdm_notebook(total_info.keys()):\n",
    "    r = requests.get(total_info[city])\n",
    "    r.encoding = 'utf8'\n",
    "    data = bs(r.text)\n",
    "    \n",
    "    area_dict = dict()\n",
    "    for area in data.find_all('a')[2:]:\n",
    "        if len(area.string) <= 3:\n",
    "            area_dict[area.string] = 'https://zip5.5432.tw' + area.get('href')\n",
    "            \n",
    "    total_info[city] = area_dict\n",
    "\n",
    "\n",
    "total_info['臺北市']"
   ]
  },
  {
   "cell_type": "markdown",
   "metadata": {},
   "source": [
    "# 撈出個路名"
   ]
  },
  {
   "cell_type": "code",
   "execution_count": 113,
   "metadata": {},
   "outputs": [
    {
     "data": {
      "application/vnd.jupyter.widget-view+json": {
       "model_id": "5d97ef07f61a491fb15818dd5c1f4539",
       "version_major": 2,
       "version_minor": 0
      },
      "text/plain": [
       "HBox(children=(IntProgress(value=0, max=24), HTML(value='')))"
      ]
     },
     "metadata": {},
     "output_type": "display_data"
    },
    {
     "data": {
      "application/vnd.jupyter.widget-view+json": {
       "model_id": "8ee61eaddfc047fc90635e41efa6cf05",
       "version_major": 2,
       "version_minor": 0
      },
      "text/plain": [
       "HBox(children=(IntProgress(value=0, max=12), HTML(value='')))"
      ]
     },
     "metadata": {},
     "output_type": "display_data"
    },
    {
     "name": "stdout",
     "output_type": "stream",
     "text": [
      "\n"
     ]
    },
    {
     "data": {
      "application/vnd.jupyter.widget-view+json": {
       "model_id": "eca2ad1ad0b94bda9fc3cf3b0e928604",
       "version_major": 2,
       "version_minor": 0
      },
      "text/plain": [
       "HBox(children=(IntProgress(value=0, max=7), HTML(value='')))"
      ]
     },
     "metadata": {},
     "output_type": "display_data"
    },
    {
     "name": "stdout",
     "output_type": "stream",
     "text": [
      "\n"
     ]
    },
    {
     "data": {
      "application/vnd.jupyter.widget-view+json": {
       "model_id": "64fcb62cca48437e9eebe3cdd6479a7d",
       "version_major": 2,
       "version_minor": 0
      },
      "text/plain": [
       "HBox(children=(IntProgress(value=0, max=29), HTML(value='')))"
      ]
     },
     "metadata": {},
     "output_type": "display_data"
    },
    {
     "name": "stdout",
     "output_type": "stream",
     "text": [
      "\n"
     ]
    },
    {
     "data": {
      "application/vnd.jupyter.widget-view+json": {
       "model_id": "408f553ffc4e471c967ed5e6224c4529",
       "version_major": 2,
       "version_minor": 0
      },
      "text/plain": [
       "HBox(children=(IntProgress(value=0, max=4), HTML(value='')))"
      ]
     },
     "metadata": {},
     "output_type": "display_data"
    },
    {
     "name": "stdout",
     "output_type": "stream",
     "text": [
      "\n"
     ]
    },
    {
     "data": {
      "application/vnd.jupyter.widget-view+json": {
       "model_id": "c1a1a55a899d46e6b0e6298de6ed6cca",
       "version_major": 2,
       "version_minor": 0
      },
      "text/plain": [
       "HBox(children=(IntProgress(value=0, max=13), HTML(value='')))"
      ]
     },
     "metadata": {},
     "output_type": "display_data"
    },
    {
     "name": "stdout",
     "output_type": "stream",
     "text": [
      "\n"
     ]
    },
    {
     "data": {
      "application/vnd.jupyter.widget-view+json": {
       "model_id": "cee3acffb0114e9eba356c584124b0c5",
       "version_major": 2,
       "version_minor": 0
      },
      "text/plain": [
       "HBox(children=(IntProgress(value=0, max=1), HTML(value='')))"
      ]
     },
     "metadata": {},
     "output_type": "display_data"
    },
    {
     "name": "stdout",
     "output_type": "stream",
     "text": [
      "\n"
     ]
    },
    {
     "data": {
      "application/vnd.jupyter.widget-view+json": {
       "model_id": "df55c14dbc634477b9654e38b290887d",
       "version_major": 2,
       "version_minor": 0
      },
      "text/plain": [
       "HBox(children=(IntProgress(value=0, max=3), HTML(value='')))"
      ]
     },
     "metadata": {},
     "output_type": "display_data"
    },
    {
     "name": "stdout",
     "output_type": "stream",
     "text": [
      "\n"
     ]
    },
    {
     "data": {
      "application/vnd.jupyter.widget-view+json": {
       "model_id": "872f1701e5db4d30b4c57fc7af8c6afb",
       "version_major": 2,
       "version_minor": 0
      },
      "text/plain": [
       "HBox(children=(IntProgress(value=0, max=13), HTML(value='')))"
      ]
     },
     "metadata": {},
     "output_type": "display_data"
    },
    {
     "name": "stdout",
     "output_type": "stream",
     "text": [
      "\n"
     ]
    },
    {
     "data": {
      "application/vnd.jupyter.widget-view+json": {
       "model_id": "9ece64e0220e43298a93f8f30b483bf4",
       "version_major": 2,
       "version_minor": 0
      },
      "text/plain": [
       "HBox(children=(IntProgress(value=0, max=13), HTML(value='')))"
      ]
     },
     "metadata": {},
     "output_type": "display_data"
    },
    {
     "name": "stdout",
     "output_type": "stream",
     "text": [
      "\n"
     ]
    },
    {
     "data": {
      "application/vnd.jupyter.widget-view+json": {
       "model_id": "385bea4770544dfaa8eab8e7bf00d71c",
       "version_major": 2,
       "version_minor": 0
      },
      "text/plain": [
       "HBox(children=(IntProgress(value=0, max=18), HTML(value='')))"
      ]
     },
     "metadata": {},
     "output_type": "display_data"
    },
    {
     "name": "stdout",
     "output_type": "stream",
     "text": [
      "\n"
     ]
    },
    {
     "data": {
      "application/vnd.jupyter.widget-view+json": {
       "model_id": "13805505d73040b5becf6ff0216d628d",
       "version_major": 2,
       "version_minor": 0
      },
      "text/plain": [
       "HBox(children=(IntProgress(value=0, max=29), HTML(value='')))"
      ]
     },
     "metadata": {},
     "output_type": "display_data"
    },
    {
     "name": "stdout",
     "output_type": "stream",
     "text": [
      "\n"
     ]
    },
    {
     "data": {
      "application/vnd.jupyter.widget-view+json": {
       "model_id": "57c8505537ae4daf9d45d85479af77e8",
       "version_major": 2,
       "version_minor": 0
      },
      "text/plain": [
       "HBox(children=(IntProgress(value=0, max=26), HTML(value='')))"
      ]
     },
     "metadata": {},
     "output_type": "display_data"
    },
    {
     "name": "stdout",
     "output_type": "stream",
     "text": [
      "\n"
     ]
    },
    {
     "data": {
      "application/vnd.jupyter.widget-view+json": {
       "model_id": "f383b4cd10d645f8b18b99f9f7119396",
       "version_major": 2,
       "version_minor": 0
      },
      "text/plain": [
       "HBox(children=(IntProgress(value=0, max=13), HTML(value='')))"
      ]
     },
     "metadata": {},
     "output_type": "display_data"
    },
    {
     "name": "stdout",
     "output_type": "stream",
     "text": [
      "\n"
     ]
    },
    {
     "data": {
      "application/vnd.jupyter.widget-view+json": {
       "model_id": "66ca3d675b53440aaba430bf1ac25059",
       "version_major": 2,
       "version_minor": 0
      },
      "text/plain": [
       "HBox(children=(IntProgress(value=0, max=2), HTML(value='')))"
      ]
     },
     "metadata": {},
     "output_type": "display_data"
    },
    {
     "name": "stdout",
     "output_type": "stream",
     "text": [
      "\n"
     ]
    },
    {
     "data": {
      "application/vnd.jupyter.widget-view+json": {
       "model_id": "ee648bc42d744efab82309354a832eec",
       "version_major": 2,
       "version_minor": 0
      },
      "text/plain": [
       "HBox(children=(IntProgress(value=0, max=17), HTML(value='')))"
      ]
     },
     "metadata": {},
     "output_type": "display_data"
    },
    {
     "name": "stdout",
     "output_type": "stream",
     "text": [
      "\n"
     ]
    },
    {
     "data": {
      "application/vnd.jupyter.widget-view+json": {
       "model_id": "dd65f92e3c3c4d719a5eb96e6ad6b3c6",
       "version_major": 2,
       "version_minor": 0
      },
      "text/plain": [
       "HBox(children=(IntProgress(value=0, max=20), HTML(value='')))"
      ]
     },
     "metadata": {},
     "output_type": "display_data"
    },
    {
     "name": "stdout",
     "output_type": "stream",
     "text": [
      "\n"
     ]
    },
    {
     "data": {
      "application/vnd.jupyter.widget-view+json": {
       "model_id": "6311d302115b42e4bfc8298743e081fb",
       "version_major": 2,
       "version_minor": 0
      },
      "text/plain": [
       "HBox(children=(IntProgress(value=0, max=37), HTML(value='')))"
      ]
     },
     "metadata": {},
     "output_type": "display_data"
    },
    {
     "name": "stdout",
     "output_type": "stream",
     "text": [
      "\n"
     ]
    },
    {
     "data": {
      "application/vnd.jupyter.widget-view+json": {
       "model_id": "00325c1618724fab96aea4a4251c5102",
       "version_major": 2,
       "version_minor": 0
      },
      "text/plain": [
       "HBox(children=(IntProgress(value=0, max=37), HTML(value='')))"
      ]
     },
     "metadata": {},
     "output_type": "display_data"
    },
    {
     "name": "stdout",
     "output_type": "stream",
     "text": [
      "\n"
     ]
    },
    {
     "data": {
      "application/vnd.jupyter.widget-view+json": {
       "model_id": "aab8e068f68642ac8cef464b1b827d2e",
       "version_major": 2,
       "version_minor": 0
      },
      "text/plain": [
       "HBox(children=(IntProgress(value=1, bar_style='info', max=1), HTML(value='')))"
      ]
     },
     "metadata": {},
     "output_type": "display_data"
    },
    {
     "name": "stdout",
     "output_type": "stream",
     "text": [
      "\n"
     ]
    },
    {
     "data": {
      "application/vnd.jupyter.widget-view+json": {
       "model_id": "f834f6696b54489ab1f41fda8c24ae62",
       "version_major": 2,
       "version_minor": 0
      },
      "text/plain": [
       "HBox(children=(IntProgress(value=0, max=6), HTML(value='')))"
      ]
     },
     "metadata": {},
     "output_type": "display_data"
    },
    {
     "name": "stdout",
     "output_type": "stream",
     "text": [
      "\n"
     ]
    },
    {
     "data": {
      "application/vnd.jupyter.widget-view+json": {
       "model_id": "76eb220978a7472896e9b2b85e889d66",
       "version_major": 2,
       "version_minor": 0
      },
      "text/plain": [
       "HBox(children=(IntProgress(value=0, max=6), HTML(value='')))"
      ]
     },
     "metadata": {},
     "output_type": "display_data"
    },
    {
     "name": "stdout",
     "output_type": "stream",
     "text": [
      "\n"
     ]
    },
    {
     "data": {
      "application/vnd.jupyter.widget-view+json": {
       "model_id": "0a3515367a5f4005ba18dca62acbf4b8",
       "version_major": 2,
       "version_minor": 0
      },
      "text/plain": [
       "HBox(children=(IntProgress(value=0, max=32), HTML(value='')))"
      ]
     },
     "metadata": {},
     "output_type": "display_data"
    },
    {
     "name": "stdout",
     "output_type": "stream",
     "text": [
      "\n"
     ]
    },
    {
     "data": {
      "application/vnd.jupyter.widget-view+json": {
       "model_id": "d3de216a3c4e4354964bfffe7895e710",
       "version_major": 2,
       "version_minor": 0
      },
      "text/plain": [
       "HBox(children=(IntProgress(value=0, max=15), HTML(value='')))"
      ]
     },
     "metadata": {},
     "output_type": "display_data"
    },
    {
     "name": "stdout",
     "output_type": "stream",
     "text": [
      "\n"
     ]
    },
    {
     "data": {
      "application/vnd.jupyter.widget-view+json": {
       "model_id": "7ea3887944d54831ab53cc4855fc49d9",
       "version_major": 2,
       "version_minor": 0
      },
      "text/plain": [
       "HBox(children=(IntProgress(value=0, max=13), HTML(value='')))"
      ]
     },
     "metadata": {},
     "output_type": "display_data"
    },
    {
     "name": "stdout",
     "output_type": "stream",
     "text": [
      "\n",
      "\n"
     ]
    },
    {
     "data": {
      "text/plain": [
       "['仁愛路３段',\n",
       " '仁愛路４段',\n",
       " '信義路２段',\n",
       " '信義路３段',\n",
       " '信義路４段',\n",
       " '光復南路',\n",
       " '八德路２段',\n",
       " '和平東路１段',\n",
       " '和平東路２段',\n",
       " '和平東路３段',\n",
       " '嘉興街',\n",
       " '四維路',\n",
       " '基隆路２段',\n",
       " '基隆路３段',\n",
       " '基隆路４段',\n",
       " '大安路１段',\n",
       " '大安路２段',\n",
       " '安和路１段',\n",
       " '安和路２段',\n",
       " '安居街',\n",
       " '安東街',\n",
       " '富陽街',\n",
       " '市民大道３段',\n",
       " '市民大道４段',\n",
       " '師大路',\n",
       " '延吉街',\n",
       " '建國南路１段',\n",
       " '建國南路２段',\n",
       " '復興南路１段',\n",
       " '復興南路２段',\n",
       " '忠孝東路３段',\n",
       " '忠孝東路４段',\n",
       " '愛國東路',\n",
       " '敦化南路１段',\n",
       " '敦化南路２段',\n",
       " '敦南街',\n",
       " '文昌街',\n",
       " '新生北路１段',\n",
       " '新生南路１段',\n",
       " '新生南路２段',\n",
       " '新生南路３段',\n",
       " '杭州南路２段',\n",
       " '東豐街',\n",
       " '樂利路',\n",
       " '樂業街',\n",
       " '永康街',\n",
       " '泰順街',\n",
       " '浦城街',\n",
       " '溫州街',\n",
       " '潮州街',\n",
       " '濟南路３段',\n",
       " '瑞安街',\n",
       " '羅斯福路２段',\n",
       " '羅斯福路３段',\n",
       " '羅斯福路４段',\n",
       " '臥龍街',\n",
       " '臨江街',\n",
       " '芳蘭路',\n",
       " '辛亥路１段',\n",
       " '辛亥路２段',\n",
       " '辛亥路３段',\n",
       " '通化街',\n",
       " '通安街',\n",
       " '金山南路２段',\n",
       " '金華街',\n",
       " '長興街',\n",
       " '雲和街',\n",
       " '青田街',\n",
       " '麗水街',\n",
       " '龍泉街']"
      ]
     },
     "execution_count": 113,
     "metadata": {},
     "output_type": "execute_result"
    }
   ],
   "source": [
    "for city in tqdm_notebook(total_info.keys()):\n",
    "    for area in tqdm_notebook(total_info[city].keys()):\n",
    "        r = requests.get(total_info[city][area])\n",
    "        r.encoding = 'utf8'\n",
    "        data = bs(r.text)\n",
    "        road_list = []\n",
    "        for x in data.find_all('td'):\n",
    "            road_list.append(x.string)\n",
    "        \n",
    "        total_info[city][area] = road_list\n",
    "        \n",
    "total_info['臺北市']['大安區']"
   ]
  },
  {
   "cell_type": "code",
   "execution_count": 101,
   "metadata": {
    "scrolled": false
   },
   "outputs": [],
   "source": [
    "with open('city_area_road.pkl','wb') as f:\n",
    "    pickle.dump(total_info, f)"
   ]
  },
  {
   "cell_type": "code",
   "execution_count": null,
   "metadata": {},
   "outputs": [],
   "source": []
  },
  {
   "cell_type": "code",
   "execution_count": null,
   "metadata": {},
   "outputs": [],
   "source": []
  },
  {
   "cell_type": "code",
   "execution_count": null,
   "metadata": {},
   "outputs": [],
   "source": []
  },
  {
   "cell_type": "code",
   "execution_count": null,
   "metadata": {},
   "outputs": [],
   "source": []
  },
  {
   "cell_type": "code",
   "execution_count": null,
   "metadata": {},
   "outputs": [],
   "source": []
  },
  {
   "cell_type": "code",
   "execution_count": null,
   "metadata": {},
   "outputs": [],
   "source": []
  },
  {
   "cell_type": "code",
   "execution_count": null,
   "metadata": {},
   "outputs": [],
   "source": []
  }
 ],
 "metadata": {
  "kernelspec": {
   "display_name": "Python 3",
   "language": "python",
   "name": "python3"
  },
  "language_info": {
   "codemirror_mode": {
    "name": "ipython",
    "version": 3
   },
   "file_extension": ".py",
   "mimetype": "text/x-python",
   "name": "python",
   "nbconvert_exporter": "python",
   "pygments_lexer": "ipython3",
   "version": "3.7.4"
  }
 },
 "nbformat": 4,
 "nbformat_minor": 2
}
