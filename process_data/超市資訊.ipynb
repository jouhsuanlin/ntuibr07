{
 "cells": [
  {
   "cell_type": "markdown",
   "metadata": {},
   "source": [
    "# 引用套件"
   ]
  },
  {
   "cell_type": "code",
   "execution_count": 1,
   "metadata": {},
   "outputs": [],
   "source": [
    "from bs4 import BeautifulSoup as bs\n",
    "import requests\n",
    "from tqdm import tqdm_notebook, _tqdm_notebook\n",
    "import pandas as pd\n",
    "import numpy as np\n",
    "headers = {'User-Agent': 'Mozilla/5.0 (Macintosh; Intel Mac OS X 10_13_6) AppleWebKit/537.36 (KHTML, like Gecko) Chrome/78.0.3904.108 Safari/537.36' }"
   ]
  },
  {
   "cell_type": "markdown",
   "metadata": {},
   "source": [
    "# 撈全聯"
   ]
  },
  {
   "cell_type": "code",
   "execution_count": 2,
   "metadata": {},
   "outputs": [],
   "source": [
    "r = requests.get('https://www.319papago.idv.tw/lifeinfo/pxmart/pxmart-00.html', headers = headers)\n",
    "r.encoding = 'utf8'\n",
    "data = bs(r.text, 'lxml')\n"
   ]
  },
  {
   "cell_type": "markdown",
   "metadata": {},
   "source": [
    "# 取出全聯連結(所有地區)"
   ]
  },
  {
   "cell_type": "code",
   "execution_count": 3,
   "metadata": {},
   "outputs": [
    {
     "data": {
      "text/plain": [
       "['https://www.319papago.idv.tw/lifeinfo/pxmart/pxmart-01.html',\n",
       " 'https://www.319papago.idv.tw/lifeinfo/pxmart/pxmart-02.html',\n",
       " 'https://www.319papago.idv.tw/lifeinfo/pxmart/pxmart-03.html',\n",
       " 'https://www.319papago.idv.tw/lifeinfo/pxmart/pxmart-04.html',\n",
       " 'https://www.319papago.idv.tw/lifeinfo/pxmart/pxmart-05.html',\n",
       " 'https://www.319papago.idv.tw/lifeinfo/pxmart/pxmart-06.html',\n",
       " 'https://www.319papago.idv.tw/lifeinfo/pxmart/pxmart-07.html',\n",
       " 'https://www.319papago.idv.tw/lifeinfo/pxmart/pxmart-08.html',\n",
       " 'https://www.319papago.idv.tw/lifeinfo/pxmart/pxmart-09.html',\n",
       " 'https://www.319papago.idv.tw/lifeinfo/pxmart/pxmart-10.html',\n",
       " 'https://www.319papago.idv.tw/lifeinfo/pxmart/pxmart-11.html',\n",
       " 'https://www.319papago.idv.tw/lifeinfo/pxmart/pxmart-12.html',\n",
       " 'https://www.319papago.idv.tw/lifeinfo/pxmart/pxmart-13.html',\n",
       " 'https://www.319papago.idv.tw/lifeinfo/pxmart/pxmart-14.html',\n",
       " 'https://www.319papago.idv.tw/lifeinfo/pxmart/pxmart-15.html',\n",
       " 'https://www.319papago.idv.tw/lifeinfo/pxmart/pxmart-16.html',\n",
       " 'https://www.319papago.idv.tw/lifeinfo/pxmart/pxmart-17.html',\n",
       " 'https://www.319papago.idv.tw/lifeinfo/pxmart/pxmart-18.html']"
      ]
     },
     "execution_count": 3,
     "metadata": {},
     "output_type": "execute_result"
    }
   ],
   "source": [
    "url_list = []\n",
    "for ele in data.find_all('a')[4:]:\n",
    "    url_list.append('https://www.319papago.idv.tw/lifeinfo/pxmart/' + ele.get('href'))\n",
    "url_list  "
   ]
  },
  {
   "cell_type": "markdown",
   "metadata": {},
   "source": [
    "# 撈出全聯所有資料"
   ]
  },
  {
   "cell_type": "code",
   "execution_count": 4,
   "metadata": {},
   "outputs": [
    {
     "data": {
      "application/vnd.jupyter.widget-view+json": {
       "model_id": "b5c9460f11b1413e9006669c46f0f36c",
       "version_major": 2,
       "version_minor": 0
      },
      "text/plain": [
       "HBox(children=(IntProgress(value=0, max=18), HTML(value='')))"
      ]
     },
     "metadata": {},
     "output_type": "display_data"
    },
    {
     "name": "stdout",
     "output_type": "stream",
     "text": [
      "\n"
     ]
    },
    {
     "data": {
      "text/plain": [
       "['基隆市七堵區南興路106號',\n",
       " '基隆市中山區西定路230號',\n",
       " '基隆市中山區復興路151號',\n",
       " '基隆市中正區中正路676號',\n",
       " '基隆市中正區信四路11號',\n",
       " '基隆市仁愛區仁三路11號',\n",
       " '基隆市仁愛區成功一路133巷1號',\n",
       " '基隆市仁愛區精一路15號1樓',\n",
       " '基隆市安樂區基金一路135巷21弄2號之1',\n",
       " '基隆市信義區東明路177號',\n",
       " '基隆市信義區東信路55巷17號',\n",
       " '基隆市信義區義六路５號',\n",
       " '台北市士林區士東路23號',\n",
       " '台北市士林區大南路315號',\n",
       " '台北市士林區中山北路７段81巷7號']"
      ]
     },
     "execution_count": 4,
     "metadata": {},
     "output_type": "execute_result"
    }
   ],
   "source": [
    "total_dict = dict()\n",
    "chuan_lian = []\n",
    "for url in tqdm_notebook(url_list):\n",
    "    r = requests.get(url, headers = headers)\n",
    "    r.encoding = 'utf8'\n",
    "    data = bs(r.text, 'lxml')\n",
    "    \n",
    "    for x in data.find_all('tr', height = '22'):\n",
    "        address = x.find_all('td')[2].string\n",
    "        chuan_lian.append(address)\n",
    "total_dict['chuan_lian'] = chuan_lian\n",
    "\n",
    "total_dict['chuan_lian'][1:16]\n",
    "    "
   ]
  },
  {
   "cell_type": "markdown",
   "metadata": {},
   "source": [
    "# 撈頂好網址"
   ]
  },
  {
   "cell_type": "code",
   "execution_count": 5,
   "metadata": {},
   "outputs": [
    {
     "data": {
      "text/plain": [
       "['https://www.319papago.idv.tw/lifeinfo/Wellcome/Wellcome-01.html',\n",
       " 'https://www.319papago.idv.tw/lifeinfo/Wellcome/Wellcome-02.html',\n",
       " 'https://www.319papago.idv.tw/lifeinfo/Wellcome/Wellcome-03.html',\n",
       " 'https://www.319papago.idv.tw/lifeinfo/Wellcome/Wellcome-04.html',\n",
       " 'https://www.319papago.idv.tw/lifeinfo/Wellcome/Wellcome-05.html',\n",
       " 'https://www.319papago.idv.tw/lifeinfo/Wellcome/Wellcome-06.html',\n",
       " 'https://www.319papago.idv.tw/lifeinfo/Wellcome/Wellcome-07.html',\n",
       " 'https://www.319papago.idv.tw/lifeinfo/Wellcome/Wellcome-08.html',\n",
       " 'https://www.319papago.idv.tw/lifeinfo/Wellcome/Wellcome-09.html',\n",
       " 'https://www.319papago.idv.tw/lifeinfo/Wellcome/Wellcome-10.html',\n",
       " 'https://www.319papago.idv.tw/lifeinfo/Wellcome/Wellcome-11.html',\n",
       " 'https://www.319papago.idv.tw/lifeinfo/Wellcome/Wellcome-12.html',\n",
       " 'https://www.319papago.idv.tw/lifeinfo/Wellcome/Wellcome-13.html',\n",
       " 'https://www.319papago.idv.tw/lifeinfo/Wellcome/Wellcome-14.html',\n",
       " 'https://www.319papago.idv.tw/lifeinfo/Wellcome/Wellcome-15.html',\n",
       " 'https://www.319papago.idv.tw/lifeinfo/Wellcome/Wellcome-16.html',\n",
       " 'https://www.319papago.idv.tw/lifeinfo/Wellcome/Wellcome-17.html',\n",
       " 'https://www.319papago.idv.tw/lifeinfo/Wellcome/Wellcome-18.html',\n",
       " 'https://www.319papago.idv.tw/lifeinfo/Wellcome/Wellcome-19.html',\n",
       " 'https://www.319papago.idv.tw/lifeinfo/Wellcome/Wellcome-20.html',\n",
       " 'https://www.319papago.idv.tw/lifeinfo/Wellcome/Wellcome-21.html',\n",
       " 'https://www.319papago.idv.tw/lifeinfo/Wellcome/Wellcome-22.html']"
      ]
     },
     "execution_count": 5,
     "metadata": {},
     "output_type": "execute_result"
    }
   ],
   "source": [
    "r = requests.get('https://www.319papago.idv.tw/lifeinfo/Wellcome/Wellcome-00.html')\n",
    "r.encoding = 'utf8'\n",
    "data = bs(r.text, 'lxml')\n",
    "\n",
    "url_list = []\n",
    "for ele in data.find_all('a')[5:]:\n",
    "    url_list.append('https://www.319papago.idv.tw/lifeinfo/Wellcome/' + ele.get('href'))\n",
    "url_list  \n"
   ]
  },
  {
   "cell_type": "markdown",
   "metadata": {},
   "source": [
    "# 撈出頂好所有資料"
   ]
  },
  {
   "cell_type": "code",
   "execution_count": 6,
   "metadata": {},
   "outputs": [
    {
     "data": {
      "application/vnd.jupyter.widget-view+json": {
       "model_id": "2a3594305fc2470aa3ef68e5a620483c",
       "version_major": 2,
       "version_minor": 0
      },
      "text/plain": [
       "HBox(children=(IntProgress(value=0, max=22), HTML(value='')))"
      ]
     },
     "metadata": {},
     "output_type": "display_data"
    },
    {
     "name": "stdout",
     "output_type": "stream",
     "text": [
      "\n"
     ]
    },
    {
     "data": {
      "text/plain": [
       "['基隆市中正區新豐街460號底樓',\n",
       " '基隆市仁愛區孝二路86號B1',\n",
       " '基隆市安樂區安樂路二段164號B1',\n",
       " '基隆市安樂區樂利二街62巷225號',\n",
       " '基隆市信義區深溪路63號、65號',\n",
       " '基隆市暖暖區暖暖街168,170號',\n",
       " '台北市士林區中山北路七段154巷6號1樓',\n",
       " '台北市士林區社中街222號1樓',\n",
       " '台北市士林區雨聲街52號、52-1號、52巷1號',\n",
       " '台北市士林區格致路7號',\n",
       " '台北市士林區通河街153號、155號',\n",
       " '台北市士林區華齡街175號',\n",
       " '台北市士林區德行東路230號',\n",
       " '台北市大同區太原路155、157號',\n",
       " '台北市大同區重慶北路一段73號B1']"
      ]
     },
     "execution_count": 6,
     "metadata": {},
     "output_type": "execute_result"
    }
   ],
   "source": [
    "wellcome = []\n",
    "for url in tqdm_notebook(url_list):\n",
    "    r = requests.get(url, headers = headers)\n",
    "    r.encoding = 'utf8'\n",
    "    data = bs(r.text, 'lxml')\n",
    "    for x in data.find_all('tr', height = '22'):\n",
    "        address = x.find_all('td')[2].string\n",
    "        wellcome.append(address)\n",
    "total_dict['wellcome'] = wellcome\n",
    "total_dict['wellcome'][1:16]"
   ]
  },
  {
   "cell_type": "markdown",
   "metadata": {},
   "source": [
    "# 好市多網址"
   ]
  },
  {
   "cell_type": "code",
   "execution_count": 7,
   "metadata": {},
   "outputs": [
    {
     "data": {
      "text/plain": [
       "['https://www.319papago.idv.tw/lifeinfo/costco/costco-01.html',\n",
       " 'https://www.319papago.idv.tw/lifeinfo/costco/costco-02.html',\n",
       " 'https://www.319papago.idv.tw/lifeinfo/costco/costco-03.html',\n",
       " 'https://www.319papago.idv.tw/lifeinfo/costco/costco-04.html',\n",
       " 'https://www.319papago.idv.tw/lifeinfo/costco/costco-05.html',\n",
       " 'https://www.319papago.idv.tw/lifeinfo/costco/costco-06.html',\n",
       " 'https://www.319papago.idv.tw/lifeinfo/costco/costco-07.html',\n",
       " 'https://www.319papago.idv.tw/lifeinfo/costco/costco-08.html',\n",
       " 'https://www.319papago.idv.tw/lifeinfo/costco/costco-09.html',\n",
       " 'https://www.319papago.idv.tw/lifeinfo/costco/costco-10.html',\n",
       " 'https://www.319papago.idv.tw/lifeinfo/costco/costco-11.html',\n",
       " 'https://www.319papago.idv.tw/lifeinfo/costco/costco-12.html',\n",
       " 'https://www.319papago.idv.tw/lifeinfo/costco/costco-13.html',\n",
       " 'https://www.319papago.idv.tw/lifeinfo/costco/costco-14.html',\n",
       " 'https://www.319papago.idv.tw/lifeinfo/costco/costco-15.html',\n",
       " 'https://www.319papago.idv.tw/lifeinfo/costco/costco-16.html',\n",
       " 'https://www.319papago.idv.tw/lifeinfo/costco/costco-17.html',\n",
       " 'https://www.319papago.idv.tw/lifeinfo/costco/costco-18.html',\n",
       " 'https://www.319papago.idv.tw/lifeinfo/costco/costco-19.html',\n",
       " 'https://www.319papago.idv.tw/lifeinfo/costco/costco-20.html',\n",
       " 'https://www.319papago.idv.tw/lifeinfo/costco/costco-21.html',\n",
       " 'https://www.319papago.idv.tw/lifeinfo/costco/costco-22.html']"
      ]
     },
     "execution_count": 7,
     "metadata": {},
     "output_type": "execute_result"
    }
   ],
   "source": [
    "r = requests.get('https://www.319papago.idv.tw/lifeinfo/costco/costco-00.html', headers = headers)\n",
    "r.encoding = 'utf8'\n",
    "data = bs(r.text, 'lxml')\n",
    "\n",
    "url_list = []\n",
    "for ele in data.find_all('a')[5:]:\n",
    "    url_list.append('https://www.319papago.idv.tw/lifeinfo/costco/' + ele.get('href'))\n",
    "url_list  "
   ]
  },
  {
   "cell_type": "markdown",
   "metadata": {},
   "source": [
    "# 撈出好市多所有資料"
   ]
  },
  {
   "cell_type": "code",
   "execution_count": null,
   "metadata": {
    "scrolled": false
   },
   "outputs": [
    {
     "data": {
      "application/vnd.jupyter.widget-view+json": {
       "model_id": "8661713f3d0544cdb8b42da911ac0b67",
       "version_major": 2,
       "version_minor": 0
      },
      "text/plain": [
       "HBox(children=(IntProgress(value=0, max=22), HTML(value='')))"
      ]
     },
     "metadata": {},
     "output_type": "display_data"
    }
   ],
   "source": [
    "costco = []\n",
    "for url in tqdm_notebook(url_list):\n",
    "    r = requests.get(url, headers = headers)\n",
    "    r.encoding = 'utf8'\n",
    "    data = bs(r.text, 'lxml')\n",
    "    if len(data.find_all('tr', height = '22')) != 0:\n",
    "        for x in data.find_all('tr', height = '22'):\n",
    "            address = x.find_all('td')[2].string\n",
    "            costco.append(address)\n",
    "    else:\n",
    "        address = data.find_all('td', height = '33')[3].string\n",
    "        if address != '\\xa0':\n",
    "            costco.append(address)\n",
    "        \n",
    "        \n",
    "total_dict['costco'] = costco\n",
    "total_dict['costco'] "
   ]
  },
  {
   "cell_type": "markdown",
   "metadata": {},
   "source": [
    "# 合併成一個Dataframe(全聯、頂好、costco 依序)"
   ]
  },
  {
   "cell_type": "code",
   "execution_count": null,
   "metadata": {},
   "outputs": [],
   "source": [
    "#全聯\n",
    "chuan_lian = pd.DataFrame({'地址':total_dict['chuan_lian']})\n",
    "chuan_lian['縣市地區'] = 0\n",
    "\n",
    "for x in tqdm_notebook(range(0, len(chuan_lian))):\n",
    "    chuan_lian.loc[x,'縣市地區'] = chuan_lian.loc[x, '地址'][0:6]\n",
    "    \n",
    "chuan_lian = pd.DataFrame({'縣市地區':chuan_lian.groupby('縣市地區').size().index,\\\n",
    "                           '全聯家數':chuan_lian.groupby('縣市地區').size().values})\n",
    "chuan_lian"
   ]
  },
  {
   "cell_type": "code",
   "execution_count": null,
   "metadata": {},
   "outputs": [],
   "source": [
    "#頂好\n",
    "wellcome = pd.DataFrame({'地址':total_dict['wellcome']})\n",
    "wellcome['縣市地區'] = 0\n",
    "\n",
    "for x in tqdm_notebook(range(0, len(wellcome))):\n",
    "    wellcome.loc[x,'縣市地區'] = wellcome.loc[x, '地址'][0:6]\n",
    "    \n",
    "wellcome = pd.DataFrame({'縣市地區':wellcome.groupby('縣市地區').size().index,\\\n",
    "                           '頂好家數':wellcome.groupby('縣市地區').size().values})\n",
    "wellcome"
   ]
  },
  {
   "cell_type": "code",
   "execution_count": null,
   "metadata": {},
   "outputs": [],
   "source": [
    "#Costco\n",
    "costco = pd.DataFrame({'地址':total_dict['costco']})\n",
    "costco['縣市地區'] = 0\n",
    "\n",
    "for x in tqdm_notebook(range(0, len(costco))):\n",
    "    costco.loc[x,'縣市地區'] = costco.loc[x, '地址'][0:6]\n",
    "    \n",
    "costco = pd.DataFrame({'縣市地區':costco.groupby('縣市地區').size().index,\\\n",
    "                           'costco家數':costco.groupby('縣市地區').size().values})\n",
    "costco\n"
   ]
  },
  {
   "cell_type": "code",
   "execution_count": null,
   "metadata": {},
   "outputs": [],
   "source": [
    "All = pd.merge(chuan_lian, wellcome, on = '縣市地區', how = 'outer')\n",
    "All = pd.merge(All, costco, on = '縣市地區', how = 'outer')\n",
    "All\n"
   ]
  },
  {
   "cell_type": "code",
   "execution_count": null,
   "metadata": {},
   "outputs": [],
   "source": [
    "All['縣市'] = 0\n",
    "All['地區'] = 0\n",
    "\n",
    "for x in range(0,len(All)):\n",
    "    All.loc[x,'縣市'] = All.loc[x,'縣市地區'][0:3]\n",
    "    All.loc[x,'地區'] = All.loc[x,'縣市地區'][3:]\n",
    "    \n",
    "All = All.drop(columns = '縣市地區')\n",
    "All = All[['縣市','地區', 'costco家數','頂好家數','全聯家數']]\n",
    "All = All.fillna(0)\n",
    "All"
   ]
  },
  {
   "cell_type": "code",
   "execution_count": null,
   "metadata": {},
   "outputs": [],
   "source": [
    "All.to_csv('超市家數.csv')"
   ]
  },
  {
   "cell_type": "code",
   "execution_count": null,
   "metadata": {},
   "outputs": [],
   "source": []
  },
  {
   "cell_type": "code",
   "execution_count": null,
   "metadata": {},
   "outputs": [],
   "source": []
  }
 ],
 "metadata": {
  "kernelspec": {
   "display_name": "Python 3",
   "language": "python",
   "name": "python3"
  },
  "language_info": {
   "codemirror_mode": {
    "name": "ipython",
    "version": 3
   },
   "file_extension": ".py",
   "mimetype": "text/x-python",
   "name": "python",
   "nbconvert_exporter": "python",
   "pygments_lexer": "ipython3",
   "version": "3.7.4"
  }
 },
 "nbformat": 4,
 "nbformat_minor": 2
}
