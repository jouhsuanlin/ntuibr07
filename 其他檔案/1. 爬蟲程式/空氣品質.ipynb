{
 "cells": [
  {
   "cell_type": "code",
   "execution_count": 7,
   "metadata": {},
   "outputs": [],
   "source": [
    "from selenium import webdriver\n",
    "from selenium.webdriver.common.keys import Keys\n",
    "from selenium.webdriver.support.ui import Select\n",
    "from bs4 import BeautifulSoup as bs\n",
    "import requests\n",
    "import time\n",
    "import scrapy\n",
    "import json\n",
    "from tqdm import tqdm_notebook, _tqdm_notebook\n",
    "import pickle\n",
    "import sys\n",
    "import pandas as pd"
   ]
  },
  {
   "cell_type": "markdown",
   "metadata": {},
   "source": [
    "# function 區"
   ]
  },
  {
   "cell_type": "code",
   "execution_count": 82,
   "metadata": {},
   "outputs": [],
   "source": [
    "def get_list(objects):       # object = soup.find('select')\n",
    "    lists = []\n",
    "    for x in objects:\n",
    "        a = x.string\n",
    "        if a !='\\n':\n",
    "            lists.append(a)\n",
    "    return lists\n",
    "    \n",
    "\n",
    "def collect_data(tr):\n",
    "    air_qua = dict()\n",
    "    for x in range(0,11):\n",
    "        if x == 0:\n",
    "            date = tr[x].find_all('td')[2].string\n",
    "            pm =  tr[x].find_all('td')[3].string\n",
    "            air_qua[date] = int(pm)\n",
    "        else:\n",
    "            date = tr[x].find_all('td')[0].string\n",
    "            pm =  tr[x].find_all('td')[1].string\n",
    "            air_qua[date] = int(pm)\n",
    "    return air_qua\n",
    "    "
   ]
  },
  {
   "cell_type": "code",
   "execution_count": 22,
   "metadata": {},
   "outputs": [
    {
     "data": {
      "text/plain": [
       "['新北市-富貴角',\n",
       " '新北市-萬里',\n",
       " '新北市-淡水',\n",
       " '新北市-林口',\n",
       " '新北市-三重',\n",
       " '新北市-菜寮',\n",
       " '新北市-汐止',\n",
       " '新北市-新莊',\n",
       " '新北市-永和',\n",
       " '新北市-板橋',\n",
       " '新北市-土城',\n",
       " '新北市-新店',\n",
       " '臺北市-陽明',\n",
       " '臺北市-士林',\n",
       " '臺北市-大同',\n",
       " '臺北市-中山',\n",
       " '臺北市-松山',\n",
       " '臺北市-萬華',\n",
       " '臺北市-古亭',\n",
       " '基隆市-基隆',\n",
       " '桃園市-大園',\n",
       " '桃園市-觀音',\n",
       " '桃園市-桃園',\n",
       " '桃園市-平鎮',\n",
       " '桃園市-中壢',\n",
       " '桃園市-龍潭',\n",
       " '新竹市-新竹',\n",
       " '新竹縣-湖口',\n",
       " '新竹縣-竹東',\n",
       " '苗栗縣-頭份',\n",
       " '苗栗縣-苗栗',\n",
       " '苗栗縣-三義',\n",
       " '臺中市-豐原',\n",
       " '臺中市-沙鹿',\n",
       " '臺中市-西屯',\n",
       " '臺中市-忠明',\n",
       " '臺中市-大里',\n",
       " '彰化縣-線西',\n",
       " '彰化縣-彰化',\n",
       " '彰化縣-二林',\n",
       " '南投縣-埔里',\n",
       " '南投縣-南投',\n",
       " '南投縣-竹山',\n",
       " '雲林縣-崙背',\n",
       " '雲林縣-麥寮',\n",
       " '雲林縣-臺西',\n",
       " '雲林縣-斗六',\n",
       " '嘉義縣-新港',\n",
       " '嘉義縣-朴子',\n",
       " '嘉義市-嘉義',\n",
       " '臺南市-新營',\n",
       " '臺南市-善化',\n",
       " '臺南市-安南',\n",
       " '臺南市-臺南',\n",
       " '高雄市-美濃',\n",
       " '高雄市-橋頭',\n",
       " '高雄市-楠梓',\n",
       " '高雄市-仁武',\n",
       " '高雄市-左營',\n",
       " '高雄市-前金',\n",
       " '高雄市-鳳山',\n",
       " '高雄市-復興',\n",
       " '高雄市-前鎮',\n",
       " '高雄市-小港',\n",
       " '高雄市-大寮',\n",
       " '高雄市-林園',\n",
       " '屏東縣-屏東',\n",
       " '屏東縣-潮州',\n",
       " '屏東縣-恆春',\n",
       " '宜蘭縣-宜蘭',\n",
       " '宜蘭縣-冬山',\n",
       " '花蓮縣-花蓮',\n",
       " '臺東縣-關山',\n",
       " '臺東縣-臺東',\n",
       " '連江縣-馬祖',\n",
       " '金門縣-金門',\n",
       " '澎湖縣-馬公',\n",
       " '連江縣-馬祖東引']"
      ]
     },
     "execution_count": 22,
     "metadata": {},
     "output_type": "execute_result"
    }
   ],
   "source": [
    "lists"
   ]
  },
  {
   "cell_type": "code",
   "execution_count": 90,
   "metadata": {},
   "outputs": [
    {
     "data": {
      "application/vnd.jupyter.widget-view+json": {
       "model_id": "c9f60a9d85834b7eb67d4f7e49675909",
       "version_major": 2,
       "version_minor": 0
      },
      "text/plain": [
       "HBox(children=(IntProgress(value=0, max=78), HTML(value='')))"
      ]
     },
     "metadata": {},
     "output_type": "display_data"
    },
    {
     "name": "stdout",
     "output_type": "stream",
     "text": [
      "\n"
     ]
    }
   ],
   "source": [
    "# 打開模擬瀏覽器，進入網址\n",
    "driver = webdriver.Chrome('/Users/lanjingyi/Desktop/chromedriver')\n",
    "driver.get('https://taqm.epa.gov.tw/pm25/tw/MonthlyAverage.aspx')\n",
    "search = driver.find_element_by_xpath('//*[@id=\"ctl08_btnQuery\"]')\n",
    "\n",
    "total_info =dict()\n",
    "#取的要爬的list\n",
    "driver.implicitly_wait(10)\n",
    "search.click()\n",
    "time.sleep(1)\n",
    "soup = bs(driver.page_source, 'lxml')\n",
    "obs_list = get_list(soup.find('select'))\n",
    "\n",
    "#開始爬每個項目\n",
    "for obs in tqdm_notebook(obs_list):\n",
    "    select = Select(driver.find_element_by_xpath('//*[@id=\"ctl08_ddlSite\"]'))    #選取下拉式選單\n",
    "    select.select_by_visible_text(obs)\n",
    "    \n",
    "    search = driver.find_element_by_xpath('//*[@id=\"ctl08_btnQuery\"]')          #搜尋鍵\n",
    "    search.click()\n",
    "    time.sleep(2)\n",
    "    \n",
    "    \n",
    "    soup = bs(driver.page_source, 'lxml')\n",
    "    air_quality = collect_data(soup.find_all('tr', style=\"color:Black;\"))\n",
    "    total_info[obs] = air_quality\n",
    "    \n",
    "\n",
    "\n",
    "    \n",
    "\n",
    "time.sleep(10)\n",
    "driver.quit()"
   ]
  },
  {
   "cell_type": "code",
   "execution_count": 98,
   "metadata": {
    "scrolled": true
   },
   "outputs": [
    {
     "data": {
      "text/plain": [
       "78"
      ]
     },
     "execution_count": 98,
     "metadata": {},
     "output_type": "execute_result"
    }
   ],
   "source": [
    "len(total_info)"
   ]
  },
  {
   "cell_type": "markdown",
   "metadata": {},
   "source": [
    "# 存檔"
   ]
  },
  {
   "cell_type": "code",
   "execution_count": 96,
   "metadata": {},
   "outputs": [],
   "source": [
    "with open('air_quality.pkl', 'wb') as f:\n",
    "    pickle.dump(total_info,f)"
   ]
  },
  {
   "cell_type": "markdown",
   "metadata": {},
   "source": [
    "# 結束（下面不重要）"
   ]
  },
  {
   "cell_type": "code",
   "execution_count": 71,
   "metadata": {},
   "outputs": [
    {
     "data": {
      "text/plain": [
       "{'2019/01': 16,\n",
       " '2019/02': 15,\n",
       " '2019/03': 19,\n",
       " '2019/04': 16,\n",
       " '2019/05': 13,\n",
       " '2019/06': 9,\n",
       " '2019/07': 8,\n",
       " '2019/08': 10,\n",
       " '2019/09': 13,\n",
       " '2019/10': 17,\n",
       " '2019/11': 15}"
      ]
     },
     "execution_count": 71,
     "metadata": {},
     "output_type": "execute_result"
    }
   ],
   "source": [
    "air_qua = dict()\n",
    "for x in range(0,11):\n",
    "    if x == 0:\n",
    "        date = soup.find_all('tr', style=\"color:Black;\")[x].find_all('td')[2].string\n",
    "        pm =  soup.find_all('tr', style=\"color:Black;\")[x].find_all('td')[3].string\n",
    "        air_qua[date] = int(pm)\n",
    "    else:\n",
    "        date = soup.find_all('tr', style=\"color:Black;\")[x].find_all('td')[0].string\n",
    "        pm =  soup.find_all('tr', style=\"color:Black;\")[x].find_all('td')[1].string\n",
    "        air_qua[date] = int(pm)\n",
    "        \n",
    "air_qua"
   ]
  },
  {
   "cell_type": "code",
   "execution_count": 93,
   "metadata": {},
   "outputs": [],
   "source": [
    "#soup.find_all('tr', style=\"color:Black;\")"
   ]
  },
  {
   "cell_type": "code",
   "execution_count": 92,
   "metadata": {},
   "outputs": [],
   "source": [
    "#soup.find_all('tr', style=\"color:Black;\")"
   ]
  }
 ],
 "metadata": {
  "kernelspec": {
   "display_name": "Python 3",
   "language": "python",
   "name": "python3"
  },
  "language_info": {
   "codemirror_mode": {
    "name": "ipython",
    "version": 3
   },
   "file_extension": ".py",
   "mimetype": "text/x-python",
   "name": "python",
   "nbconvert_exporter": "python",
   "pygments_lexer": "ipython3",
   "version": "3.7.4"
  }
 },
 "nbformat": 4,
 "nbformat_minor": 2
}
