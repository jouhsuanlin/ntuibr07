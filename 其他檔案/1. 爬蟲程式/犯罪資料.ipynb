{
 "cells": [
  {
   "cell_type": "markdown",
   "metadata": {},
   "source": [
    "# 犯罪資料：將所有近三年資料拉下來"
   ]
  },
  {
   "cell_type": "code",
   "execution_count": 28,
   "metadata": {},
   "outputs": [],
   "source": [
    "import requests\n",
    "import json\n",
    "import pandas as pd\n",
    "from tqdm import tqdm_notebook, _tqdm_notebook\n",
    "from bs4 import BeautifulSoup as bs"
   ]
  },
  {
   "cell_type": "markdown",
   "metadata": {},
   "source": [
    "# 爬下所有API 連結"
   ]
  },
  {
   "cell_type": "code",
   "execution_count": 29,
   "metadata": {},
   "outputs": [],
   "source": [
    "r = requests.get('https://data.gov.tw/dataset/14200')\n",
    "info = bs(r.text)"
   ]
  },
  {
   "cell_type": "code",
   "execution_count": null,
   "metadata": {},
   "outputs": [],
   "source": []
  },
  {
   "cell_type": "code",
   "execution_count": 38,
   "metadata": {
    "scrolled": true
   },
   "outputs": [
    {
     "data": {
      "text/plain": [
       "['http://od.moi.gov.tw/api/v1/rest/datastore/A01010000C-000499-121',\n",
       " 'http://od.moi.gov.tw/api/v1/rest/datastore/A01010000C-000499-089',\n",
       " 'http://od.moi.gov.tw/api/v1/rest/datastore/A01010000C-000499-097',\n",
       " 'http://od.moi.gov.tw/api/v1/rest/datastore/A01010000C-000499-161',\n",
       " 'http://od.moi.gov.tw/api/v1/rest/datastore/A01010000C-000499-153',\n",
       " 'http://od.moi.gov.tw/api/v1/rest/datastore/A01010000C-000499-093',\n",
       " 'http://od.moi.gov.tw/api/v1/rest/datastore/A01010000C-000499-137',\n",
       " 'http://od.moi.gov.tw/api/v1/rest/datastore/A01010000C-000499-101',\n",
       " 'http://od.moi.gov.tw/api/v1/rest/datastore/A01010000C-000499-105',\n",
       " 'http://od.moi.gov.tw/api/v1/rest/datastore/A01010000C-000499-141',\n",
       " 'http://od.moi.gov.tw/api/v1/rest/datastore/A01010000C-000499-085',\n",
       " 'http://od.moi.gov.tw/api/v1/rest/datastore/A01010000C-000499-129',\n",
       " 'http://od.moi.gov.tw/api/v1/rest/datastore/A01010000C-000499-133',\n",
       " 'http://od.moi.gov.tw/api/v1/rest/datastore/A01010000C-000499-125',\n",
       " 'http://od.moi.gov.tw/api/v1/rest/datastore/A01010000C-000499-157',\n",
       " 'http://od.moi.gov.tw/api/v1/rest/datastore/A01010000C-000499-109',\n",
       " 'http://od.moi.gov.tw/api/v1/rest/datastore/A01010000C-000499-149',\n",
       " 'http://od.moi.gov.tw/api/v1/rest/datastore/A01010000C-000499-117',\n",
       " 'http://od.moi.gov.tw/api/v1/rest/datastore/A01010000C-000499-113']"
      ]
     },
     "execution_count": 38,
     "metadata": {},
     "output_type": "execute_result"
    }
   ],
   "source": [
    "url_list = []\n",
    "\n",
    "for ele in info.find_all('a', class_ = \"ff-icon-api\"):\n",
    "    url_list.append(ele.get('href'))\n",
    "    \n",
    "url_list"
   ]
  },
  {
   "cell_type": "markdown",
   "metadata": {},
   "source": [
    "# 將所有資料合併"
   ]
  },
  {
   "cell_type": "code",
   "execution_count": 109,
   "metadata": {
    "scrolled": false
   },
   "outputs": [
    {
     "data": {
      "application/vnd.jupyter.widget-view+json": {
       "model_id": "3b312336ccae4be1bf22eba2147535a4",
       "version_major": 2,
       "version_minor": 0
      },
      "text/plain": [
       "HBox(children=(IntProgress(value=0, max=19), HTML(value='')))"
      ]
     },
     "metadata": {},
     "output_type": "display_data"
    },
    {
     "name": "stdout",
     "output_type": "stream",
     "text": [
      "(1999, 3)\n",
      "(3998, 3)\n",
      "(5997, 3)\n",
      "(7996, 3)\n",
      "(9995, 3)\n",
      "(11994, 3)\n",
      "(13993, 3)\n",
      "(15992, 3)\n",
      "(17991, 3)\n",
      "(19990, 3)\n",
      "(21989, 3)\n",
      "(23988, 3)\n",
      "(25987, 3)\n",
      "(27986, 3)\n",
      "(29985, 3)\n",
      "(31984, 3)\n",
      "(33983, 3)\n",
      "(35982, 3)\n",
      "(37981, 3)\n",
      "\n"
     ]
    },
    {
     "data": {
      "text/html": [
       "<div>\n",
       "<style scoped>\n",
       "    .dataframe tbody tr th:only-of-type {\n",
       "        vertical-align: middle;\n",
       "    }\n",
       "\n",
       "    .dataframe tbody tr th {\n",
       "        vertical-align: top;\n",
       "    }\n",
       "\n",
       "    .dataframe thead th {\n",
       "        text-align: right;\n",
       "    }\n",
       "</style>\n",
       "<table border=\"1\" class=\"dataframe\">\n",
       "  <thead>\n",
       "    <tr style=\"text-align: right;\">\n",
       "      <th></th>\n",
       "      <th>type</th>\n",
       "      <th>oc_dt</th>\n",
       "      <th>oc_p1</th>\n",
       "    </tr>\n",
       "  </thead>\n",
       "  <tbody>\n",
       "    <tr>\n",
       "      <td>0</td>\n",
       "      <td>住宅竊盜</td>\n",
       "      <td>1060401</td>\n",
       "      <td>宜蘭縣羅東鎮</td>\n",
       "    </tr>\n",
       "    <tr>\n",
       "      <td>1</td>\n",
       "      <td>住宅竊盜</td>\n",
       "      <td>1060401</td>\n",
       "      <td>花蓮縣秀林鄉</td>\n",
       "    </tr>\n",
       "    <tr>\n",
       "      <td>2</td>\n",
       "      <td>住宅竊盜</td>\n",
       "      <td>1060401</td>\n",
       "      <td>台中市清水區</td>\n",
       "    </tr>\n",
       "    <tr>\n",
       "      <td>3</td>\n",
       "      <td>住宅竊盜</td>\n",
       "      <td>1060401</td>\n",
       "      <td>彰化縣埔鹽鄉</td>\n",
       "    </tr>\n",
       "    <tr>\n",
       "      <td>4</td>\n",
       "      <td>住宅竊盜</td>\n",
       "      <td>1060401</td>\n",
       "      <td>新北市瑞芳區</td>\n",
       "    </tr>\n",
       "    <tr>\n",
       "      <td>...</td>\n",
       "      <td>...</td>\n",
       "      <td>...</td>\n",
       "      <td>...</td>\n",
       "    </tr>\n",
       "    <tr>\n",
       "      <td>37976</td>\n",
       "      <td>機車竊盜</td>\n",
       "      <td>1051029</td>\n",
       "      <td>桃園市</td>\n",
       "    </tr>\n",
       "    <tr>\n",
       "      <td>37977</td>\n",
       "      <td>機車竊盜</td>\n",
       "      <td>1051029</td>\n",
       "      <td>高雄市</td>\n",
       "    </tr>\n",
       "    <tr>\n",
       "      <td>37978</td>\n",
       "      <td>機車竊盜</td>\n",
       "      <td>1051029</td>\n",
       "      <td>台南市</td>\n",
       "    </tr>\n",
       "    <tr>\n",
       "      <td>37979</td>\n",
       "      <td>機車竊盜</td>\n",
       "      <td>1051029</td>\n",
       "      <td>台中市大雅區</td>\n",
       "    </tr>\n",
       "    <tr>\n",
       "      <td>37980</td>\n",
       "      <td>機車竊盜</td>\n",
       "      <td>1051029</td>\n",
       "      <td>新北市</td>\n",
       "    </tr>\n",
       "  </tbody>\n",
       "</table>\n",
       "<p>37981 rows × 3 columns</p>\n",
       "</div>"
      ],
      "text/plain": [
       "       type    oc_dt   oc_p1\n",
       "0      住宅竊盜  1060401  宜蘭縣羅東鎮\n",
       "1      住宅竊盜  1060401  花蓮縣秀林鄉\n",
       "2      住宅竊盜  1060401  台中市清水區\n",
       "3      住宅竊盜  1060401  彰化縣埔鹽鄉\n",
       "4      住宅竊盜  1060401  新北市瑞芳區\n",
       "...     ...      ...     ...\n",
       "37976  機車竊盜  1051029     桃園市\n",
       "37977  機車竊盜  1051029     高雄市\n",
       "37978  機車竊盜  1051029     台南市\n",
       "37979  機車竊盜  1051029  台中市大雅區\n",
       "37980  機車竊盜  1051029     新北市\n",
       "\n",
       "[37981 rows x 3 columns]"
      ]
     },
     "execution_count": 109,
     "metadata": {},
     "output_type": "execute_result"
    }
   ],
   "source": [
    "total_info = pd.DataFrame(columns =['type', 'oc_dt', 'oc_p1'] )\n",
    "for x in tqdm_notebook(range(0,len(url_list))):\n",
    "    r = requests.get(url_list[x])\n",
    "    data = json.loads(r.text)\n",
    "    data = pd.DataFrame(data['result']['records'][1:])\n",
    "    #print(data.shape)\n",
    "    #print(data.head(10))\n",
    "    total_info = pd.concat([total_info, data], axis = 0, ignore_index = True)\n",
    "    print(total_info.shape)\n",
    "    #print(total_info.head(10))\n",
    "total_info"
   ]
  },
  {
   "cell_type": "code",
   "execution_count": 119,
   "metadata": {},
   "outputs": [
    {
     "data": {
      "application/vnd.jupyter.widget-view+json": {
       "model_id": "5fb67ea458fc42de8d264d61fe84f5a2",
       "version_major": 2,
       "version_minor": 0
      },
      "text/plain": [
       "HBox(children=(IntProgress(value=0, max=37981), HTML(value='')))"
      ]
     },
     "metadata": {},
     "output_type": "display_data"
    },
    {
     "name": "stdout",
     "output_type": "stream",
     "text": [
      "\n"
     ]
    }
   ],
   "source": [
    "total_info['年'] = 0\n",
    "total_info['月/日'] = 0\n",
    "total_info['縣市'] = 0\n",
    "total_info['地區'] = 0\n",
    "for x in tqdm_notebook(range(0, len(total_info))):\n",
    "    total_info.loc[x,'年'] = total_info.loc[x,'oc_dt'][0:3]\n",
    "    total_info.loc[x,'月/日'] = total_info.loc[x,'oc_dt'][3:]\n",
    "    total_info.loc[x,'縣市'] = total_info.loc[x,'oc_p1'][0:3]\n",
    "    total_info.loc[x,'地區'] = total_info.loc[x,'oc_p1'][3:]\n",
    "    \n",
    "        \n",
    "    \n"
   ]
  },
  {
   "cell_type": "code",
   "execution_count": 120,
   "metadata": {
    "scrolled": true
   },
   "outputs": [
    {
     "data": {
      "text/html": [
       "<div>\n",
       "<style scoped>\n",
       "    .dataframe tbody tr th:only-of-type {\n",
       "        vertical-align: middle;\n",
       "    }\n",
       "\n",
       "    .dataframe tbody tr th {\n",
       "        vertical-align: top;\n",
       "    }\n",
       "\n",
       "    .dataframe thead th {\n",
       "        text-align: right;\n",
       "    }\n",
       "</style>\n",
       "<table border=\"1\" class=\"dataframe\">\n",
       "  <thead>\n",
       "    <tr style=\"text-align: right;\">\n",
       "      <th></th>\n",
       "      <th>type</th>\n",
       "      <th>年</th>\n",
       "      <th>月/日</th>\n",
       "      <th>縣市</th>\n",
       "      <th>地區</th>\n",
       "    </tr>\n",
       "  </thead>\n",
       "  <tbody>\n",
       "    <tr>\n",
       "      <td>0</td>\n",
       "      <td>住宅竊盜</td>\n",
       "      <td>106</td>\n",
       "      <td>0401</td>\n",
       "      <td>宜蘭縣</td>\n",
       "      <td>羅東鎮</td>\n",
       "    </tr>\n",
       "    <tr>\n",
       "      <td>1</td>\n",
       "      <td>住宅竊盜</td>\n",
       "      <td>106</td>\n",
       "      <td>0401</td>\n",
       "      <td>花蓮縣</td>\n",
       "      <td>秀林鄉</td>\n",
       "    </tr>\n",
       "    <tr>\n",
       "      <td>2</td>\n",
       "      <td>住宅竊盜</td>\n",
       "      <td>106</td>\n",
       "      <td>0401</td>\n",
       "      <td>台中市</td>\n",
       "      <td>清水區</td>\n",
       "    </tr>\n",
       "    <tr>\n",
       "      <td>3</td>\n",
       "      <td>住宅竊盜</td>\n",
       "      <td>106</td>\n",
       "      <td>0401</td>\n",
       "      <td>彰化縣</td>\n",
       "      <td>埔鹽鄉</td>\n",
       "    </tr>\n",
       "    <tr>\n",
       "      <td>4</td>\n",
       "      <td>住宅竊盜</td>\n",
       "      <td>106</td>\n",
       "      <td>0401</td>\n",
       "      <td>新北市</td>\n",
       "      <td>瑞芳區</td>\n",
       "    </tr>\n",
       "    <tr>\n",
       "      <td>...</td>\n",
       "      <td>...</td>\n",
       "      <td>...</td>\n",
       "      <td>...</td>\n",
       "      <td>...</td>\n",
       "      <td>...</td>\n",
       "    </tr>\n",
       "    <tr>\n",
       "      <td>37976</td>\n",
       "      <td>機車竊盜</td>\n",
       "      <td>105</td>\n",
       "      <td>1029</td>\n",
       "      <td>桃園市</td>\n",
       "      <td></td>\n",
       "    </tr>\n",
       "    <tr>\n",
       "      <td>37977</td>\n",
       "      <td>機車竊盜</td>\n",
       "      <td>105</td>\n",
       "      <td>1029</td>\n",
       "      <td>高雄市</td>\n",
       "      <td></td>\n",
       "    </tr>\n",
       "    <tr>\n",
       "      <td>37978</td>\n",
       "      <td>機車竊盜</td>\n",
       "      <td>105</td>\n",
       "      <td>1029</td>\n",
       "      <td>台南市</td>\n",
       "      <td></td>\n",
       "    </tr>\n",
       "    <tr>\n",
       "      <td>37979</td>\n",
       "      <td>機車竊盜</td>\n",
       "      <td>105</td>\n",
       "      <td>1029</td>\n",
       "      <td>台中市</td>\n",
       "      <td>大雅區</td>\n",
       "    </tr>\n",
       "    <tr>\n",
       "      <td>37980</td>\n",
       "      <td>機車竊盜</td>\n",
       "      <td>105</td>\n",
       "      <td>1029</td>\n",
       "      <td>新北市</td>\n",
       "      <td></td>\n",
       "    </tr>\n",
       "  </tbody>\n",
       "</table>\n",
       "<p>37981 rows × 5 columns</p>\n",
       "</div>"
      ],
      "text/plain": [
       "       type    年   月/日   縣市   地區\n",
       "0      住宅竊盜  106  0401  宜蘭縣  羅東鎮\n",
       "1      住宅竊盜  106  0401  花蓮縣  秀林鄉\n",
       "2      住宅竊盜  106  0401  台中市  清水區\n",
       "3      住宅竊盜  106  0401  彰化縣  埔鹽鄉\n",
       "4      住宅竊盜  106  0401  新北市  瑞芳區\n",
       "...     ...  ...   ...  ...  ...\n",
       "37976  機車竊盜  105  1029  桃園市     \n",
       "37977  機車竊盜  105  1029  高雄市     \n",
       "37978  機車竊盜  105  1029  台南市     \n",
       "37979  機車竊盜  105  1029  台中市  大雅區\n",
       "37980  機車竊盜  105  1029  新北市     \n",
       "\n",
       "[37981 rows x 5 columns]"
      ]
     },
     "execution_count": 120,
     "metadata": {},
     "output_type": "execute_result"
    }
   ],
   "source": [
    "total_info = total_info.drop(columns = ['oc_dt', 'oc_p1','年月'])\n",
    "total_info"
   ]
  },
  {
   "cell_type": "code",
   "execution_count": 121,
   "metadata": {},
   "outputs": [],
   "source": [
    "total_info.to_csv('犯罪資料.csv')"
   ]
  },
  {
   "cell_type": "code",
   "execution_count": null,
   "metadata": {},
   "outputs": [],
   "source": []
  },
  {
   "cell_type": "code",
   "execution_count": null,
   "metadata": {},
   "outputs": [],
   "source": []
  },
  {
   "cell_type": "code",
   "execution_count": null,
   "metadata": {},
   "outputs": [],
   "source": []
  },
  {
   "cell_type": "code",
   "execution_count": null,
   "metadata": {},
   "outputs": [],
   "source": []
  },
  {
   "cell_type": "code",
   "execution_count": null,
   "metadata": {},
   "outputs": [],
   "source": []
  },
  {
   "cell_type": "code",
   "execution_count": null,
   "metadata": {},
   "outputs": [],
   "source": []
  },
  {
   "cell_type": "code",
   "execution_count": null,
   "metadata": {},
   "outputs": [],
   "source": []
  },
  {
   "cell_type": "code",
   "execution_count": null,
   "metadata": {},
   "outputs": [],
   "source": []
  }
 ],
 "metadata": {
  "kernelspec": {
   "display_name": "Python 3",
   "language": "python",
   "name": "python3"
  },
  "language_info": {
   "codemirror_mode": {
    "name": "ipython",
    "version": 3
   },
   "file_extension": ".py",
   "mimetype": "text/x-python",
   "name": "python",
   "nbconvert_exporter": "python",
   "pygments_lexer": "ipython3",
   "version": "3.7.4"
  }
 },
 "nbformat": 4,
 "nbformat_minor": 2
}
