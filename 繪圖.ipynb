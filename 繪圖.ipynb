{
 "cells": [
  {
   "cell_type": "code",
   "execution_count": null,
   "metadata": {},
   "outputs": [],
   "source": [
    "import pandas as pd\n",
    "import pandas as pd\n",
    "import numpy as np\n",
    "import matplotlib.pyplot as plt\n",
    "import seaborn as sns\n",
    "from tqdm import tqdm_notebook, _tqdm_notebook\n",
    "\n",
    "class draw():\n",
    "    \n",
    "    def __init__(self):\n",
    "        # income_data\n",
    "        \n",
    "        # clinic_data\n",
    "        \n",
    "        # entertainment_data\n",
    "        \n",
    "        self.market_data = pd.read_csv('超市家數.csv')\n",
    "        \n",
    "        # crime_data\n",
    "        \n",
    "        # school_data\n",
    "        \n",
    "        # air_data\n",
    "        \n",
    "        # income_pic_data\n",
    "    \n",
    "#    def income_pic (self):\n",
    "\n",
    "#    def clinic_pic (self):\n",
    "\n",
    "#    def entertainment_pic (self):\n",
    "\n",
    "#    def crime_pic (self):\n",
    "\n",
    "#    def school_pic (self):\n",
    "\n",
    "#    def air_pic (self):\n",
    "\n",
    "#    def income_pic (self):\n",
    "\n",
    "\n",
    "\n",
    "\n",
    "        "
   ]
  },
  {
   "cell_type": "code",
   "execution_count": null,
   "metadata": {},
   "outputs": [],
   "source": []
  },
  {
   "cell_type": "code",
   "execution_count": null,
   "metadata": {},
   "outputs": [],
   "source": []
  },
  {
   "cell_type": "code",
   "execution_count": null,
   "metadata": {},
   "outputs": [],
   "source": []
  },
  {
   "cell_type": "code",
   "execution_count": null,
   "metadata": {},
   "outputs": [],
   "source": []
  },
  {
   "cell_type": "code",
   "execution_count": null,
   "metadata": {},
   "outputs": [],
   "source": []
  },
  {
   "cell_type": "code",
   "execution_count": null,
   "metadata": {},
   "outputs": [],
   "source": []
  },
  {
   "cell_type": "code",
   "execution_count": null,
   "metadata": {},
   "outputs": [],
   "source": []
  },
  {
   "cell_type": "code",
   "execution_count": null,
   "metadata": {},
   "outputs": [],
   "source": []
  },
  {
   "cell_type": "code",
   "execution_count": null,
   "metadata": {},
   "outputs": [],
   "source": []
  }
 ],
 "metadata": {
  "kernelspec": {
   "display_name": "Python 3",
   "language": "python",
   "name": "python3"
  },
  "language_info": {
   "codemirror_mode": {
    "name": "ipython",
    "version": 3
   },
   "file_extension": ".py",
   "mimetype": "text/x-python",
   "name": "python",
   "nbconvert_exporter": "python",
   "pygments_lexer": "ipython3",
   "version": "3.7.4"
  }
 },
 "nbformat": 4,
 "nbformat_minor": 2
}
