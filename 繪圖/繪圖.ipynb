{
 "cells": [
  {
   "cell_type": "code",
   "execution_count": 76,
   "metadata": {},
   "outputs": [],
   "source": [
    "import pandas as pd\n",
    "import pandas as pd\n",
    "import numpy as np\n",
    "import matplotlib.pyplot as plt\n",
    "import seaborn as sns\n",
    "from tqdm import  _tqdm_notebook\n",
    "#myfont = FontProperties(fname=r'/Users/lanjingyi/opt/anaconda3/lib/python3.7/site-packages/matplotlib/mpl-data/fonts/ttf/Microsoft JhengHei.ttf')\n",
    "# fontproperties=myfont\n",
    "class draw():\n",
    "    \n",
    "    def __init__(self,lists):\n",
    "        self.cities = [lists[0], lists[2],lists[4]]          # 處理傳入的lists\n",
    "        self.regions = [lists[1],lists[3],lists[5]]\n",
    "        \n",
    "        self.income_data =  pd.read_csv('平均家庭收入.csv')     # 目前欄位空格尚未處理\n",
    "        # clinic_data\n",
    "        # entertainment\n",
    "        self.market_data = pd.read_csv('超市家數.csv')\n",
    "        # crime_data\n",
    "        self.school_data = pd.read_csv('學校數量.csv')\n",
    "        self.air_data = pd.read_csv('air_pollution.csv')\n",
    "        \n",
    "        \n",
    "       \n",
    "    \n",
    "    def income_pic (self):\n",
    "        city_list = list(set(self.cities)) + ['臺灣地區']\n",
    "        F = plt.figure(figsize = (5,5), dpi = 100)\n",
    "        x = self.income_data['年份']\n",
    "        for city in city_list:\n",
    "            y = self.income_data[city]\n",
    "            plt.plot(x,y, marker = 'o',label = city)\n",
    "        plt.title('年收入')\n",
    "        plt.legend()\n",
    "        \n",
    "        return F\n",
    "\n",
    "#    def clinic_pic (self):\n",
    "\n",
    "    def entertainment_pic (self):       # 把self.school_data  全部換掉 ###########################\n",
    "        entertainment = ['電影院家數', '購物中心家數','全聯家數','頂好家數','costco家數'] \n",
    "        F = plt.figure(figsize=(5,5), dpi=100)\n",
    "        x_all = list(range(0, len(entertainment)))\n",
    "        no1 = self.school_data[(self.school_data.loc[:,'地區名'] == self.regions[0]) & (self.school_data.loc[:,'縣市名'] == self.cities[0])][school]\n",
    "        y1 = no1.values.flatten()\n",
    "        no2 = self.school_data[(self.school_data.loc[:,'地區名'] == self.regions[1]) & (self.school_data.loc[:,'縣市名'] == self.cities[1])][school]\n",
    "        y2 = no2 .values.flatten()\n",
    "        no3 = self.school_data[(self.school_data.loc[:,'地區名'] == self.regions[2]) & (self.school_data.loc[:,'縣市名'] == self.cities[2])][school]\n",
    "        y3 = no3.values.flatten()\n",
    "        \n",
    "        width = 0.25   #先設定每個長條的寬度\n",
    "        print([i-width for i in x_all],y1)\n",
    "        plt.bar([i-width for i in x_all], y1, width=width, label= (self.cities[0]+self.regions[0])) #注意這裡的X軸座標為x1中的數據減去寬度的一半\n",
    "        plt.bar([i for i in x_all], y2, width=width, label=(self.cities[1]+self.regions[1]))        #注意這裡的X軸座標為x1中的數據加上寬度的一半\n",
    "        plt.bar([i+width for i in x_all], y3, width=width, label=(self.cities[2]+self.regions[2]))\n",
    "        plt.xticks(x1,school)\n",
    "        plt.legend()\n",
    "        plt.title('百貨&電影院&超市數目')\n",
    "        return F\n",
    "        \n",
    "        \n",
    "        \n",
    "\n",
    "#    def crime_pic (self):\n",
    "\n",
    "    def school_pic (self):\n",
    "        school =['幼稚園數量', '國小數量', '國中數量', '高中數量', '大學數量']\n",
    "        F = plt.figure(figsize=(5,5), dpi=100)\n",
    "        x_all = list(range(0, len(school)))\n",
    "        no1 = self.school_data[(self.school_data.loc[:,'地區名'] == self.regions[0]) & (self.school_data.loc[:,'縣市名'] == self.cities[0])][school]\n",
    "        y1 = no1.values.flatten()\n",
    "        no2 = self.school_data[(self.school_data.loc[:,'地區名'] == self.regions[1]) & (self.school_data.loc[:,'縣市名'] == self.cities[1])][school]\n",
    "        y2 = no2 .values.flatten()\n",
    "        no3 = self.school_data[(self.school_data.loc[:,'地區名'] == self.regions[2]) & (self.school_data.loc[:,'縣市名'] == self.cities[2])][school]\n",
    "        y3 = no3.values.flatten()\n",
    "        \n",
    "        width = 0.25   #先設定每個長條的寬度\n",
    "        print([i-width for i in x_all],y1)\n",
    "        plt.bar([i-width for i in x_all], y1, width=width, label= (self.cities[0]+self.regions[0])) #注意這裡的X軸座標為x1中的數據減去寬度的一半\n",
    "        plt.bar([i for i in x_all], y2, width=width, label=(self.cities[1]+self.regions[1]))        #注意這裡的X軸座標為x1中的數據加上寬度的一半\n",
    "        plt.bar([i+width for i in x_all], y3, width=width, label=(self.cities[2]+self.regions[2]))\n",
    "        plt.xticks(x_all,school)\n",
    "        plt.legend()\n",
    "        plt.title('各級學校數目')\n",
    "        return F\n",
    "       \n",
    "        \n",
    "\n",
    "    def air_pic (self):\n",
    "        F = plt.figure(figsize=(5,5), dpi=100)\n",
    "        no1 = self.air_data[(self.air_data.loc[:,'地區名'] == self.regions[0]) & (self.air_data.loc[:,'縣市名'] == self.cities[0])]['PM 2.5']\n",
    "        x1 = list(range(0, 11))\n",
    "        y1 = no1.values.flatten()\n",
    "        no2 = self.air_data[(self.air_data.loc[:,'地區名'] == self.regions[1]) & (self.air_data.loc[:,'縣市名'] == self.cities[1])]['PM 2.5']\n",
    "        y2 = no2 .values.flatten()\n",
    "        no3 = self.air_data[(self.air_data.loc[:,'地區名'] == self.regions[2]) & (self.air_data.loc[:,'縣市名'] == self.cities[2])]['PM 2.5']\n",
    "        y3 = no3.values.flatten()\n",
    "        \n",
    "        plt.plot(x1,y1, marker = 'o', label = self.cities[0] + self.regions[0])\n",
    "        plt.plot(x1,y2, marker = 'o', label = self.cities[1] + self.regions[1])\n",
    "        plt.plot(x1,y3, marker = 'o', label = self.cities[2] + self.regions[2])\n",
    "        date = [('2019/'+str(x)) for x in range(1,12)]\n",
    "        plt.xticks(x1,date, rotation = 45)\n",
    "        plt.title('空氣品質')\n",
    "        plt.legend()\n",
    "        return F\n",
    "\n",
    "\n",
    "\n",
    "\n",
    "\n",
    "\n",
    "\n",
    "\n",
    "        "
   ]
  },
  {
   "cell_type": "markdown",
   "metadata": {},
   "source": [
    "# 測試GUI"
   ]
  },
  {
   "cell_type": "code",
   "execution_count": 77,
   "metadata": {},
   "outputs": [
    {
     "data": {
      "image/png": "[encoded data removed]",
      "text/plain": [
       "<Figure size 500x500 with 1 Axes>"
      ]
     },
     "metadata": {
      "needs_background": "light"
     },
     "output_type": "display_data"
    }
   ],
   "source": [
    "import tkinter as tk\n",
    "from pandas import DataFrame\n",
    "import matplotlib.pyplot as plt\n",
    "from matplotlib.backends.backend_tkagg import FigureCanvasTkAgg\n",
    "#myfont = FontProperties(fname=r'/Users/lanjingyi/opt/anaconda3/lib/python3.7/site-packages/matplotlib/mpl-data/fonts/ttf/Microsoft JhengHei.ttf')\n",
    "# fontproperties=myfont\n",
    "root= tk.Tk() \n",
    "\n",
    "\n",
    "lists = ['臺北市','北投區','臺北市','大安區','臺北市','信義區']\n",
    "A = draw(lists)\n",
    "bar1 = FigureCanvasTkAgg(A.air_pic(), root)\n",
    "bar1.get_tk_widget().pack(side=tk.LEFT, fill=tk.BOTH)\n",
    "\n",
    "\n",
    "root.mainloop()"
   ]
  },
  {
   "cell_type": "markdown",
   "metadata": {},
   "source": [
    "# 畫圖測試區"
   ]
  },
  {
   "cell_type": "code",
   "execution_count": 77,
   "metadata": {},
   "outputs": [
    {
     "data": {
      "text/html": [
       "<div>\n",
       "<style scoped>\n",
       "    .dataframe tbody tr th:only-of-type {\n",
       "        vertical-align: middle;\n",
       "    }\n",
       "\n",
       "    .dataframe tbody tr th {\n",
       "        vertical-align: top;\n",
       "    }\n",
       "\n",
       "    .dataframe thead th {\n",
       "        text-align: right;\n",
       "    }\n",
       "</style>\n",
       "<table border=\"1\" class=\"dataframe\">\n",
       "  <thead>\n",
       "    <tr style=\"text-align: right;\">\n",
       "      <th></th>\n",
       "      <th>縣市名</th>\n",
       "      <th>地區名</th>\n",
       "      <th>幼稚園數量</th>\n",
       "      <th>國小數量</th>\n",
       "      <th>國中數量</th>\n",
       "      <th>高中數量</th>\n",
       "      <th>大學數量</th>\n",
       "      <th>縣市地區</th>\n",
       "    </tr>\n",
       "  </thead>\n",
       "  <tbody>\n",
       "    <tr>\n",
       "      <th>0</th>\n",
       "      <td>臺北市</td>\n",
       "      <td>中正區</td>\n",
       "      <td>32</td>\n",
       "      <td>8</td>\n",
       "      <td>5</td>\n",
       "      <td>6</td>\n",
       "      <td>2</td>\n",
       "      <td>臺北市中正區</td>\n",
       "    </tr>\n",
       "    <tr>\n",
       "      <th>1</th>\n",
       "      <td>臺北市</td>\n",
       "      <td>大同區</td>\n",
       "      <td>25</td>\n",
       "      <td>9</td>\n",
       "      <td>5</td>\n",
       "      <td>4</td>\n",
       "      <td>0</td>\n",
       "      <td>臺北市大同區</td>\n",
       "    </tr>\n",
       "    <tr>\n",
       "      <th>2</th>\n",
       "      <td>臺北市</td>\n",
       "      <td>中山區</td>\n",
       "      <td>54</td>\n",
       "      <td>11</td>\n",
       "      <td>5</td>\n",
       "      <td>5</td>\n",
       "      <td>2</td>\n",
       "      <td>臺北市中山區</td>\n",
       "    </tr>\n",
       "    <tr>\n",
       "      <th>3</th>\n",
       "      <td>臺北市</td>\n",
       "      <td>松山區</td>\n",
       "      <td>56</td>\n",
       "      <td>8</td>\n",
       "      <td>4</td>\n",
       "      <td>3</td>\n",
       "      <td>0</td>\n",
       "      <td>臺北市松山區</td>\n",
       "    </tr>\n",
       "    <tr>\n",
       "      <th>4</th>\n",
       "      <td>臺北市</td>\n",
       "      <td>大安區</td>\n",
       "      <td>109</td>\n",
       "      <td>15</td>\n",
       "      <td>8</td>\n",
       "      <td>9</td>\n",
       "      <td>5</td>\n",
       "      <td>臺北市大安區</td>\n",
       "    </tr>\n",
       "    <tr>\n",
       "      <th>...</th>\n",
       "      <td>...</td>\n",
       "      <td>...</td>\n",
       "      <td>...</td>\n",
       "      <td>...</td>\n",
       "      <td>...</td>\n",
       "      <td>...</td>\n",
       "      <td>...</td>\n",
       "      <td>...</td>\n",
       "    </tr>\n",
       "    <tr>\n",
       "      <th>361</th>\n",
       "      <td>花蓮縣</td>\n",
       "      <td>瑞穗鄉</td>\n",
       "      <td>6</td>\n",
       "      <td>7</td>\n",
       "      <td>1</td>\n",
       "      <td>0</td>\n",
       "      <td>0</td>\n",
       "      <td>花蓮縣瑞穗鄉</td>\n",
       "    </tr>\n",
       "    <tr>\n",
       "      <th>362</th>\n",
       "      <td>花蓮縣</td>\n",
       "      <td>萬榮鄉</td>\n",
       "      <td>6</td>\n",
       "      <td>6</td>\n",
       "      <td>0</td>\n",
       "      <td>0</td>\n",
       "      <td>0</td>\n",
       "      <td>花蓮縣萬榮鄉</td>\n",
       "    </tr>\n",
       "    <tr>\n",
       "      <th>363</th>\n",
       "      <td>花蓮縣</td>\n",
       "      <td>玉里鎮</td>\n",
       "      <td>13</td>\n",
       "      <td>12</td>\n",
       "      <td>3</td>\n",
       "      <td>1</td>\n",
       "      <td>0</td>\n",
       "      <td>花蓮縣玉里鎮</td>\n",
       "    </tr>\n",
       "    <tr>\n",
       "      <th>364</th>\n",
       "      <td>花蓮縣</td>\n",
       "      <td>卓溪鄉</td>\n",
       "      <td>7</td>\n",
       "      <td>8</td>\n",
       "      <td>0</td>\n",
       "      <td>0</td>\n",
       "      <td>0</td>\n",
       "      <td>花蓮縣卓溪鄉</td>\n",
       "    </tr>\n",
       "    <tr>\n",
       "      <th>365</th>\n",
       "      <td>花蓮縣</td>\n",
       "      <td>富里鄉</td>\n",
       "      <td>7</td>\n",
       "      <td>8</td>\n",
       "      <td>3</td>\n",
       "      <td>0</td>\n",
       "      <td>0</td>\n",
       "      <td>花蓮縣富里鄉</td>\n",
       "    </tr>\n",
       "  </tbody>\n",
       "</table>\n",
       "<p>366 rows × 8 columns</p>\n",
       "</div>"
      ],
      "text/plain": [
       "     縣市名  地區名  幼稚園數量  國小數量  國中數量  高中數量  大學數量    縣市地區\n",
       "0    臺北市  中正區     32     8     5     6     2  臺北市中正區\n",
       "1    臺北市  大同區     25     9     5     4     0  臺北市大同區\n",
       "2    臺北市  中山區     54    11     5     5     2  臺北市中山區\n",
       "3    臺北市  松山區     56     8     4     3     0  臺北市松山區\n",
       "4    臺北市  大安區    109    15     8     9     5  臺北市大安區\n",
       "..   ...  ...    ...   ...   ...   ...   ...     ...\n",
       "361  花蓮縣  瑞穗鄉      6     7     1     0     0  花蓮縣瑞穗鄉\n",
       "362  花蓮縣  萬榮鄉      6     6     0     0     0  花蓮縣萬榮鄉\n",
       "363  花蓮縣  玉里鎮     13    12     3     1     0  花蓮縣玉里鎮\n",
       "364  花蓮縣  卓溪鄉      7     8     0     0     0  花蓮縣卓溪鄉\n",
       "365  花蓮縣  富里鄉      7     8     3     0     0  花蓮縣富里鄉\n",
       "\n",
       "[366 rows x 8 columns]"
      ]
     },
     "execution_count": 77,
     "metadata": {},
     "output_type": "execute_result"
    }
   ],
   "source": [
    "data = pd.read_csv('學校數量.csv')\n",
    "data "
   ]
  },
  {
   "cell_type": "code",
   "execution_count": 78,
   "metadata": {},
   "outputs": [
    {
     "data": {
      "text/plain": [
       "Index(['縣市名', '地區名', '幼稚園數量', '國小數量', '國中數量', '高中數量', '大學數量', '縣市地區'], dtype='object')"
      ]
     },
     "execution_count": 78,
     "metadata": {},
     "output_type": "execute_result"
    }
   ],
   "source": [
    "data.columns\n"
   ]
  },
  {
   "cell_type": "code",
   "execution_count": 79,
   "metadata": {},
   "outputs": [
    {
     "data": {
      "image/png": "[encoded data removed]",
      "text/plain": [
       "<Figure size 500x500 with 1 Axes>"
      ]
     },
     "metadata": {
      "needs_background": "light"
     },
     "output_type": "display_data"
    }
   ],
   "source": [
    "city1 = '臺北市'\n",
    "city2 = '臺北市'\n",
    "city3 = '臺北市'\n",
    "region1 = '北投區'\n",
    "region2 = '大安區'\n",
    "region3 = '信義區'\n",
    "school =['幼稚園數量', '國小數量', '國中數量', '高中數量', '大學數量']\n",
    "\n",
    "F = plt.figure(figsize=(5,5), dpi=100)\n",
    "no1 = data[(data.loc[:,'地區名'] == '北投區') & (data.loc[:,'縣市名'] == '臺北市')][school]\n",
    "x1 = list(range(0, len(school)))\n",
    "y1 = no1.values.flatten()\n",
    "no2 = data[(data.loc[:,'地區名'] == region2) & (data.loc[:,'縣市名'] == city2)][school]\n",
    "y2 = no2 .values.flatten()\n",
    "no3 = data[(data.loc[:,'地區名'] == region3) & (data.loc[:,'縣市名'] == city3)][school]\n",
    "y3 = no3.values.flatten()\n",
    "\n",
    "\n",
    "width = 0.25 #先設定每個長條的寬度\n",
    "plt.bar([i-width for i in x1], y1, width=width, label='G1') #注意這裡的X軸座標為x1中的數據減去寬度的一半\n",
    "plt.bar([i for i in x1], y2, width=width, label='G2', tick_label= school) #注意這裡的X軸座標為x1中的數據加上寬度的一半\n",
    "plt.bar([i+width for i in x1], y3, width=width, label='G3')\n",
    "plt.xticks(x1,school)\n",
    "plt.legend()\n",
    "plt.show()\n",
    "\n"
   ]
  },
  {
   "cell_type": "code",
   "execution_count": 17,
   "metadata": {},
   "outputs": [
    {
     "data": {
      "text/plain": [
       "array([[64, 16,  6,  6,  5]])"
      ]
     },
     "execution_count": 17,
     "metadata": {},
     "output_type": "execute_result"
    }
   ],
   "source": []
  },
  {
   "cell_type": "code",
   "execution_count": 49,
   "metadata": {},
   "outputs": [
    {
     "data": {
      "text/html": [
       "<div>\n",
       "<style scoped>\n",
       "    .dataframe tbody tr th:only-of-type {\n",
       "        vertical-align: middle;\n",
       "    }\n",
       "\n",
       "    .dataframe tbody tr th {\n",
       "        vertical-align: top;\n",
       "    }\n",
       "\n",
       "    .dataframe thead th {\n",
       "        text-align: right;\n",
       "    }\n",
       "</style>\n",
       "<table border=\"1\" class=\"dataframe\">\n",
       "  <thead>\n",
       "    <tr style=\"text-align: right;\">\n",
       "      <th></th>\n",
       "      <th>幼稚園數量</th>\n",
       "      <th>國小數量</th>\n",
       "      <th>國中數量</th>\n",
       "      <th>高中數量</th>\n",
       "      <th>大學數量</th>\n",
       "    </tr>\n",
       "  </thead>\n",
       "  <tbody>\n",
       "    <tr>\n",
       "      <th>8</th>\n",
       "      <td>64</td>\n",
       "      <td>16</td>\n",
       "      <td>6</td>\n",
       "      <td>6</td>\n",
       "      <td>5</td>\n",
       "    </tr>\n",
       "  </tbody>\n",
       "</table>\n",
       "</div>"
      ],
      "text/plain": [
       "   幼稚園數量  國小數量  國中數量  高中數量  大學數量\n",
       "8     64    16     6     6     5"
      ]
     },
     "execution_count": 49,
     "metadata": {},
     "output_type": "execute_result"
    }
   ],
   "source": [
    "school =['幼稚園數量', '國小數量', '國中數量', '高中數量', '大學數量']\n",
    "data[(data.loc[:,'地區名'] == '北投區') & (data.loc[:,'縣市名'] == '臺北市')][school]"
   ]
  },
  {
   "cell_type": "code",
   "execution_count": null,
   "metadata": {},
   "outputs": [],
   "source": []
  },
  {
   "cell_type": "code",
   "execution_count": 8,
   "metadata": {},
   "outputs": [
    {
     "name": "stderr",
     "output_type": "stream",
     "text": [
      "No handles with labels found to put in legend.\n"
     ]
    },
    {
     "data": {
      "image/png": "[encoded data removed]",
      "text/plain": [
       "<Figure size 500x500 with 1 Axes>"
      ]
     },
     "metadata": {
      "needs_background": "light"
     },
     "output_type": "display_data"
    }
   ],
   "source": [
    "import tkinter as tk\n",
    "from pandas import DataFrame\n",
    "import matplotlib.pyplot as plt\n",
    "from matplotlib.backends.backend_tkagg import FigureCanvasTkAgg\n",
    "\n",
    "   \n",
    "Data1 = {'Country': ['US','CA','GER','UK','FR'],\n",
    "        'GDP_Per_Capita': [45000,42000,52000,49000,47000]\n",
    "       }\n",
    "\n",
    "df1 = DataFrame(Data1, columns= ['Country', 'GDP_Per_Capita'])\n",
    "df1 = df1[['Country', 'GDP_Per_Capita']].groupby('Country').sum()\n",
    "\n",
    "\n",
    "\n",
    "Data2 = {'Year': [1920,1930,1940,1950,1960,1970,1980,1990,2000,2010],\n",
    "        'Unemployment_Rate': [9.8,12,8,7.2,6.9,7,6.5,6.2,5.5,6.3]\n",
    "       }\n",
    "  \n",
    "df2 = DataFrame(Data2,columns=['Year','Unemployment_Rate'])\n",
    "df2 = df2[['Year', 'Unemployment_Rate']].groupby('Year').sum()\n",
    "\n",
    "\n",
    "\n",
    "Data3 = {'Interest_Rate': [5,5.5,6,5.5,5.25,6.5,7,8,7.5,8.5],\n",
    "        'Stock_Index_Price': [1500,1520,1525,1523,1515,1540,1545,1560,1555,1565]\n",
    "       }\n",
    "  \n",
    "df3 = DataFrame(Data3,columns=['Interest_Rate','Stock_Index_Price'])\n",
    " \n",
    "\n",
    "\n",
    "root= tk.Tk() \n",
    "  \n",
    "\n",
    "#figure1 = plt.Figure(figsize=(5,5), dpi=100)\n",
    "#ax1 = figure1.add_subplot(111)\n",
    "#ax1.set_title('Country Vs. GDP Per Capita')\n",
    "#df1.plot(kind='bar', legend=True, ax=ax1)\n",
    "#bar1 = FigureCanvasTkAgg(figure1, root)\n",
    "#bar1.get_tk_widget().pack(side=tk.LEFT, fill=tk.BOTH)\n",
    "\n",
    "figure1 = plt.figure(figsize=(5,5), dpi=100)\n",
    "Y = [1,2,4]\n",
    "X = [1,2,4]\n",
    "plt.bar(X,Y)\n",
    "bar1 = FigureCanvasTkAgg(figure1, root)\n",
    "bar1.get_tk_widget().pack(side=tk.LEFT, fill=tk.BOTH)\n",
    "\n",
    "#figure1 = plt.Figure(figsize=(5,5), dpi=100)\n",
    "#ax1 = figure1.add_subplot(111)\n",
    "#index = np.array([0,1,2])\n",
    "#y1 = [2,6,8,7,9]\n",
    "#x1 = [1,2,3,4,5]\n",
    "#y2 = [3,5,6,1,2]\n",
    "#width = 0.4\n",
    "#x = ['a','b','c','d','e']\n",
    "#ax1.bar([i-width/2 for i in x1], y1, width=width, label='G1')\n",
    "#ax1.bar([i+width/2 for i in x1], y2, width=width, label='G2',tick_label = x)\n",
    "#ax1.set_title('ja;slkdfj')\n",
    "#ax1.set_xlabel('abcdefg')\n",
    "#bar1 = FigureCanvasTkAgg(figure1, root)\n",
    "#bar1.get_tk_widget().pack(side=tk.LEFT, fill=tk.BOTH)\n",
    "\n",
    "\n",
    "\n",
    "\n",
    "figure2 = plt.Figure(figsize=(5,4), dpi=100)\n",
    "ax2 = figure2.add_subplot(111)\n",
    "line2 = FigureCanvasTkAgg(figure2, root)\n",
    "line2.get_tk_widget().pack(side=tk.LEFT, fill=tk.BOTH)\n",
    "df2.plot(kind='line', legend=True, ax=ax2, color='r',marker='o', fontsize=10)\n",
    "ax2.set_title('Year Vs. Unemployment Rate')\n",
    "\n",
    "\n",
    "figure3 = plt.Figure(figsize=(5,4), dpi=100)\n",
    "ax3 = figure3.add_subplot(111)\n",
    "ax3.scatter(df3['Interest_Rate'],df3['Stock_Index_Price'], color = 'g')\n",
    "scatter3 = FigureCanvasTkAgg(figure3, root) \n",
    "scatter3.get_tk_widget().pack(side=tk.LEFT, fill=tk.BOTH)\n",
    "ax3.legend() \n",
    "ax3.set_xlabel('Interest Rate')\n",
    "ax3.set_title('Interest Rate Vs. Stock Index Price')\n",
    "\n",
    "root.mainloop()"
   ]
  },
  {
   "cell_type": "code",
   "execution_count": 37,
   "metadata": {},
   "outputs": [
    {
     "data": {
      "text/plain": [
       "array([0, 1, 2, 3, 4])"
      ]
     },
     "execution_count": 37,
     "metadata": {},
     "output_type": "execute_result"
    }
   ],
   "source": [
    "\n",
    "index = np.arange(5)\n",
    "index"
   ]
  },
  {
   "cell_type": "code",
   "execution_count": null,
   "metadata": {},
   "outputs": [],
   "source": []
  },
  {
   "cell_type": "code",
   "execution_count": 48,
   "metadata": {},
   "outputs": [
    {
     "data": {
      "image/png": "[encoded data removed]",
      "text/plain": [
       "<Figure size 432x288 with 1 Axes>"
      ]
     },
     "metadata": {
      "needs_background": "light"
     },
     "output_type": "display_data"
    }
   ],
   "source": [
    "x1 = [1,2,3,4,5]\n",
    "y1 = [2,6,8,7,9]\n",
    "y2 = [3,5,6,1,2]\n",
    "x = ['c','b','c','d','e']\n",
    "# 比起堆疊長條圖，分組長條圖稍微調整數據以達到效果\n",
    "width = 0.25 #先設定每個長條的寬度\n",
    "plt.bar([i-width for i in x1], y1, width=width, label='G1') #注意這裡的X軸座標為x1中的數據減去寬度的一半\n",
    "plt.bar([i for i in x1], y2, width=width, label='G2', tick_label= x) #注意這裡的X軸座標為x1中的數據加上寬度的一半\n",
    "plt.bar([i+width for i in x1], y2, width=width, label='G3')\n",
    "plt.xticks(x1,x,fontsize = 20)\n",
    "plt.legend()\n",
    "plt.show()"
   ]
  },
  {
   "cell_type": "code",
   "execution_count": 31,
   "metadata": {},
   "outputs": [
    {
     "data": {
      "image/png": "[encoded data removed]",
      "text/plain": [
       "<Figure size 432x288 with 1 Axes>"
      ]
     },
     "metadata": {
      "needs_background": "light"
     },
     "output_type": "display_data"
    }
   ],
   "source": [
    "x1 = [1,2,3,4,5]\n",
    "y1 = [2,6,8,7,9]\n",
    "y2 = [3,5,6,1,2]\n",
    "x = ['a','b','c','d','e']\n",
    "# 比起堆疊長條圖，分組長條圖稍微調整數據以達到效果\n",
    "width = 0.25 #先設定每個長條的寬度\n",
    "plt.barh([i-width for i in x1], y1, height=width, label='G1') #注意這裡的X軸座標為x1中的數據減去寬度的一半\n",
    "plt.barh([i for i in x1], y2, height=width, label='G2', tick_label= x) #注意這裡的X軸座標為x1中的數據加上寬度的一半\n",
    "plt.barh([i+width for i in x1], y2, height=width, label='G3')\n",
    "plt.yticks(x1,x,fontsize = 20)\n",
    "plt.legend()\n",
    "plt.show()"
   ]
  },
  {
   "cell_type": "code",
   "execution_count": 28,
   "metadata": {},
   "outputs": [
    {
     "data": {
      "text/html": [
       "<div>\n",
       "<style scoped>\n",
       "    .dataframe tbody tr th:only-of-type {\n",
       "        vertical-align: middle;\n",
       "    }\n",
       "\n",
       "    .dataframe tbody tr th {\n",
       "        vertical-align: top;\n",
       "    }\n",
       "\n",
       "    .dataframe thead th {\n",
       "        text-align: right;\n",
       "    }\n",
       "</style>\n",
       "<table border=\"1\" class=\"dataframe\">\n",
       "  <thead>\n",
       "    <tr style=\"text-align: right;\">\n",
       "      <th></th>\n",
       "      <th>區域別</th>\n",
       "      <th>院所家數</th>\n",
       "      <th>醫院家數</th>\n",
       "      <th>診所家數</th>\n",
       "      <th>醫療院所病床數</th>\n",
       "    </tr>\n",
       "  </thead>\n",
       "  <tbody>\n",
       "    <tr>\n",
       "      <th>0</th>\n",
       "      <td>臺北市</td>\n",
       "      <td>3608.0</td>\n",
       "      <td>36.0</td>\n",
       "      <td>3572.0</td>\n",
       "      <td>25464.0</td>\n",
       "    </tr>\n",
       "    <tr>\n",
       "      <th>1</th>\n",
       "      <td>臺北市松山區</td>\n",
       "      <td>302.0</td>\n",
       "      <td>5.0</td>\n",
       "      <td>297.0</td>\n",
       "      <td>1804.0</td>\n",
       "    </tr>\n",
       "    <tr>\n",
       "      <th>2</th>\n",
       "      <td>臺北市大安區</td>\n",
       "      <td>849.0</td>\n",
       "      <td>6.0</td>\n",
       "      <td>843.0</td>\n",
       "      <td>3029.0</td>\n",
       "    </tr>\n",
       "    <tr>\n",
       "      <th>3</th>\n",
       "      <td>臺北市大同區</td>\n",
       "      <td>169.0</td>\n",
       "      <td>1.0</td>\n",
       "      <td>168.0</td>\n",
       "      <td>3334.0</td>\n",
       "    </tr>\n",
       "    <tr>\n",
       "      <th>4</th>\n",
       "      <td>臺北市中山區</td>\n",
       "      <td>475.0</td>\n",
       "      <td>4.0</td>\n",
       "      <td>471.0</td>\n",
       "      <td>2308.0</td>\n",
       "    </tr>\n",
       "    <tr>\n",
       "      <th>...</th>\n",
       "      <td>...</td>\n",
       "      <td>...</td>\n",
       "      <td>...</td>\n",
       "      <td>...</td>\n",
       "      <td>...</td>\n",
       "    </tr>\n",
       "    <tr>\n",
       "      <th>385</th>\n",
       "      <td>連江縣</td>\n",
       "      <td>5.0</td>\n",
       "      <td>1.0</td>\n",
       "      <td>4.0</td>\n",
       "      <td>52.0</td>\n",
       "    </tr>\n",
       "    <tr>\n",
       "      <th>386</th>\n",
       "      <td>連江縣南竿鄉</td>\n",
       "      <td>1.0</td>\n",
       "      <td>1.0</td>\n",
       "      <td>0.0</td>\n",
       "      <td>43.0</td>\n",
       "    </tr>\n",
       "    <tr>\n",
       "      <th>387</th>\n",
       "      <td>連江縣北竿鄉</td>\n",
       "      <td>1.0</td>\n",
       "      <td>0.0</td>\n",
       "      <td>1.0</td>\n",
       "      <td>3.0</td>\n",
       "    </tr>\n",
       "    <tr>\n",
       "      <th>388</th>\n",
       "      <td>連江縣莒光鄉</td>\n",
       "      <td>2.0</td>\n",
       "      <td>0.0</td>\n",
       "      <td>2.0</td>\n",
       "      <td>4.0</td>\n",
       "    </tr>\n",
       "    <tr>\n",
       "      <th>389</th>\n",
       "      <td>連江縣東引鄉</td>\n",
       "      <td>1.0</td>\n",
       "      <td>0.0</td>\n",
       "      <td>1.0</td>\n",
       "      <td>2.0</td>\n",
       "    </tr>\n",
       "  </tbody>\n",
       "</table>\n",
       "<p>390 rows × 5 columns</p>\n",
       "</div>"
      ],
      "text/plain": [
       "         區域別    院所家數  醫院家數    診所家數  醫療院所病床數\n",
       "0        臺北市  3608.0  36.0  3572.0  25464.0\n",
       "1    臺北市松山區　   302.0   5.0   297.0   1804.0\n",
       "2    臺北市大安區　   849.0   6.0   843.0   3029.0\n",
       "3    臺北市大同區　   169.0   1.0   168.0   3334.0\n",
       "4    臺北市中山區　   475.0   4.0   471.0   2308.0\n",
       "..       ...     ...   ...     ...      ...\n",
       "385      連江縣     5.0   1.0     4.0     52.0\n",
       "386  連江縣南竿鄉　     1.0   1.0     0.0     43.0\n",
       "387  連江縣北竿鄉　     1.0   0.0     1.0      3.0\n",
       "388  連江縣莒光鄉　     2.0   0.0     2.0      4.0\n",
       "389  連江縣東引鄉　     1.0   0.0     1.0      2.0\n",
       "\n",
       "[390 rows x 5 columns]"
      ]
     },
     "execution_count": 28,
     "metadata": {},
     "output_type": "execute_result"
    }
   ],
   "source": [
    "data = pd.read_csv('醫療資源.csv', index_col=0)\n",
    "data"
   ]
  },
  {
   "cell_type": "code",
   "execution_count": 29,
   "metadata": {},
   "outputs": [
    {
     "ename": "KeyError",
     "evalue": "'地區名'",
     "output_type": "error",
     "traceback": [
      "\u001b[0;31m---------------------------------------------------------------------------\u001b[0m",
      "\u001b[0;31mKeyError\u001b[0m                                  Traceback (most recent call last)",
      "\u001b[0;32m~/opt/anaconda3/lib/python3.7/site-packages/pandas/core/indexes/base.py\u001b[0m in \u001b[0;36mget_loc\u001b[0;34m(self, key, method, tolerance)\u001b[0m\n\u001b[1;32m   2896\u001b[0m             \u001b[0;32mtry\u001b[0m\u001b[0;34m:\u001b[0m\u001b[0;34m\u001b[0m\u001b[0;34m\u001b[0m\u001b[0m\n\u001b[0;32m-> 2897\u001b[0;31m                 \u001b[0;32mreturn\u001b[0m \u001b[0mself\u001b[0m\u001b[0;34m.\u001b[0m\u001b[0m_engine\u001b[0m\u001b[0;34m.\u001b[0m\u001b[0mget_loc\u001b[0m\u001b[0;34m(\u001b[0m\u001b[0mkey\u001b[0m\u001b[0;34m)\u001b[0m\u001b[0;34m\u001b[0m\u001b[0;34m\u001b[0m\u001b[0m\n\u001b[0m\u001b[1;32m   2898\u001b[0m             \u001b[0;32mexcept\u001b[0m \u001b[0mKeyError\u001b[0m\u001b[0;34m:\u001b[0m\u001b[0;34m\u001b[0m\u001b[0;34m\u001b[0m\u001b[0m\n",
      "\u001b[0;32mpandas/_libs/index.pyx\u001b[0m in \u001b[0;36mpandas._libs.index.IndexEngine.get_loc\u001b[0;34m()\u001b[0m\n",
      "\u001b[0;32mpandas/_libs/index.pyx\u001b[0m in \u001b[0;36mpandas._libs.index.IndexEngine.get_loc\u001b[0;34m()\u001b[0m\n",
      "\u001b[0;32mpandas/_libs/hashtable_class_helper.pxi\u001b[0m in \u001b[0;36mpandas._libs.hashtable.PyObjectHashTable.get_item\u001b[0;34m()\u001b[0m\n",
      "\u001b[0;32mpandas/_libs/hashtable_class_helper.pxi\u001b[0m in \u001b[0;36mpandas._libs.hashtable.PyObjectHashTable.get_item\u001b[0;34m()\u001b[0m\n",
      "\u001b[0;31mKeyError\u001b[0m: '地區名'",
      "\nDuring handling of the above exception, another exception occurred:\n",
      "\u001b[0;31mKeyError\u001b[0m                                  Traceback (most recent call last)",
      "\u001b[0;32m<ipython-input-29-5ad3ed410564>\u001b[0m in \u001b[0;36m<module>\u001b[0;34m\u001b[0m\n\u001b[1;32m      1\u001b[0m \u001b[0mclinic\u001b[0m \u001b[0;34m=\u001b[0m \u001b[0;34m[\u001b[0m\u001b[0;34m'診所'\u001b[0m\u001b[0;34m,\u001b[0m \u001b[0;34m'醫院'\u001b[0m\u001b[0;34m]\u001b[0m\u001b[0;34m\u001b[0m\u001b[0;34m\u001b[0m\u001b[0m\n\u001b[1;32m      2\u001b[0m \u001b[0mF\u001b[0m \u001b[0;34m=\u001b[0m \u001b[0mplt\u001b[0m\u001b[0;34m.\u001b[0m\u001b[0mfigure\u001b[0m\u001b[0;34m(\u001b[0m\u001b[0mfigsize\u001b[0m\u001b[0;34m=\u001b[0m\u001b[0;34m(\u001b[0m\u001b[0;36m5\u001b[0m\u001b[0;34m,\u001b[0m\u001b[0;36m5\u001b[0m\u001b[0;34m)\u001b[0m\u001b[0;34m,\u001b[0m \u001b[0mdpi\u001b[0m\u001b[0;34m=\u001b[0m\u001b[0;36m100\u001b[0m\u001b[0;34m)\u001b[0m\u001b[0;34m\u001b[0m\u001b[0;34m\u001b[0m\u001b[0m\n\u001b[0;32m----> 3\u001b[0;31m \u001b[0mno1\u001b[0m \u001b[0;34m=\u001b[0m \u001b[0mdata\u001b[0m\u001b[0;34m[\u001b[0m\u001b[0;34m(\u001b[0m\u001b[0mdata\u001b[0m\u001b[0;34m.\u001b[0m\u001b[0mloc\u001b[0m\u001b[0;34m[\u001b[0m\u001b[0;34m:\u001b[0m\u001b[0;34m,\u001b[0m\u001b[0;34m'地區名'\u001b[0m\u001b[0;34m]\u001b[0m \u001b[0;34m==\u001b[0m \u001b[0;34m'北投區'\u001b[0m\u001b[0;34m)\u001b[0m \u001b[0;34m&\u001b[0m \u001b[0;34m(\u001b[0m\u001b[0mdata\u001b[0m\u001b[0;34m.\u001b[0m\u001b[0mloc\u001b[0m\u001b[0;34m[\u001b[0m\u001b[0;34m:\u001b[0m\u001b[0;34m,\u001b[0m\u001b[0;34m'縣市名'\u001b[0m\u001b[0;34m]\u001b[0m \u001b[0;34m==\u001b[0m \u001b[0;34m'臺北市'\u001b[0m\u001b[0;34m)\u001b[0m\u001b[0;34m]\u001b[0m\u001b[0;34m[\u001b[0m\u001b[0mschool\u001b[0m\u001b[0;34m]\u001b[0m\u001b[0;34m\u001b[0m\u001b[0;34m\u001b[0m\u001b[0m\n\u001b[0m\u001b[1;32m      4\u001b[0m \u001b[0mx1\u001b[0m \u001b[0;34m=\u001b[0m \u001b[0mlist\u001b[0m\u001b[0;34m(\u001b[0m\u001b[0mrange\u001b[0m\u001b[0;34m(\u001b[0m\u001b[0;36m0\u001b[0m\u001b[0;34m,\u001b[0m \u001b[0mlen\u001b[0m\u001b[0;34m(\u001b[0m\u001b[0mschool\u001b[0m\u001b[0;34m)\u001b[0m\u001b[0;34m)\u001b[0m\u001b[0;34m)\u001b[0m\u001b[0;34m\u001b[0m\u001b[0;34m\u001b[0m\u001b[0m\n\u001b[1;32m      5\u001b[0m \u001b[0my1\u001b[0m \u001b[0;34m=\u001b[0m \u001b[0mno1\u001b[0m\u001b[0;34m.\u001b[0m\u001b[0mvalues\u001b[0m\u001b[0;34m.\u001b[0m\u001b[0mflatten\u001b[0m\u001b[0;34m(\u001b[0m\u001b[0;34m)\u001b[0m\u001b[0;34m\u001b[0m\u001b[0;34m\u001b[0m\u001b[0m\n",
      "\u001b[0;32m~/opt/anaconda3/lib/python3.7/site-packages/pandas/core/indexing.py\u001b[0m in \u001b[0;36m__getitem__\u001b[0;34m(self, key)\u001b[0m\n\u001b[1;32m   1416\u001b[0m                 \u001b[0;32mexcept\u001b[0m \u001b[0;34m(\u001b[0m\u001b[0mKeyError\u001b[0m\u001b[0;34m,\u001b[0m \u001b[0mIndexError\u001b[0m\u001b[0;34m,\u001b[0m \u001b[0mAttributeError\u001b[0m\u001b[0;34m)\u001b[0m\u001b[0;34m:\u001b[0m\u001b[0;34m\u001b[0m\u001b[0;34m\u001b[0m\u001b[0m\n\u001b[1;32m   1417\u001b[0m                     \u001b[0;32mpass\u001b[0m\u001b[0;34m\u001b[0m\u001b[0;34m\u001b[0m\u001b[0m\n\u001b[0;32m-> 1418\u001b[0;31m             \u001b[0;32mreturn\u001b[0m \u001b[0mself\u001b[0m\u001b[0;34m.\u001b[0m\u001b[0m_getitem_tuple\u001b[0m\u001b[0;34m(\u001b[0m\u001b[0mkey\u001b[0m\u001b[0;34m)\u001b[0m\u001b[0;34m\u001b[0m\u001b[0;34m\u001b[0m\u001b[0m\n\u001b[0m\u001b[1;32m   1419\u001b[0m         \u001b[0;32melse\u001b[0m\u001b[0;34m:\u001b[0m\u001b[0;34m\u001b[0m\u001b[0;34m\u001b[0m\u001b[0m\n\u001b[1;32m   1420\u001b[0m             \u001b[0;31m# we by definition only have the 0th axis\u001b[0m\u001b[0;34m\u001b[0m\u001b[0;34m\u001b[0m\u001b[0;34m\u001b[0m\u001b[0m\n",
      "\u001b[0;32m~/opt/anaconda3/lib/python3.7/site-packages/pandas/core/indexing.py\u001b[0m in \u001b[0;36m_getitem_tuple\u001b[0;34m(self, tup)\u001b[0m\n\u001b[1;32m    803\u001b[0m     \u001b[0;32mdef\u001b[0m \u001b[0m_getitem_tuple\u001b[0m\u001b[0;34m(\u001b[0m\u001b[0mself\u001b[0m\u001b[0;34m,\u001b[0m \u001b[0mtup\u001b[0m\u001b[0;34m)\u001b[0m\u001b[0;34m:\u001b[0m\u001b[0;34m\u001b[0m\u001b[0;34m\u001b[0m\u001b[0m\n\u001b[1;32m    804\u001b[0m         \u001b[0;32mtry\u001b[0m\u001b[0;34m:\u001b[0m\u001b[0;34m\u001b[0m\u001b[0;34m\u001b[0m\u001b[0m\n\u001b[0;32m--> 805\u001b[0;31m             \u001b[0;32mreturn\u001b[0m \u001b[0mself\u001b[0m\u001b[0;34m.\u001b[0m\u001b[0m_getitem_lowerdim\u001b[0m\u001b[0;34m(\u001b[0m\u001b[0mtup\u001b[0m\u001b[0;34m)\u001b[0m\u001b[0;34m\u001b[0m\u001b[0;34m\u001b[0m\u001b[0m\n\u001b[0m\u001b[1;32m    806\u001b[0m         \u001b[0;32mexcept\u001b[0m \u001b[0mIndexingError\u001b[0m\u001b[0;34m:\u001b[0m\u001b[0;34m\u001b[0m\u001b[0;34m\u001b[0m\u001b[0m\n\u001b[1;32m    807\u001b[0m             \u001b[0;32mpass\u001b[0m\u001b[0;34m\u001b[0m\u001b[0;34m\u001b[0m\u001b[0m\n",
      "\u001b[0;32m~/opt/anaconda3/lib/python3.7/site-packages/pandas/core/indexing.py\u001b[0m in \u001b[0;36m_getitem_lowerdim\u001b[0;34m(self, tup)\u001b[0m\n\u001b[1;32m    927\u001b[0m         \u001b[0;32mfor\u001b[0m \u001b[0mi\u001b[0m\u001b[0;34m,\u001b[0m \u001b[0mkey\u001b[0m \u001b[0;32min\u001b[0m \u001b[0menumerate\u001b[0m\u001b[0;34m(\u001b[0m\u001b[0mtup\u001b[0m\u001b[0;34m)\u001b[0m\u001b[0;34m:\u001b[0m\u001b[0;34m\u001b[0m\u001b[0;34m\u001b[0m\u001b[0m\n\u001b[1;32m    928\u001b[0m             \u001b[0;32mif\u001b[0m \u001b[0mis_label_like\u001b[0m\u001b[0;34m(\u001b[0m\u001b[0mkey\u001b[0m\u001b[0;34m)\u001b[0m \u001b[0;32mor\u001b[0m \u001b[0misinstance\u001b[0m\u001b[0;34m(\u001b[0m\u001b[0mkey\u001b[0m\u001b[0;34m,\u001b[0m \u001b[0mtuple\u001b[0m\u001b[0;34m)\u001b[0m\u001b[0;34m:\u001b[0m\u001b[0;34m\u001b[0m\u001b[0;34m\u001b[0m\u001b[0m\n\u001b[0;32m--> 929\u001b[0;31m                 \u001b[0msection\u001b[0m \u001b[0;34m=\u001b[0m \u001b[0mself\u001b[0m\u001b[0;34m.\u001b[0m\u001b[0m_getitem_axis\u001b[0m\u001b[0;34m(\u001b[0m\u001b[0mkey\u001b[0m\u001b[0;34m,\u001b[0m \u001b[0maxis\u001b[0m\u001b[0;34m=\u001b[0m\u001b[0mi\u001b[0m\u001b[0;34m)\u001b[0m\u001b[0;34m\u001b[0m\u001b[0;34m\u001b[0m\u001b[0m\n\u001b[0m\u001b[1;32m    930\u001b[0m \u001b[0;34m\u001b[0m\u001b[0m\n\u001b[1;32m    931\u001b[0m                 \u001b[0;31m# we have yielded a scalar ?\u001b[0m\u001b[0;34m\u001b[0m\u001b[0;34m\u001b[0m\u001b[0;34m\u001b[0m\u001b[0m\n",
      "\u001b[0;32m~/opt/anaconda3/lib/python3.7/site-packages/pandas/core/indexing.py\u001b[0m in \u001b[0;36m_getitem_axis\u001b[0;34m(self, key, axis)\u001b[0m\n\u001b[1;32m   1848\u001b[0m         \u001b[0;31m# fall thru to straight lookup\u001b[0m\u001b[0;34m\u001b[0m\u001b[0;34m\u001b[0m\u001b[0;34m\u001b[0m\u001b[0m\n\u001b[1;32m   1849\u001b[0m         \u001b[0mself\u001b[0m\u001b[0;34m.\u001b[0m\u001b[0m_validate_key\u001b[0m\u001b[0;34m(\u001b[0m\u001b[0mkey\u001b[0m\u001b[0;34m,\u001b[0m \u001b[0maxis\u001b[0m\u001b[0;34m)\u001b[0m\u001b[0;34m\u001b[0m\u001b[0;34m\u001b[0m\u001b[0m\n\u001b[0;32m-> 1850\u001b[0;31m         \u001b[0;32mreturn\u001b[0m \u001b[0mself\u001b[0m\u001b[0;34m.\u001b[0m\u001b[0m_get_label\u001b[0m\u001b[0;34m(\u001b[0m\u001b[0mkey\u001b[0m\u001b[0;34m,\u001b[0m \u001b[0maxis\u001b[0m\u001b[0;34m=\u001b[0m\u001b[0maxis\u001b[0m\u001b[0;34m)\u001b[0m\u001b[0;34m\u001b[0m\u001b[0;34m\u001b[0m\u001b[0m\n\u001b[0m\u001b[1;32m   1851\u001b[0m \u001b[0;34m\u001b[0m\u001b[0m\n\u001b[1;32m   1852\u001b[0m \u001b[0;34m\u001b[0m\u001b[0m\n",
      "\u001b[0;32m~/opt/anaconda3/lib/python3.7/site-packages/pandas/core/indexing.py\u001b[0m in \u001b[0;36m_get_label\u001b[0;34m(self, label, axis)\u001b[0m\n\u001b[1;32m    158\u001b[0m             \u001b[0;32mraise\u001b[0m \u001b[0mIndexingError\u001b[0m\u001b[0;34m(\u001b[0m\u001b[0;34m\"no slices here, handle elsewhere\"\u001b[0m\u001b[0;34m)\u001b[0m\u001b[0;34m\u001b[0m\u001b[0;34m\u001b[0m\u001b[0m\n\u001b[1;32m    159\u001b[0m \u001b[0;34m\u001b[0m\u001b[0m\n\u001b[0;32m--> 160\u001b[0;31m         \u001b[0;32mreturn\u001b[0m \u001b[0mself\u001b[0m\u001b[0;34m.\u001b[0m\u001b[0mobj\u001b[0m\u001b[0;34m.\u001b[0m\u001b[0m_xs\u001b[0m\u001b[0;34m(\u001b[0m\u001b[0mlabel\u001b[0m\u001b[0;34m,\u001b[0m \u001b[0maxis\u001b[0m\u001b[0;34m=\u001b[0m\u001b[0maxis\u001b[0m\u001b[0;34m)\u001b[0m\u001b[0;34m\u001b[0m\u001b[0;34m\u001b[0m\u001b[0m\n\u001b[0m\u001b[1;32m    161\u001b[0m \u001b[0;34m\u001b[0m\u001b[0m\n\u001b[1;32m    162\u001b[0m     \u001b[0;32mdef\u001b[0m \u001b[0m_get_loc\u001b[0m\u001b[0;34m(\u001b[0m\u001b[0mself\u001b[0m\u001b[0;34m,\u001b[0m \u001b[0mkey\u001b[0m\u001b[0;34m:\u001b[0m \u001b[0mint\u001b[0m\u001b[0;34m,\u001b[0m \u001b[0maxis\u001b[0m\u001b[0;34m:\u001b[0m \u001b[0mint\u001b[0m\u001b[0;34m)\u001b[0m\u001b[0;34m:\u001b[0m\u001b[0;34m\u001b[0m\u001b[0;34m\u001b[0m\u001b[0m\n",
      "\u001b[0;32m~/opt/anaconda3/lib/python3.7/site-packages/pandas/core/generic.py\u001b[0m in \u001b[0;36mxs\u001b[0;34m(self, key, axis, level, drop_level)\u001b[0m\n\u001b[1;32m   3727\u001b[0m \u001b[0;34m\u001b[0m\u001b[0m\n\u001b[1;32m   3728\u001b[0m         \u001b[0;32mif\u001b[0m \u001b[0maxis\u001b[0m \u001b[0;34m==\u001b[0m \u001b[0;36m1\u001b[0m\u001b[0;34m:\u001b[0m\u001b[0;34m\u001b[0m\u001b[0;34m\u001b[0m\u001b[0m\n\u001b[0;32m-> 3729\u001b[0;31m             \u001b[0;32mreturn\u001b[0m \u001b[0mself\u001b[0m\u001b[0;34m[\u001b[0m\u001b[0mkey\u001b[0m\u001b[0;34m]\u001b[0m\u001b[0;34m\u001b[0m\u001b[0;34m\u001b[0m\u001b[0m\n\u001b[0m\u001b[1;32m   3730\u001b[0m \u001b[0;34m\u001b[0m\u001b[0m\n\u001b[1;32m   3731\u001b[0m         \u001b[0mself\u001b[0m\u001b[0;34m.\u001b[0m\u001b[0m_consolidate_inplace\u001b[0m\u001b[0;34m(\u001b[0m\u001b[0;34m)\u001b[0m\u001b[0;34m\u001b[0m\u001b[0;34m\u001b[0m\u001b[0m\n",
      "\u001b[0;32m~/opt/anaconda3/lib/python3.7/site-packages/pandas/core/frame.py\u001b[0m in \u001b[0;36m__getitem__\u001b[0;34m(self, key)\u001b[0m\n\u001b[1;32m   2993\u001b[0m             \u001b[0;32mif\u001b[0m \u001b[0mself\u001b[0m\u001b[0;34m.\u001b[0m\u001b[0mcolumns\u001b[0m\u001b[0;34m.\u001b[0m\u001b[0mnlevels\u001b[0m \u001b[0;34m>\u001b[0m \u001b[0;36m1\u001b[0m\u001b[0;34m:\u001b[0m\u001b[0;34m\u001b[0m\u001b[0;34m\u001b[0m\u001b[0m\n\u001b[1;32m   2994\u001b[0m                 \u001b[0;32mreturn\u001b[0m \u001b[0mself\u001b[0m\u001b[0;34m.\u001b[0m\u001b[0m_getitem_multilevel\u001b[0m\u001b[0;34m(\u001b[0m\u001b[0mkey\u001b[0m\u001b[0;34m)\u001b[0m\u001b[0;34m\u001b[0m\u001b[0;34m\u001b[0m\u001b[0m\n\u001b[0;32m-> 2995\u001b[0;31m             \u001b[0mindexer\u001b[0m \u001b[0;34m=\u001b[0m \u001b[0mself\u001b[0m\u001b[0;34m.\u001b[0m\u001b[0mcolumns\u001b[0m\u001b[0;34m.\u001b[0m\u001b[0mget_loc\u001b[0m\u001b[0;34m(\u001b[0m\u001b[0mkey\u001b[0m\u001b[0;34m)\u001b[0m\u001b[0;34m\u001b[0m\u001b[0;34m\u001b[0m\u001b[0m\n\u001b[0m\u001b[1;32m   2996\u001b[0m             \u001b[0;32mif\u001b[0m \u001b[0mis_integer\u001b[0m\u001b[0;34m(\u001b[0m\u001b[0mindexer\u001b[0m\u001b[0;34m)\u001b[0m\u001b[0;34m:\u001b[0m\u001b[0;34m\u001b[0m\u001b[0;34m\u001b[0m\u001b[0m\n\u001b[1;32m   2997\u001b[0m                 \u001b[0mindexer\u001b[0m \u001b[0;34m=\u001b[0m \u001b[0;34m[\u001b[0m\u001b[0mindexer\u001b[0m\u001b[0;34m]\u001b[0m\u001b[0;34m\u001b[0m\u001b[0;34m\u001b[0m\u001b[0m\n",
      "\u001b[0;32m~/opt/anaconda3/lib/python3.7/site-packages/pandas/core/indexes/base.py\u001b[0m in \u001b[0;36mget_loc\u001b[0;34m(self, key, method, tolerance)\u001b[0m\n\u001b[1;32m   2897\u001b[0m                 \u001b[0;32mreturn\u001b[0m \u001b[0mself\u001b[0m\u001b[0;34m.\u001b[0m\u001b[0m_engine\u001b[0m\u001b[0;34m.\u001b[0m\u001b[0mget_loc\u001b[0m\u001b[0;34m(\u001b[0m\u001b[0mkey\u001b[0m\u001b[0;34m)\u001b[0m\u001b[0;34m\u001b[0m\u001b[0;34m\u001b[0m\u001b[0m\n\u001b[1;32m   2898\u001b[0m             \u001b[0;32mexcept\u001b[0m \u001b[0mKeyError\u001b[0m\u001b[0;34m:\u001b[0m\u001b[0;34m\u001b[0m\u001b[0;34m\u001b[0m\u001b[0m\n\u001b[0;32m-> 2899\u001b[0;31m                 \u001b[0;32mreturn\u001b[0m \u001b[0mself\u001b[0m\u001b[0;34m.\u001b[0m\u001b[0m_engine\u001b[0m\u001b[0;34m.\u001b[0m\u001b[0mget_loc\u001b[0m\u001b[0;34m(\u001b[0m\u001b[0mself\u001b[0m\u001b[0;34m.\u001b[0m\u001b[0m_maybe_cast_indexer\u001b[0m\u001b[0;34m(\u001b[0m\u001b[0mkey\u001b[0m\u001b[0;34m)\u001b[0m\u001b[0;34m)\u001b[0m\u001b[0;34m\u001b[0m\u001b[0;34m\u001b[0m\u001b[0m\n\u001b[0m\u001b[1;32m   2900\u001b[0m         \u001b[0mindexer\u001b[0m \u001b[0;34m=\u001b[0m \u001b[0mself\u001b[0m\u001b[0;34m.\u001b[0m\u001b[0mget_indexer\u001b[0m\u001b[0;34m(\u001b[0m\u001b[0;34m[\u001b[0m\u001b[0mkey\u001b[0m\u001b[0;34m]\u001b[0m\u001b[0;34m,\u001b[0m \u001b[0mmethod\u001b[0m\u001b[0;34m=\u001b[0m\u001b[0mmethod\u001b[0m\u001b[0;34m,\u001b[0m \u001b[0mtolerance\u001b[0m\u001b[0;34m=\u001b[0m\u001b[0mtolerance\u001b[0m\u001b[0;34m)\u001b[0m\u001b[0;34m\u001b[0m\u001b[0;34m\u001b[0m\u001b[0m\n\u001b[1;32m   2901\u001b[0m         \u001b[0;32mif\u001b[0m \u001b[0mindexer\u001b[0m\u001b[0;34m.\u001b[0m\u001b[0mndim\u001b[0m \u001b[0;34m>\u001b[0m \u001b[0;36m1\u001b[0m \u001b[0;32mor\u001b[0m \u001b[0mindexer\u001b[0m\u001b[0;34m.\u001b[0m\u001b[0msize\u001b[0m \u001b[0;34m>\u001b[0m \u001b[0;36m1\u001b[0m\u001b[0;34m:\u001b[0m\u001b[0;34m\u001b[0m\u001b[0;34m\u001b[0m\u001b[0m\n",
      "\u001b[0;32mpandas/_libs/index.pyx\u001b[0m in \u001b[0;36mpandas._libs.index.IndexEngine.get_loc\u001b[0;34m()\u001b[0m\n",
      "\u001b[0;32mpandas/_libs/index.pyx\u001b[0m in \u001b[0;36mpandas._libs.index.IndexEngine.get_loc\u001b[0;34m()\u001b[0m\n",
      "\u001b[0;32mpandas/_libs/hashtable_class_helper.pxi\u001b[0m in \u001b[0;36mpandas._libs.hashtable.PyObjectHashTable.get_item\u001b[0;34m()\u001b[0m\n",
      "\u001b[0;32mpandas/_libs/hashtable_class_helper.pxi\u001b[0m in \u001b[0;36mpandas._libs.hashtable.PyObjectHashTable.get_item\u001b[0;34m()\u001b[0m\n",
      "\u001b[0;31mKeyError\u001b[0m: '地區名'"
     ]
    },
    {
     "data": {
      "text/plain": [
       "<Figure size 500x500 with 0 Axes>"
      ]
     },
     "metadata": {},
     "output_type": "display_data"
    }
   ],
   "source": [
    "clinic = ['診所', '醫院'] \n",
    "F = plt.figure(figsize=(5,5), dpi=100)\n",
    "no1 = data[(data.loc[:,'地區名'] == '北投區') & (data.loc[:,'縣市名'] == '臺北市')][school]\n",
    "x1 = list(range(0, len(school)))\n",
    "y1 = no1.values.flatten()\n",
    "no2 = data[(data.loc[:,'地區名'] == '信義區') & (data.loc[:,'縣市名'] == '臺北市')][school]\n",
    "y2 = no2 .values.flatten()\n",
    "no3 = data[(data.loc[:,'地區名'] == '松山區') & (data.loc[:,'縣市名'] == '臺北市')][school]\n",
    "y3 = no3.values.flatten()\n",
    "\n",
    "\n",
    "\n",
    "width = 0.25   #先設定每個長條的寬度\n",
    "print([i-width for i in x_all],y1)\n",
    "plt.bar([i-width for i in x_all], y1, height=width, label= (self.cities[0]+self.regions[0])) #注意這裡的X軸座標為x1中的數據減去寬度的一半\n",
    "plt.bar([i for i in x_all], y2, height=width, label=(self.cities[1]+self.regions[1]))        #注意這裡的X軸座標為x1中的數據加上寬度的一半\n",
    "plt.bar([i+width for i in x_all], y3, height=width, label=(self.cities[2]+self.regions[2]))\n",
    "plt.xticks(x_all,school)\n",
    "plt.legend()\n",
    "plt.title('各級學校數目')\n",
    "   "
   ]
  },
  {
   "cell_type": "code",
   "execution_count": null,
   "metadata": {},
   "outputs": [],
   "source": []
  },
  {
   "cell_type": "code",
   "execution_count": 32,
   "metadata": {},
   "outputs": [
    {
     "data": {
      "text/html": [
       "<div>\n",
       "<style scoped>\n",
       "    .dataframe tbody tr th:only-of-type {\n",
       "        vertical-align: middle;\n",
       "    }\n",
       "\n",
       "    .dataframe tbody tr th {\n",
       "        vertical-align: top;\n",
       "    }\n",
       "\n",
       "    .dataframe thead th {\n",
       "        text-align: right;\n",
       "    }\n",
       "</style>\n",
       "<table border=\"1\" class=\"dataframe\">\n",
       "  <thead>\n",
       "    <tr style=\"text-align: right;\">\n",
       "      <th></th>\n",
       "      <th>縣市名</th>\n",
       "      <th>地區名</th>\n",
       "      <th>日期</th>\n",
       "      <th>PM 2.5</th>\n",
       "      <th>最近縣市</th>\n",
       "    </tr>\n",
       "  </thead>\n",
       "  <tbody>\n",
       "    <tr>\n",
       "      <th>0</th>\n",
       "      <td>臺北市</td>\n",
       "      <td>中正區</td>\n",
       "      <td>2019/01</td>\n",
       "      <td>15</td>\n",
       "      <td>新北市永和區</td>\n",
       "    </tr>\n",
       "    <tr>\n",
       "      <th>1</th>\n",
       "      <td>臺北市</td>\n",
       "      <td>中正區</td>\n",
       "      <td>2019/02</td>\n",
       "      <td>16</td>\n",
       "      <td>新北市永和區</td>\n",
       "    </tr>\n",
       "    <tr>\n",
       "      <th>2</th>\n",
       "      <td>臺北市</td>\n",
       "      <td>中正區</td>\n",
       "      <td>2019/03</td>\n",
       "      <td>19</td>\n",
       "      <td>新北市永和區</td>\n",
       "    </tr>\n",
       "    <tr>\n",
       "      <th>3</th>\n",
       "      <td>臺北市</td>\n",
       "      <td>中正區</td>\n",
       "      <td>2019/04</td>\n",
       "      <td>20</td>\n",
       "      <td>新北市永和區</td>\n",
       "    </tr>\n",
       "    <tr>\n",
       "      <th>4</th>\n",
       "      <td>臺北市</td>\n",
       "      <td>中正區</td>\n",
       "      <td>2019/05</td>\n",
       "      <td>13</td>\n",
       "      <td>新北市永和區</td>\n",
       "    </tr>\n",
       "    <tr>\n",
       "      <th>...</th>\n",
       "      <td>...</td>\n",
       "      <td>...</td>\n",
       "      <td>...</td>\n",
       "      <td>...</td>\n",
       "      <td>...</td>\n",
       "    </tr>\n",
       "    <tr>\n",
       "      <th>4021</th>\n",
       "      <td>花蓮縣</td>\n",
       "      <td>富里鄉</td>\n",
       "      <td>2019/07</td>\n",
       "      <td>8</td>\n",
       "      <td>臺東縣關山鎮</td>\n",
       "    </tr>\n",
       "    <tr>\n",
       "      <th>4022</th>\n",
       "      <td>花蓮縣</td>\n",
       "      <td>富里鄉</td>\n",
       "      <td>2019/08</td>\n",
       "      <td>6</td>\n",
       "      <td>臺東縣關山鎮</td>\n",
       "    </tr>\n",
       "    <tr>\n",
       "      <th>4023</th>\n",
       "      <td>花蓮縣</td>\n",
       "      <td>富里鄉</td>\n",
       "      <td>2019/09</td>\n",
       "      <td>8</td>\n",
       "      <td>臺東縣關山鎮</td>\n",
       "    </tr>\n",
       "    <tr>\n",
       "      <th>4024</th>\n",
       "      <td>花蓮縣</td>\n",
       "      <td>富里鄉</td>\n",
       "      <td>2019/10</td>\n",
       "      <td>11</td>\n",
       "      <td>臺東縣關山鎮</td>\n",
       "    </tr>\n",
       "    <tr>\n",
       "      <th>4025</th>\n",
       "      <td>花蓮縣</td>\n",
       "      <td>富里鄉</td>\n",
       "      <td>2019/11</td>\n",
       "      <td>9</td>\n",
       "      <td>臺東縣關山鎮</td>\n",
       "    </tr>\n",
       "  </tbody>\n",
       "</table>\n",
       "<p>4026 rows × 5 columns</p>\n",
       "</div>"
      ],
      "text/plain": [
       "      縣市名  地區名       日期  PM 2.5    最近縣市\n",
       "0     臺北市  中正區  2019/01      15  新北市永和區\n",
       "1     臺北市  中正區  2019/02      16  新北市永和區\n",
       "2     臺北市  中正區  2019/03      19  新北市永和區\n",
       "3     臺北市  中正區  2019/04      20  新北市永和區\n",
       "4     臺北市  中正區  2019/05      13  新北市永和區\n",
       "...   ...  ...      ...     ...     ...\n",
       "4021  花蓮縣  富里鄉  2019/07       8  臺東縣關山鎮\n",
       "4022  花蓮縣  富里鄉  2019/08       6  臺東縣關山鎮\n",
       "4023  花蓮縣  富里鄉  2019/09       8  臺東縣關山鎮\n",
       "4024  花蓮縣  富里鄉  2019/10      11  臺東縣關山鎮\n",
       "4025  花蓮縣  富里鄉  2019/11       9  臺東縣關山鎮\n",
       "\n",
       "[4026 rows x 5 columns]"
      ]
     },
     "execution_count": 32,
     "metadata": {},
     "output_type": "execute_result"
    }
   ],
   "source": [
    "data = pd.read_csv('air_pollution.csv')\n",
    "data"
   ]
  },
  {
   "cell_type": "code",
   "execution_count": 55,
   "metadata": {},
   "outputs": [
    {
     "data": {
      "image/png": "[encoded data removed]",
      "text/plain": [
       "<Figure size 500x500 with 1 Axes>"
      ]
     },
     "metadata": {
      "needs_background": "light"
     },
     "output_type": "display_data"
    }
   ],
   "source": [
    "F = plt.figure(figsize=(5,5), dpi=100)\n",
    "no1 = data[(data.loc[:,'地區名'] == '北投區') & (data.loc[:,'縣市名'] == '臺北市')]['PM 2.5']\n",
    "x1 = list(range(0, 11))\n",
    "y1 = no1.values.flatten()\n",
    "no2 = data[(data.loc[:,'地區名'] == '信義區') & (data.loc[:,'縣市名'] == '臺北市')]['PM 2.5']\n",
    "y2 = no2 .values.flatten()\n",
    "no3 = data[(data.loc[:,'地區名'] == '松山區') & (data.loc[:,'縣市名'] == '臺北市')]['PM 2.5']\n",
    "y3 = no3.values.flatten()\n",
    "\n",
    "\n",
    "plt.plot(x1,y1)\n",
    "plt.plot(x1,y2)\n",
    "plt.plot(x1,y3)\n",
    "date = [('2019/'+str(x)) for x in range(1,12)]\n",
    "plt.xticks(x1,date, rotation = 45)\n",
    "plt.title('空氣品質')\n",
    "plt.show()"
   ]
  },
  {
   "cell_type": "code",
   "execution_count": 54,
   "metadata": {},
   "outputs": [
    {
     "data": {
      "image/png": "[encoded data removed]",
      "text/plain": [
       "<Figure size 432x288 with 1 Axes>"
      ]
     },
     "metadata": {
      "needs_background": "light"
     },
     "output_type": "display_data"
    }
   ],
   "source": [
    "plt.plot(x1,y1)\n",
    "plt.plot(x1,y2)\n",
    "plt.plot(x1,y3)\n",
    "date = [('2019/'+str(x)) for x in range(1,12)]\n",
    "plt.xticks(x1,date, rotation = 45)\n",
    "plt.show()"
   ]
  },
  {
   "cell_type": "code",
   "execution_count": 48,
   "metadata": {},
   "outputs": [
    {
     "data": {
      "text/plain": [
       "array([15, 14, 19, 20, 14, 13, 12, 10, 10, 17, 15])"
      ]
     },
     "execution_count": 48,
     "metadata": {},
     "output_type": "execute_result"
    }
   ],
   "source": [
    "y3"
   ]
  },
  {
   "cell_type": "code",
   "execution_count": 87,
   "metadata": {},
   "outputs": [],
   "source": []
  },
  {
   "cell_type": "code",
   "execution_count": 78,
   "metadata": {},
   "outputs": [],
   "source": []
  },
  {
   "cell_type": "code",
   "execution_count": 1,
   "metadata": {},
   "outputs": [],
   "source": []
  },
  {
   "cell_type": "code",
   "execution_count": null,
   "metadata": {},
   "outputs": [],
   "source": []
  }
 ],
 "metadata": {
  "kernelspec": {
   "display_name": "Python 3",
   "language": "python",
   "name": "python3"
  },
  "language_info": {
   "codemirror_mode": {
    "name": "ipython",
    "version": 3
   },
   "file_extension": ".py",
   "mimetype": "text/x-python",
   "name": "python",
   "nbconvert_exporter": "python",
   "pygments_lexer": "ipython3",
   "version": "3.7.5"
  }
 },
 "nbformat": 4,
 "nbformat_minor": 2
}
